{
  "nbformat": 4,
  "nbformat_minor": 0,
  "metadata": {
    "colab": {
      "name": "[DACON] 한국어 문장 관계 분류 경진대회",
      "provenance": [],
      "collapsed_sections": [
        "aBRbOpuAUEg0"
      ],
      "authorship_tag": "ABX9TyOP0d8EraWF6WEQ0Fiwf1fK",
      "include_colab_link": true
    },
    "kernelspec": {
      "name": "python3",
      "display_name": "Python 3"
    },
    "language_info": {
      "name": "python"
    },
    "accelerator": "GPU",
    "widgets": {
      "application/vnd.jupyter.widget-state+json": {
        "9999f2f0fbdd401d89c54a6e426a0285": {
          "model_module": "@jupyter-widgets/controls",
          "model_name": "HBoxModel",
          "model_module_version": "1.5.0",
          "state": {
            "_dom_classes": [],
            "_model_module": "@jupyter-widgets/controls",
            "_model_module_version": "1.5.0",
            "_model_name": "HBoxModel",
            "_view_count": null,
            "_view_module": "@jupyter-widgets/controls",
            "_view_module_version": "1.5.0",
            "_view_name": "HBoxView",
            "box_style": "",
            "children": [
              "IPY_MODEL_d8f03fc2a3ce49abb87c75bbf1fedd4a",
              "IPY_MODEL_8cf53e21cde24ad6a8f0a74777831d5d",
              "IPY_MODEL_63c7deb9ee6249ae8a621c1adbb3fb36"
            ],
            "layout": "IPY_MODEL_7526510692aa452c8cf89a470edf8d97"
          }
        },
        "d8f03fc2a3ce49abb87c75bbf1fedd4a": {
          "model_module": "@jupyter-widgets/controls",
          "model_name": "HTMLModel",
          "model_module_version": "1.5.0",
          "state": {
            "_dom_classes": [],
            "_model_module": "@jupyter-widgets/controls",
            "_model_module_version": "1.5.0",
            "_model_name": "HTMLModel",
            "_view_count": null,
            "_view_module": "@jupyter-widgets/controls",
            "_view_module_version": "1.5.0",
            "_view_name": "HTMLView",
            "description": "",
            "description_tooltip": null,
            "layout": "IPY_MODEL_5e08cb08e64847399cd07c586f089340",
            "placeholder": "​",
            "style": "IPY_MODEL_e486251ddb184f939acd42d9cecaaf41",
            "value": "100%"
          }
        },
        "8cf53e21cde24ad6a8f0a74777831d5d": {
          "model_module": "@jupyter-widgets/controls",
          "model_name": "FloatProgressModel",
          "model_module_version": "1.5.0",
          "state": {
            "_dom_classes": [],
            "_model_module": "@jupyter-widgets/controls",
            "_model_module_version": "1.5.0",
            "_model_name": "FloatProgressModel",
            "_view_count": null,
            "_view_module": "@jupyter-widgets/controls",
            "_view_module_version": "1.5.0",
            "_view_name": "ProgressView",
            "bar_style": "success",
            "description": "",
            "description_tooltip": null,
            "layout": "IPY_MODEL_79b11770703d422688f47587201943a6",
            "max": 24998,
            "min": 0,
            "orientation": "horizontal",
            "style": "IPY_MODEL_030bcb5c1bb64ac2b889489a8a0849a8",
            "value": 24998
          }
        },
        "63c7deb9ee6249ae8a621c1adbb3fb36": {
          "model_module": "@jupyter-widgets/controls",
          "model_name": "HTMLModel",
          "model_module_version": "1.5.0",
          "state": {
            "_dom_classes": [],
            "_model_module": "@jupyter-widgets/controls",
            "_model_module_version": "1.5.0",
            "_model_name": "HTMLModel",
            "_view_count": null,
            "_view_module": "@jupyter-widgets/controls",
            "_view_module_version": "1.5.0",
            "_view_name": "HTMLView",
            "description": "",
            "description_tooltip": null,
            "layout": "IPY_MODEL_d18b689003814c29bf8ba11252d4f4d1",
            "placeholder": "​",
            "style": "IPY_MODEL_3a5e3d6a6e7e40818abb407f2457af3e",
            "value": " 24998/24998 [02:06&lt;00:00, 203.66it/s]"
          }
        },
        "7526510692aa452c8cf89a470edf8d97": {
          "model_module": "@jupyter-widgets/base",
          "model_name": "LayoutModel",
          "model_module_version": "1.2.0",
          "state": {
            "_model_module": "@jupyter-widgets/base",
            "_model_module_version": "1.2.0",
            "_model_name": "LayoutModel",
            "_view_count": null,
            "_view_module": "@jupyter-widgets/base",
            "_view_module_version": "1.2.0",
            "_view_name": "LayoutView",
            "align_content": null,
            "align_items": null,
            "align_self": null,
            "border": null,
            "bottom": null,
            "display": null,
            "flex": null,
            "flex_flow": null,
            "grid_area": null,
            "grid_auto_columns": null,
            "grid_auto_flow": null,
            "grid_auto_rows": null,
            "grid_column": null,
            "grid_gap": null,
            "grid_row": null,
            "grid_template_areas": null,
            "grid_template_columns": null,
            "grid_template_rows": null,
            "height": null,
            "justify_content": null,
            "justify_items": null,
            "left": null,
            "margin": null,
            "max_height": null,
            "max_width": null,
            "min_height": null,
            "min_width": null,
            "object_fit": null,
            "object_position": null,
            "order": null,
            "overflow": null,
            "overflow_x": null,
            "overflow_y": null,
            "padding": null,
            "right": null,
            "top": null,
            "visibility": null,
            "width": null
          }
        },
        "5e08cb08e64847399cd07c586f089340": {
          "model_module": "@jupyter-widgets/base",
          "model_name": "LayoutModel",
          "model_module_version": "1.2.0",
          "state": {
            "_model_module": "@jupyter-widgets/base",
            "_model_module_version": "1.2.0",
            "_model_name": "LayoutModel",
            "_view_count": null,
            "_view_module": "@jupyter-widgets/base",
            "_view_module_version": "1.2.0",
            "_view_name": "LayoutView",
            "align_content": null,
            "align_items": null,
            "align_self": null,
            "border": null,
            "bottom": null,
            "display": null,
            "flex": null,
            "flex_flow": null,
            "grid_area": null,
            "grid_auto_columns": null,
            "grid_auto_flow": null,
            "grid_auto_rows": null,
            "grid_column": null,
            "grid_gap": null,
            "grid_row": null,
            "grid_template_areas": null,
            "grid_template_columns": null,
            "grid_template_rows": null,
            "height": null,
            "justify_content": null,
            "justify_items": null,
            "left": null,
            "margin": null,
            "max_height": null,
            "max_width": null,
            "min_height": null,
            "min_width": null,
            "object_fit": null,
            "object_position": null,
            "order": null,
            "overflow": null,
            "overflow_x": null,
            "overflow_y": null,
            "padding": null,
            "right": null,
            "top": null,
            "visibility": null,
            "width": null
          }
        },
        "e486251ddb184f939acd42d9cecaaf41": {
          "model_module": "@jupyter-widgets/controls",
          "model_name": "DescriptionStyleModel",
          "model_module_version": "1.5.0",
          "state": {
            "_model_module": "@jupyter-widgets/controls",
            "_model_module_version": "1.5.0",
            "_model_name": "DescriptionStyleModel",
            "_view_count": null,
            "_view_module": "@jupyter-widgets/base",
            "_view_module_version": "1.2.0",
            "_view_name": "StyleView",
            "description_width": ""
          }
        },
        "79b11770703d422688f47587201943a6": {
          "model_module": "@jupyter-widgets/base",
          "model_name": "LayoutModel",
          "model_module_version": "1.2.0",
          "state": {
            "_model_module": "@jupyter-widgets/base",
            "_model_module_version": "1.2.0",
            "_model_name": "LayoutModel",
            "_view_count": null,
            "_view_module": "@jupyter-widgets/base",
            "_view_module_version": "1.2.0",
            "_view_name": "LayoutView",
            "align_content": null,
            "align_items": null,
            "align_self": null,
            "border": null,
            "bottom": null,
            "display": null,
            "flex": null,
            "flex_flow": null,
            "grid_area": null,
            "grid_auto_columns": null,
            "grid_auto_flow": null,
            "grid_auto_rows": null,
            "grid_column": null,
            "grid_gap": null,
            "grid_row": null,
            "grid_template_areas": null,
            "grid_template_columns": null,
            "grid_template_rows": null,
            "height": null,
            "justify_content": null,
            "justify_items": null,
            "left": null,
            "margin": null,
            "max_height": null,
            "max_width": null,
            "min_height": null,
            "min_width": null,
            "object_fit": null,
            "object_position": null,
            "order": null,
            "overflow": null,
            "overflow_x": null,
            "overflow_y": null,
            "padding": null,
            "right": null,
            "top": null,
            "visibility": null,
            "width": null
          }
        },
        "030bcb5c1bb64ac2b889489a8a0849a8": {
          "model_module": "@jupyter-widgets/controls",
          "model_name": "ProgressStyleModel",
          "model_module_version": "1.5.0",
          "state": {
            "_model_module": "@jupyter-widgets/controls",
            "_model_module_version": "1.5.0",
            "_model_name": "ProgressStyleModel",
            "_view_count": null,
            "_view_module": "@jupyter-widgets/base",
            "_view_module_version": "1.2.0",
            "_view_name": "StyleView",
            "bar_color": null,
            "description_width": ""
          }
        },
        "d18b689003814c29bf8ba11252d4f4d1": {
          "model_module": "@jupyter-widgets/base",
          "model_name": "LayoutModel",
          "model_module_version": "1.2.0",
          "state": {
            "_model_module": "@jupyter-widgets/base",
            "_model_module_version": "1.2.0",
            "_model_name": "LayoutModel",
            "_view_count": null,
            "_view_module": "@jupyter-widgets/base",
            "_view_module_version": "1.2.0",
            "_view_name": "LayoutView",
            "align_content": null,
            "align_items": null,
            "align_self": null,
            "border": null,
            "bottom": null,
            "display": null,
            "flex": null,
            "flex_flow": null,
            "grid_area": null,
            "grid_auto_columns": null,
            "grid_auto_flow": null,
            "grid_auto_rows": null,
            "grid_column": null,
            "grid_gap": null,
            "grid_row": null,
            "grid_template_areas": null,
            "grid_template_columns": null,
            "grid_template_rows": null,
            "height": null,
            "justify_content": null,
            "justify_items": null,
            "left": null,
            "margin": null,
            "max_height": null,
            "max_width": null,
            "min_height": null,
            "min_width": null,
            "object_fit": null,
            "object_position": null,
            "order": null,
            "overflow": null,
            "overflow_x": null,
            "overflow_y": null,
            "padding": null,
            "right": null,
            "top": null,
            "visibility": null,
            "width": null
          }
        },
        "3a5e3d6a6e7e40818abb407f2457af3e": {
          "model_module": "@jupyter-widgets/controls",
          "model_name": "DescriptionStyleModel",
          "model_module_version": "1.5.0",
          "state": {
            "_model_module": "@jupyter-widgets/controls",
            "_model_module_version": "1.5.0",
            "_model_name": "DescriptionStyleModel",
            "_view_count": null,
            "_view_module": "@jupyter-widgets/base",
            "_view_module_version": "1.2.0",
            "_view_name": "StyleView",
            "description_width": ""
          }
        },
        "e37851f197af47b7bd1d1eba228eaa52": {
          "model_module": "@jupyter-widgets/controls",
          "model_name": "HBoxModel",
          "model_module_version": "1.5.0",
          "state": {
            "_dom_classes": [],
            "_model_module": "@jupyter-widgets/controls",
            "_model_module_version": "1.5.0",
            "_model_name": "HBoxModel",
            "_view_count": null,
            "_view_module": "@jupyter-widgets/controls",
            "_view_module_version": "1.5.0",
            "_view_name": "HBoxView",
            "box_style": "",
            "children": [
              "IPY_MODEL_4bdea45ed47141958ab277e51ac71d10",
              "IPY_MODEL_49828c28ed6c445c87cbb390cf514c9a",
              "IPY_MODEL_73c7bf2ddd394913b90d15a934306897"
            ],
            "layout": "IPY_MODEL_18cebfa4b95940469a1059c782003830"
          }
        },
        "4bdea45ed47141958ab277e51ac71d10": {
          "model_module": "@jupyter-widgets/controls",
          "model_name": "HTMLModel",
          "model_module_version": "1.5.0",
          "state": {
            "_dom_classes": [],
            "_model_module": "@jupyter-widgets/controls",
            "_model_module_version": "1.5.0",
            "_model_name": "HTMLModel",
            "_view_count": null,
            "_view_module": "@jupyter-widgets/controls",
            "_view_module_version": "1.5.0",
            "_view_name": "HTMLView",
            "description": "",
            "description_tooltip": null,
            "layout": "IPY_MODEL_5855f0447f16402fa870c10f9f9ceda4",
            "placeholder": "​",
            "style": "IPY_MODEL_cc82e08851234cc29a4dc152f5fb2ce8",
            "value": "100%"
          }
        },
        "49828c28ed6c445c87cbb390cf514c9a": {
          "model_module": "@jupyter-widgets/controls",
          "model_name": "FloatProgressModel",
          "model_module_version": "1.5.0",
          "state": {
            "_dom_classes": [],
            "_model_module": "@jupyter-widgets/controls",
            "_model_module_version": "1.5.0",
            "_model_name": "FloatProgressModel",
            "_view_count": null,
            "_view_module": "@jupyter-widgets/controls",
            "_view_module_version": "1.5.0",
            "_view_name": "ProgressView",
            "bar_style": "success",
            "description": "",
            "description_tooltip": null,
            "layout": "IPY_MODEL_405ca522911240609b8eb451f0642409",
            "max": 24998,
            "min": 0,
            "orientation": "horizontal",
            "style": "IPY_MODEL_16e2bcd747b545c28b63fd36c688b1fe",
            "value": 24998
          }
        },
        "73c7bf2ddd394913b90d15a934306897": {
          "model_module": "@jupyter-widgets/controls",
          "model_name": "HTMLModel",
          "model_module_version": "1.5.0",
          "state": {
            "_dom_classes": [],
            "_model_module": "@jupyter-widgets/controls",
            "_model_module_version": "1.5.0",
            "_model_name": "HTMLModel",
            "_view_count": null,
            "_view_module": "@jupyter-widgets/controls",
            "_view_module_version": "1.5.0",
            "_view_name": "HTMLView",
            "description": "",
            "description_tooltip": null,
            "layout": "IPY_MODEL_18518b63e2224afca215a0d1a529f8c8",
            "placeholder": "​",
            "style": "IPY_MODEL_5b0fc346ce3e4965b59a0fbd20cdb851",
            "value": " 24998/24998 [01:12&lt;00:00, 292.05it/s]"
          }
        },
        "18cebfa4b95940469a1059c782003830": {
          "model_module": "@jupyter-widgets/base",
          "model_name": "LayoutModel",
          "model_module_version": "1.2.0",
          "state": {
            "_model_module": "@jupyter-widgets/base",
            "_model_module_version": "1.2.0",
            "_model_name": "LayoutModel",
            "_view_count": null,
            "_view_module": "@jupyter-widgets/base",
            "_view_module_version": "1.2.0",
            "_view_name": "LayoutView",
            "align_content": null,
            "align_items": null,
            "align_self": null,
            "border": null,
            "bottom": null,
            "display": null,
            "flex": null,
            "flex_flow": null,
            "grid_area": null,
            "grid_auto_columns": null,
            "grid_auto_flow": null,
            "grid_auto_rows": null,
            "grid_column": null,
            "grid_gap": null,
            "grid_row": null,
            "grid_template_areas": null,
            "grid_template_columns": null,
            "grid_template_rows": null,
            "height": null,
            "justify_content": null,
            "justify_items": null,
            "left": null,
            "margin": null,
            "max_height": null,
            "max_width": null,
            "min_height": null,
            "min_width": null,
            "object_fit": null,
            "object_position": null,
            "order": null,
            "overflow": null,
            "overflow_x": null,
            "overflow_y": null,
            "padding": null,
            "right": null,
            "top": null,
            "visibility": null,
            "width": null
          }
        },
        "5855f0447f16402fa870c10f9f9ceda4": {
          "model_module": "@jupyter-widgets/base",
          "model_name": "LayoutModel",
          "model_module_version": "1.2.0",
          "state": {
            "_model_module": "@jupyter-widgets/base",
            "_model_module_version": "1.2.0",
            "_model_name": "LayoutModel",
            "_view_count": null,
            "_view_module": "@jupyter-widgets/base",
            "_view_module_version": "1.2.0",
            "_view_name": "LayoutView",
            "align_content": null,
            "align_items": null,
            "align_self": null,
            "border": null,
            "bottom": null,
            "display": null,
            "flex": null,
            "flex_flow": null,
            "grid_area": null,
            "grid_auto_columns": null,
            "grid_auto_flow": null,
            "grid_auto_rows": null,
            "grid_column": null,
            "grid_gap": null,
            "grid_row": null,
            "grid_template_areas": null,
            "grid_template_columns": null,
            "grid_template_rows": null,
            "height": null,
            "justify_content": null,
            "justify_items": null,
            "left": null,
            "margin": null,
            "max_height": null,
            "max_width": null,
            "min_height": null,
            "min_width": null,
            "object_fit": null,
            "object_position": null,
            "order": null,
            "overflow": null,
            "overflow_x": null,
            "overflow_y": null,
            "padding": null,
            "right": null,
            "top": null,
            "visibility": null,
            "width": null
          }
        },
        "cc82e08851234cc29a4dc152f5fb2ce8": {
          "model_module": "@jupyter-widgets/controls",
          "model_name": "DescriptionStyleModel",
          "model_module_version": "1.5.0",
          "state": {
            "_model_module": "@jupyter-widgets/controls",
            "_model_module_version": "1.5.0",
            "_model_name": "DescriptionStyleModel",
            "_view_count": null,
            "_view_module": "@jupyter-widgets/base",
            "_view_module_version": "1.2.0",
            "_view_name": "StyleView",
            "description_width": ""
          }
        },
        "405ca522911240609b8eb451f0642409": {
          "model_module": "@jupyter-widgets/base",
          "model_name": "LayoutModel",
          "model_module_version": "1.2.0",
          "state": {
            "_model_module": "@jupyter-widgets/base",
            "_model_module_version": "1.2.0",
            "_model_name": "LayoutModel",
            "_view_count": null,
            "_view_module": "@jupyter-widgets/base",
            "_view_module_version": "1.2.0",
            "_view_name": "LayoutView",
            "align_content": null,
            "align_items": null,
            "align_self": null,
            "border": null,
            "bottom": null,
            "display": null,
            "flex": null,
            "flex_flow": null,
            "grid_area": null,
            "grid_auto_columns": null,
            "grid_auto_flow": null,
            "grid_auto_rows": null,
            "grid_column": null,
            "grid_gap": null,
            "grid_row": null,
            "grid_template_areas": null,
            "grid_template_columns": null,
            "grid_template_rows": null,
            "height": null,
            "justify_content": null,
            "justify_items": null,
            "left": null,
            "margin": null,
            "max_height": null,
            "max_width": null,
            "min_height": null,
            "min_width": null,
            "object_fit": null,
            "object_position": null,
            "order": null,
            "overflow": null,
            "overflow_x": null,
            "overflow_y": null,
            "padding": null,
            "right": null,
            "top": null,
            "visibility": null,
            "width": null
          }
        },
        "16e2bcd747b545c28b63fd36c688b1fe": {
          "model_module": "@jupyter-widgets/controls",
          "model_name": "ProgressStyleModel",
          "model_module_version": "1.5.0",
          "state": {
            "_model_module": "@jupyter-widgets/controls",
            "_model_module_version": "1.5.0",
            "_model_name": "ProgressStyleModel",
            "_view_count": null,
            "_view_module": "@jupyter-widgets/base",
            "_view_module_version": "1.2.0",
            "_view_name": "StyleView",
            "bar_color": null,
            "description_width": ""
          }
        },
        "18518b63e2224afca215a0d1a529f8c8": {
          "model_module": "@jupyter-widgets/base",
          "model_name": "LayoutModel",
          "model_module_version": "1.2.0",
          "state": {
            "_model_module": "@jupyter-widgets/base",
            "_model_module_version": "1.2.0",
            "_model_name": "LayoutModel",
            "_view_count": null,
            "_view_module": "@jupyter-widgets/base",
            "_view_module_version": "1.2.0",
            "_view_name": "LayoutView",
            "align_content": null,
            "align_items": null,
            "align_self": null,
            "border": null,
            "bottom": null,
            "display": null,
            "flex": null,
            "flex_flow": null,
            "grid_area": null,
            "grid_auto_columns": null,
            "grid_auto_flow": null,
            "grid_auto_rows": null,
            "grid_column": null,
            "grid_gap": null,
            "grid_row": null,
            "grid_template_areas": null,
            "grid_template_columns": null,
            "grid_template_rows": null,
            "height": null,
            "justify_content": null,
            "justify_items": null,
            "left": null,
            "margin": null,
            "max_height": null,
            "max_width": null,
            "min_height": null,
            "min_width": null,
            "object_fit": null,
            "object_position": null,
            "order": null,
            "overflow": null,
            "overflow_x": null,
            "overflow_y": null,
            "padding": null,
            "right": null,
            "top": null,
            "visibility": null,
            "width": null
          }
        },
        "5b0fc346ce3e4965b59a0fbd20cdb851": {
          "model_module": "@jupyter-widgets/controls",
          "model_name": "DescriptionStyleModel",
          "model_module_version": "1.5.0",
          "state": {
            "_model_module": "@jupyter-widgets/controls",
            "_model_module_version": "1.5.0",
            "_model_name": "DescriptionStyleModel",
            "_view_count": null,
            "_view_module": "@jupyter-widgets/base",
            "_view_module_version": "1.2.0",
            "_view_name": "StyleView",
            "description_width": ""
          }
        },
        "b0527bdd79fc4da1867e0e0a7cc9bc10": {
          "model_module": "@jupyter-widgets/controls",
          "model_name": "HBoxModel",
          "model_module_version": "1.5.0",
          "state": {
            "_dom_classes": [],
            "_model_module": "@jupyter-widgets/controls",
            "_model_module_version": "1.5.0",
            "_model_name": "HBoxModel",
            "_view_count": null,
            "_view_module": "@jupyter-widgets/controls",
            "_view_module_version": "1.5.0",
            "_view_name": "HBoxView",
            "box_style": "",
            "children": [
              "IPY_MODEL_870126d0f8e54525b5e57eb99af7978b",
              "IPY_MODEL_6a9aa48c5aec47bb87d38d9c7eb9b3e4",
              "IPY_MODEL_4b533dda61664f7eb84eaab7a6134016"
            ],
            "layout": "IPY_MODEL_b3d209477d094148a6e9b1dea0b1608f"
          }
        },
        "870126d0f8e54525b5e57eb99af7978b": {
          "model_module": "@jupyter-widgets/controls",
          "model_name": "HTMLModel",
          "model_module_version": "1.5.0",
          "state": {
            "_dom_classes": [],
            "_model_module": "@jupyter-widgets/controls",
            "_model_module_version": "1.5.0",
            "_model_name": "HTMLModel",
            "_view_count": null,
            "_view_module": "@jupyter-widgets/controls",
            "_view_module_version": "1.5.0",
            "_view_name": "HTMLView",
            "description": "",
            "description_tooltip": null,
            "layout": "IPY_MODEL_5d7e170f1fcd4335a1576cb4e1925642",
            "placeholder": "​",
            "style": "IPY_MODEL_345f5c9c24e24d6a8a56a174d8f67362",
            "value": "Downloading: 100%"
          }
        },
        "6a9aa48c5aec47bb87d38d9c7eb9b3e4": {
          "model_module": "@jupyter-widgets/controls",
          "model_name": "FloatProgressModel",
          "model_module_version": "1.5.0",
          "state": {
            "_dom_classes": [],
            "_model_module": "@jupyter-widgets/controls",
            "_model_module_version": "1.5.0",
            "_model_name": "FloatProgressModel",
            "_view_count": null,
            "_view_module": "@jupyter-widgets/controls",
            "_view_module_version": "1.5.0",
            "_view_name": "ProgressView",
            "bar_style": "success",
            "description": "",
            "description_tooltip": null,
            "layout": "IPY_MODEL_a8300620e5bb476c8a742b9cd36cc68b",
            "max": 375,
            "min": 0,
            "orientation": "horizontal",
            "style": "IPY_MODEL_430f21b751a94db7adb11c38d8c0a840",
            "value": 375
          }
        },
        "4b533dda61664f7eb84eaab7a6134016": {
          "model_module": "@jupyter-widgets/controls",
          "model_name": "HTMLModel",
          "model_module_version": "1.5.0",
          "state": {
            "_dom_classes": [],
            "_model_module": "@jupyter-widgets/controls",
            "_model_module_version": "1.5.0",
            "_model_name": "HTMLModel",
            "_view_count": null,
            "_view_module": "@jupyter-widgets/controls",
            "_view_module_version": "1.5.0",
            "_view_name": "HTMLView",
            "description": "",
            "description_tooltip": null,
            "layout": "IPY_MODEL_488f0d8c6d2b46f8ba1c6ec213a562eb",
            "placeholder": "​",
            "style": "IPY_MODEL_1fb392a83a154d22975e7f80bc4a7f3d",
            "value": " 375/375 [00:00&lt;00:00, 1.89kB/s]"
          }
        },
        "b3d209477d094148a6e9b1dea0b1608f": {
          "model_module": "@jupyter-widgets/base",
          "model_name": "LayoutModel",
          "model_module_version": "1.2.0",
          "state": {
            "_model_module": "@jupyter-widgets/base",
            "_model_module_version": "1.2.0",
            "_model_name": "LayoutModel",
            "_view_count": null,
            "_view_module": "@jupyter-widgets/base",
            "_view_module_version": "1.2.0",
            "_view_name": "LayoutView",
            "align_content": null,
            "align_items": null,
            "align_self": null,
            "border": null,
            "bottom": null,
            "display": null,
            "flex": null,
            "flex_flow": null,
            "grid_area": null,
            "grid_auto_columns": null,
            "grid_auto_flow": null,
            "grid_auto_rows": null,
            "grid_column": null,
            "grid_gap": null,
            "grid_row": null,
            "grid_template_areas": null,
            "grid_template_columns": null,
            "grid_template_rows": null,
            "height": null,
            "justify_content": null,
            "justify_items": null,
            "left": null,
            "margin": null,
            "max_height": null,
            "max_width": null,
            "min_height": null,
            "min_width": null,
            "object_fit": null,
            "object_position": null,
            "order": null,
            "overflow": null,
            "overflow_x": null,
            "overflow_y": null,
            "padding": null,
            "right": null,
            "top": null,
            "visibility": null,
            "width": null
          }
        },
        "5d7e170f1fcd4335a1576cb4e1925642": {
          "model_module": "@jupyter-widgets/base",
          "model_name": "LayoutModel",
          "model_module_version": "1.2.0",
          "state": {
            "_model_module": "@jupyter-widgets/base",
            "_model_module_version": "1.2.0",
            "_model_name": "LayoutModel",
            "_view_count": null,
            "_view_module": "@jupyter-widgets/base",
            "_view_module_version": "1.2.0",
            "_view_name": "LayoutView",
            "align_content": null,
            "align_items": null,
            "align_self": null,
            "border": null,
            "bottom": null,
            "display": null,
            "flex": null,
            "flex_flow": null,
            "grid_area": null,
            "grid_auto_columns": null,
            "grid_auto_flow": null,
            "grid_auto_rows": null,
            "grid_column": null,
            "grid_gap": null,
            "grid_row": null,
            "grid_template_areas": null,
            "grid_template_columns": null,
            "grid_template_rows": null,
            "height": null,
            "justify_content": null,
            "justify_items": null,
            "left": null,
            "margin": null,
            "max_height": null,
            "max_width": null,
            "min_height": null,
            "min_width": null,
            "object_fit": null,
            "object_position": null,
            "order": null,
            "overflow": null,
            "overflow_x": null,
            "overflow_y": null,
            "padding": null,
            "right": null,
            "top": null,
            "visibility": null,
            "width": null
          }
        },
        "345f5c9c24e24d6a8a56a174d8f67362": {
          "model_module": "@jupyter-widgets/controls",
          "model_name": "DescriptionStyleModel",
          "model_module_version": "1.5.0",
          "state": {
            "_model_module": "@jupyter-widgets/controls",
            "_model_module_version": "1.5.0",
            "_model_name": "DescriptionStyleModel",
            "_view_count": null,
            "_view_module": "@jupyter-widgets/base",
            "_view_module_version": "1.2.0",
            "_view_name": "StyleView",
            "description_width": ""
          }
        },
        "a8300620e5bb476c8a742b9cd36cc68b": {
          "model_module": "@jupyter-widgets/base",
          "model_name": "LayoutModel",
          "model_module_version": "1.2.0",
          "state": {
            "_model_module": "@jupyter-widgets/base",
            "_model_module_version": "1.2.0",
            "_model_name": "LayoutModel",
            "_view_count": null,
            "_view_module": "@jupyter-widgets/base",
            "_view_module_version": "1.2.0",
            "_view_name": "LayoutView",
            "align_content": null,
            "align_items": null,
            "align_self": null,
            "border": null,
            "bottom": null,
            "display": null,
            "flex": null,
            "flex_flow": null,
            "grid_area": null,
            "grid_auto_columns": null,
            "grid_auto_flow": null,
            "grid_auto_rows": null,
            "grid_column": null,
            "grid_gap": null,
            "grid_row": null,
            "grid_template_areas": null,
            "grid_template_columns": null,
            "grid_template_rows": null,
            "height": null,
            "justify_content": null,
            "justify_items": null,
            "left": null,
            "margin": null,
            "max_height": null,
            "max_width": null,
            "min_height": null,
            "min_width": null,
            "object_fit": null,
            "object_position": null,
            "order": null,
            "overflow": null,
            "overflow_x": null,
            "overflow_y": null,
            "padding": null,
            "right": null,
            "top": null,
            "visibility": null,
            "width": null
          }
        },
        "430f21b751a94db7adb11c38d8c0a840": {
          "model_module": "@jupyter-widgets/controls",
          "model_name": "ProgressStyleModel",
          "model_module_version": "1.5.0",
          "state": {
            "_model_module": "@jupyter-widgets/controls",
            "_model_module_version": "1.5.0",
            "_model_name": "ProgressStyleModel",
            "_view_count": null,
            "_view_module": "@jupyter-widgets/base",
            "_view_module_version": "1.2.0",
            "_view_name": "StyleView",
            "bar_color": null,
            "description_width": ""
          }
        },
        "488f0d8c6d2b46f8ba1c6ec213a562eb": {
          "model_module": "@jupyter-widgets/base",
          "model_name": "LayoutModel",
          "model_module_version": "1.2.0",
          "state": {
            "_model_module": "@jupyter-widgets/base",
            "_model_module_version": "1.2.0",
            "_model_name": "LayoutModel",
            "_view_count": null,
            "_view_module": "@jupyter-widgets/base",
            "_view_module_version": "1.2.0",
            "_view_name": "LayoutView",
            "align_content": null,
            "align_items": null,
            "align_self": null,
            "border": null,
            "bottom": null,
            "display": null,
            "flex": null,
            "flex_flow": null,
            "grid_area": null,
            "grid_auto_columns": null,
            "grid_auto_flow": null,
            "grid_auto_rows": null,
            "grid_column": null,
            "grid_gap": null,
            "grid_row": null,
            "grid_template_areas": null,
            "grid_template_columns": null,
            "grid_template_rows": null,
            "height": null,
            "justify_content": null,
            "justify_items": null,
            "left": null,
            "margin": null,
            "max_height": null,
            "max_width": null,
            "min_height": null,
            "min_width": null,
            "object_fit": null,
            "object_position": null,
            "order": null,
            "overflow": null,
            "overflow_x": null,
            "overflow_y": null,
            "padding": null,
            "right": null,
            "top": null,
            "visibility": null,
            "width": null
          }
        },
        "1fb392a83a154d22975e7f80bc4a7f3d": {
          "model_module": "@jupyter-widgets/controls",
          "model_name": "DescriptionStyleModel",
          "model_module_version": "1.5.0",
          "state": {
            "_model_module": "@jupyter-widgets/controls",
            "_model_module_version": "1.5.0",
            "_model_name": "DescriptionStyleModel",
            "_view_count": null,
            "_view_module": "@jupyter-widgets/base",
            "_view_module_version": "1.2.0",
            "_view_name": "StyleView",
            "description_width": ""
          }
        },
        "b3ebd798ecee490abe11b546b7cfee2b": {
          "model_module": "@jupyter-widgets/controls",
          "model_name": "HBoxModel",
          "model_module_version": "1.5.0",
          "state": {
            "_dom_classes": [],
            "_model_module": "@jupyter-widgets/controls",
            "_model_module_version": "1.5.0",
            "_model_name": "HBoxModel",
            "_view_count": null,
            "_view_module": "@jupyter-widgets/controls",
            "_view_module_version": "1.5.0",
            "_view_name": "HBoxView",
            "box_style": "",
            "children": [
              "IPY_MODEL_ff514295b3e94fab80d9e9a6ca5c29c5",
              "IPY_MODEL_bf861d042f4d40ee99659aea2845153a",
              "IPY_MODEL_b3ecf60171264088a2763fbf779e1e15"
            ],
            "layout": "IPY_MODEL_be4bc6189b8f4a00840870db28abd229"
          }
        },
        "ff514295b3e94fab80d9e9a6ca5c29c5": {
          "model_module": "@jupyter-widgets/controls",
          "model_name": "HTMLModel",
          "model_module_version": "1.5.0",
          "state": {
            "_dom_classes": [],
            "_model_module": "@jupyter-widgets/controls",
            "_model_module_version": "1.5.0",
            "_model_name": "HTMLModel",
            "_view_count": null,
            "_view_module": "@jupyter-widgets/controls",
            "_view_module_version": "1.5.0",
            "_view_name": "HTMLView",
            "description": "",
            "description_tooltip": null,
            "layout": "IPY_MODEL_46a065dd6f39430eaa7ae2f5fa9f0439",
            "placeholder": "​",
            "style": "IPY_MODEL_9e5fdca34a814712b8604641d669a15f",
            "value": "Downloading: 100%"
          }
        },
        "bf861d042f4d40ee99659aea2845153a": {
          "model_module": "@jupyter-widgets/controls",
          "model_name": "FloatProgressModel",
          "model_module_version": "1.5.0",
          "state": {
            "_dom_classes": [],
            "_model_module": "@jupyter-widgets/controls",
            "_model_module_version": "1.5.0",
            "_model_name": "FloatProgressModel",
            "_view_count": null,
            "_view_module": "@jupyter-widgets/controls",
            "_view_module_version": "1.5.0",
            "_view_name": "ProgressView",
            "bar_style": "success",
            "description": "",
            "description_tooltip": null,
            "layout": "IPY_MODEL_32be0a1b1cc04fc0864d37e7f73d5b29",
            "max": 248477,
            "min": 0,
            "orientation": "horizontal",
            "style": "IPY_MODEL_88a5be5e852940caa68761b2f7a80c49",
            "value": 248477
          }
        },
        "b3ecf60171264088a2763fbf779e1e15": {
          "model_module": "@jupyter-widgets/controls",
          "model_name": "HTMLModel",
          "model_module_version": "1.5.0",
          "state": {
            "_dom_classes": [],
            "_model_module": "@jupyter-widgets/controls",
            "_model_module_version": "1.5.0",
            "_model_name": "HTMLModel",
            "_view_count": null,
            "_view_module": "@jupyter-widgets/controls",
            "_view_module_version": "1.5.0",
            "_view_name": "HTMLView",
            "description": "",
            "description_tooltip": null,
            "layout": "IPY_MODEL_128c7661c01a471585ce5e6b7bcc3177",
            "placeholder": "​",
            "style": "IPY_MODEL_2ec36b931036453ea95e64957d80ca78",
            "value": " 243k/243k [00:00&lt;00:00, 965kB/s]"
          }
        },
        "be4bc6189b8f4a00840870db28abd229": {
          "model_module": "@jupyter-widgets/base",
          "model_name": "LayoutModel",
          "model_module_version": "1.2.0",
          "state": {
            "_model_module": "@jupyter-widgets/base",
            "_model_module_version": "1.2.0",
            "_model_name": "LayoutModel",
            "_view_count": null,
            "_view_module": "@jupyter-widgets/base",
            "_view_module_version": "1.2.0",
            "_view_name": "LayoutView",
            "align_content": null,
            "align_items": null,
            "align_self": null,
            "border": null,
            "bottom": null,
            "display": null,
            "flex": null,
            "flex_flow": null,
            "grid_area": null,
            "grid_auto_columns": null,
            "grid_auto_flow": null,
            "grid_auto_rows": null,
            "grid_column": null,
            "grid_gap": null,
            "grid_row": null,
            "grid_template_areas": null,
            "grid_template_columns": null,
            "grid_template_rows": null,
            "height": null,
            "justify_content": null,
            "justify_items": null,
            "left": null,
            "margin": null,
            "max_height": null,
            "max_width": null,
            "min_height": null,
            "min_width": null,
            "object_fit": null,
            "object_position": null,
            "order": null,
            "overflow": null,
            "overflow_x": null,
            "overflow_y": null,
            "padding": null,
            "right": null,
            "top": null,
            "visibility": null,
            "width": null
          }
        },
        "46a065dd6f39430eaa7ae2f5fa9f0439": {
          "model_module": "@jupyter-widgets/base",
          "model_name": "LayoutModel",
          "model_module_version": "1.2.0",
          "state": {
            "_model_module": "@jupyter-widgets/base",
            "_model_module_version": "1.2.0",
            "_model_name": "LayoutModel",
            "_view_count": null,
            "_view_module": "@jupyter-widgets/base",
            "_view_module_version": "1.2.0",
            "_view_name": "LayoutView",
            "align_content": null,
            "align_items": null,
            "align_self": null,
            "border": null,
            "bottom": null,
            "display": null,
            "flex": null,
            "flex_flow": null,
            "grid_area": null,
            "grid_auto_columns": null,
            "grid_auto_flow": null,
            "grid_auto_rows": null,
            "grid_column": null,
            "grid_gap": null,
            "grid_row": null,
            "grid_template_areas": null,
            "grid_template_columns": null,
            "grid_template_rows": null,
            "height": null,
            "justify_content": null,
            "justify_items": null,
            "left": null,
            "margin": null,
            "max_height": null,
            "max_width": null,
            "min_height": null,
            "min_width": null,
            "object_fit": null,
            "object_position": null,
            "order": null,
            "overflow": null,
            "overflow_x": null,
            "overflow_y": null,
            "padding": null,
            "right": null,
            "top": null,
            "visibility": null,
            "width": null
          }
        },
        "9e5fdca34a814712b8604641d669a15f": {
          "model_module": "@jupyter-widgets/controls",
          "model_name": "DescriptionStyleModel",
          "model_module_version": "1.5.0",
          "state": {
            "_model_module": "@jupyter-widgets/controls",
            "_model_module_version": "1.5.0",
            "_model_name": "DescriptionStyleModel",
            "_view_count": null,
            "_view_module": "@jupyter-widgets/base",
            "_view_module_version": "1.2.0",
            "_view_name": "StyleView",
            "description_width": ""
          }
        },
        "32be0a1b1cc04fc0864d37e7f73d5b29": {
          "model_module": "@jupyter-widgets/base",
          "model_name": "LayoutModel",
          "model_module_version": "1.2.0",
          "state": {
            "_model_module": "@jupyter-widgets/base",
            "_model_module_version": "1.2.0",
            "_model_name": "LayoutModel",
            "_view_count": null,
            "_view_module": "@jupyter-widgets/base",
            "_view_module_version": "1.2.0",
            "_view_name": "LayoutView",
            "align_content": null,
            "align_items": null,
            "align_self": null,
            "border": null,
            "bottom": null,
            "display": null,
            "flex": null,
            "flex_flow": null,
            "grid_area": null,
            "grid_auto_columns": null,
            "grid_auto_flow": null,
            "grid_auto_rows": null,
            "grid_column": null,
            "grid_gap": null,
            "grid_row": null,
            "grid_template_areas": null,
            "grid_template_columns": null,
            "grid_template_rows": null,
            "height": null,
            "justify_content": null,
            "justify_items": null,
            "left": null,
            "margin": null,
            "max_height": null,
            "max_width": null,
            "min_height": null,
            "min_width": null,
            "object_fit": null,
            "object_position": null,
            "order": null,
            "overflow": null,
            "overflow_x": null,
            "overflow_y": null,
            "padding": null,
            "right": null,
            "top": null,
            "visibility": null,
            "width": null
          }
        },
        "88a5be5e852940caa68761b2f7a80c49": {
          "model_module": "@jupyter-widgets/controls",
          "model_name": "ProgressStyleModel",
          "model_module_version": "1.5.0",
          "state": {
            "_model_module": "@jupyter-widgets/controls",
            "_model_module_version": "1.5.0",
            "_model_name": "ProgressStyleModel",
            "_view_count": null,
            "_view_module": "@jupyter-widgets/base",
            "_view_module_version": "1.2.0",
            "_view_name": "StyleView",
            "bar_color": null,
            "description_width": ""
          }
        },
        "128c7661c01a471585ce5e6b7bcc3177": {
          "model_module": "@jupyter-widgets/base",
          "model_name": "LayoutModel",
          "model_module_version": "1.2.0",
          "state": {
            "_model_module": "@jupyter-widgets/base",
            "_model_module_version": "1.2.0",
            "_model_name": "LayoutModel",
            "_view_count": null,
            "_view_module": "@jupyter-widgets/base",
            "_view_module_version": "1.2.0",
            "_view_name": "LayoutView",
            "align_content": null,
            "align_items": null,
            "align_self": null,
            "border": null,
            "bottom": null,
            "display": null,
            "flex": null,
            "flex_flow": null,
            "grid_area": null,
            "grid_auto_columns": null,
            "grid_auto_flow": null,
            "grid_auto_rows": null,
            "grid_column": null,
            "grid_gap": null,
            "grid_row": null,
            "grid_template_areas": null,
            "grid_template_columns": null,
            "grid_template_rows": null,
            "height": null,
            "justify_content": null,
            "justify_items": null,
            "left": null,
            "margin": null,
            "max_height": null,
            "max_width": null,
            "min_height": null,
            "min_width": null,
            "object_fit": null,
            "object_position": null,
            "order": null,
            "overflow": null,
            "overflow_x": null,
            "overflow_y": null,
            "padding": null,
            "right": null,
            "top": null,
            "visibility": null,
            "width": null
          }
        },
        "2ec36b931036453ea95e64957d80ca78": {
          "model_module": "@jupyter-widgets/controls",
          "model_name": "DescriptionStyleModel",
          "model_module_version": "1.5.0",
          "state": {
            "_model_module": "@jupyter-widgets/controls",
            "_model_module_version": "1.5.0",
            "_model_name": "DescriptionStyleModel",
            "_view_count": null,
            "_view_module": "@jupyter-widgets/base",
            "_view_module_version": "1.2.0",
            "_view_name": "StyleView",
            "description_width": ""
          }
        },
        "0dd8d607504049f294c02202173d0ae7": {
          "model_module": "@jupyter-widgets/controls",
          "model_name": "HBoxModel",
          "model_module_version": "1.5.0",
          "state": {
            "_dom_classes": [],
            "_model_module": "@jupyter-widgets/controls",
            "_model_module_version": "1.5.0",
            "_model_name": "HBoxModel",
            "_view_count": null,
            "_view_module": "@jupyter-widgets/controls",
            "_view_module_version": "1.5.0",
            "_view_name": "HBoxView",
            "box_style": "",
            "children": [
              "IPY_MODEL_b3074dd0be8b4ece85e1266b2184f546",
              "IPY_MODEL_c7c51074edaa430d8dff0d363a73d883",
              "IPY_MODEL_36ed3495dbf6498a913f7d7c9ff8c30e"
            ],
            "layout": "IPY_MODEL_1902856a8f27480f8b6e8c09d12de55c"
          }
        },
        "b3074dd0be8b4ece85e1266b2184f546": {
          "model_module": "@jupyter-widgets/controls",
          "model_name": "HTMLModel",
          "model_module_version": "1.5.0",
          "state": {
            "_dom_classes": [],
            "_model_module": "@jupyter-widgets/controls",
            "_model_module_version": "1.5.0",
            "_model_name": "HTMLModel",
            "_view_count": null,
            "_view_module": "@jupyter-widgets/controls",
            "_view_module_version": "1.5.0",
            "_view_name": "HTMLView",
            "description": "",
            "description_tooltip": null,
            "layout": "IPY_MODEL_6ffe74cc33c1404f81c69b46866f7c70",
            "placeholder": "​",
            "style": "IPY_MODEL_4bfbfe946f2e4b06bfdb4e9f1c60c0fc",
            "value": "Downloading: 100%"
          }
        },
        "c7c51074edaa430d8dff0d363a73d883": {
          "model_module": "@jupyter-widgets/controls",
          "model_name": "FloatProgressModel",
          "model_module_version": "1.5.0",
          "state": {
            "_dom_classes": [],
            "_model_module": "@jupyter-widgets/controls",
            "_model_module_version": "1.5.0",
            "_model_name": "FloatProgressModel",
            "_view_count": null,
            "_view_module": "@jupyter-widgets/controls",
            "_view_module_version": "1.5.0",
            "_view_name": "ProgressView",
            "bar_style": "success",
            "description": "",
            "description_tooltip": null,
            "layout": "IPY_MODEL_2bfd5faf6cc040409b53e34c8ffc7ac5",
            "max": 751504,
            "min": 0,
            "orientation": "horizontal",
            "style": "IPY_MODEL_cdd05c15aa1e4a30a23c6f900c4d4cbf",
            "value": 751504
          }
        },
        "36ed3495dbf6498a913f7d7c9ff8c30e": {
          "model_module": "@jupyter-widgets/controls",
          "model_name": "HTMLModel",
          "model_module_version": "1.5.0",
          "state": {
            "_dom_classes": [],
            "_model_module": "@jupyter-widgets/controls",
            "_model_module_version": "1.5.0",
            "_model_name": "HTMLModel",
            "_view_count": null,
            "_view_module": "@jupyter-widgets/controls",
            "_view_module_version": "1.5.0",
            "_view_name": "HTMLView",
            "description": "",
            "description_tooltip": null,
            "layout": "IPY_MODEL_d09fec0b75a147dba4f4369ceb15b333",
            "placeholder": "​",
            "style": "IPY_MODEL_1f0be94f0725483982c44428e71fc017",
            "value": " 734k/734k [00:00&lt;00:00, 1.48MB/s]"
          }
        },
        "1902856a8f27480f8b6e8c09d12de55c": {
          "model_module": "@jupyter-widgets/base",
          "model_name": "LayoutModel",
          "model_module_version": "1.2.0",
          "state": {
            "_model_module": "@jupyter-widgets/base",
            "_model_module_version": "1.2.0",
            "_model_name": "LayoutModel",
            "_view_count": null,
            "_view_module": "@jupyter-widgets/base",
            "_view_module_version": "1.2.0",
            "_view_name": "LayoutView",
            "align_content": null,
            "align_items": null,
            "align_self": null,
            "border": null,
            "bottom": null,
            "display": null,
            "flex": null,
            "flex_flow": null,
            "grid_area": null,
            "grid_auto_columns": null,
            "grid_auto_flow": null,
            "grid_auto_rows": null,
            "grid_column": null,
            "grid_gap": null,
            "grid_row": null,
            "grid_template_areas": null,
            "grid_template_columns": null,
            "grid_template_rows": null,
            "height": null,
            "justify_content": null,
            "justify_items": null,
            "left": null,
            "margin": null,
            "max_height": null,
            "max_width": null,
            "min_height": null,
            "min_width": null,
            "object_fit": null,
            "object_position": null,
            "order": null,
            "overflow": null,
            "overflow_x": null,
            "overflow_y": null,
            "padding": null,
            "right": null,
            "top": null,
            "visibility": null,
            "width": null
          }
        },
        "6ffe74cc33c1404f81c69b46866f7c70": {
          "model_module": "@jupyter-widgets/base",
          "model_name": "LayoutModel",
          "model_module_version": "1.2.0",
          "state": {
            "_model_module": "@jupyter-widgets/base",
            "_model_module_version": "1.2.0",
            "_model_name": "LayoutModel",
            "_view_count": null,
            "_view_module": "@jupyter-widgets/base",
            "_view_module_version": "1.2.0",
            "_view_name": "LayoutView",
            "align_content": null,
            "align_items": null,
            "align_self": null,
            "border": null,
            "bottom": null,
            "display": null,
            "flex": null,
            "flex_flow": null,
            "grid_area": null,
            "grid_auto_columns": null,
            "grid_auto_flow": null,
            "grid_auto_rows": null,
            "grid_column": null,
            "grid_gap": null,
            "grid_row": null,
            "grid_template_areas": null,
            "grid_template_columns": null,
            "grid_template_rows": null,
            "height": null,
            "justify_content": null,
            "justify_items": null,
            "left": null,
            "margin": null,
            "max_height": null,
            "max_width": null,
            "min_height": null,
            "min_width": null,
            "object_fit": null,
            "object_position": null,
            "order": null,
            "overflow": null,
            "overflow_x": null,
            "overflow_y": null,
            "padding": null,
            "right": null,
            "top": null,
            "visibility": null,
            "width": null
          }
        },
        "4bfbfe946f2e4b06bfdb4e9f1c60c0fc": {
          "model_module": "@jupyter-widgets/controls",
          "model_name": "DescriptionStyleModel",
          "model_module_version": "1.5.0",
          "state": {
            "_model_module": "@jupyter-widgets/controls",
            "_model_module_version": "1.5.0",
            "_model_name": "DescriptionStyleModel",
            "_view_count": null,
            "_view_module": "@jupyter-widgets/base",
            "_view_module_version": "1.2.0",
            "_view_name": "StyleView",
            "description_width": ""
          }
        },
        "2bfd5faf6cc040409b53e34c8ffc7ac5": {
          "model_module": "@jupyter-widgets/base",
          "model_name": "LayoutModel",
          "model_module_version": "1.2.0",
          "state": {
            "_model_module": "@jupyter-widgets/base",
            "_model_module_version": "1.2.0",
            "_model_name": "LayoutModel",
            "_view_count": null,
            "_view_module": "@jupyter-widgets/base",
            "_view_module_version": "1.2.0",
            "_view_name": "LayoutView",
            "align_content": null,
            "align_items": null,
            "align_self": null,
            "border": null,
            "bottom": null,
            "display": null,
            "flex": null,
            "flex_flow": null,
            "grid_area": null,
            "grid_auto_columns": null,
            "grid_auto_flow": null,
            "grid_auto_rows": null,
            "grid_column": null,
            "grid_gap": null,
            "grid_row": null,
            "grid_template_areas": null,
            "grid_template_columns": null,
            "grid_template_rows": null,
            "height": null,
            "justify_content": null,
            "justify_items": null,
            "left": null,
            "margin": null,
            "max_height": null,
            "max_width": null,
            "min_height": null,
            "min_width": null,
            "object_fit": null,
            "object_position": null,
            "order": null,
            "overflow": null,
            "overflow_x": null,
            "overflow_y": null,
            "padding": null,
            "right": null,
            "top": null,
            "visibility": null,
            "width": null
          }
        },
        "cdd05c15aa1e4a30a23c6f900c4d4cbf": {
          "model_module": "@jupyter-widgets/controls",
          "model_name": "ProgressStyleModel",
          "model_module_version": "1.5.0",
          "state": {
            "_model_module": "@jupyter-widgets/controls",
            "_model_module_version": "1.5.0",
            "_model_name": "ProgressStyleModel",
            "_view_count": null,
            "_view_module": "@jupyter-widgets/base",
            "_view_module_version": "1.2.0",
            "_view_name": "StyleView",
            "bar_color": null,
            "description_width": ""
          }
        },
        "d09fec0b75a147dba4f4369ceb15b333": {
          "model_module": "@jupyter-widgets/base",
          "model_name": "LayoutModel",
          "model_module_version": "1.2.0",
          "state": {
            "_model_module": "@jupyter-widgets/base",
            "_model_module_version": "1.2.0",
            "_model_name": "LayoutModel",
            "_view_count": null,
            "_view_module": "@jupyter-widgets/base",
            "_view_module_version": "1.2.0",
            "_view_name": "LayoutView",
            "align_content": null,
            "align_items": null,
            "align_self": null,
            "border": null,
            "bottom": null,
            "display": null,
            "flex": null,
            "flex_flow": null,
            "grid_area": null,
            "grid_auto_columns": null,
            "grid_auto_flow": null,
            "grid_auto_rows": null,
            "grid_column": null,
            "grid_gap": null,
            "grid_row": null,
            "grid_template_areas": null,
            "grid_template_columns": null,
            "grid_template_rows": null,
            "height": null,
            "justify_content": null,
            "justify_items": null,
            "left": null,
            "margin": null,
            "max_height": null,
            "max_width": null,
            "min_height": null,
            "min_width": null,
            "object_fit": null,
            "object_position": null,
            "order": null,
            "overflow": null,
            "overflow_x": null,
            "overflow_y": null,
            "padding": null,
            "right": null,
            "top": null,
            "visibility": null,
            "width": null
          }
        },
        "1f0be94f0725483982c44428e71fc017": {
          "model_module": "@jupyter-widgets/controls",
          "model_name": "DescriptionStyleModel",
          "model_module_version": "1.5.0",
          "state": {
            "_model_module": "@jupyter-widgets/controls",
            "_model_module_version": "1.5.0",
            "_model_name": "DescriptionStyleModel",
            "_view_count": null,
            "_view_module": "@jupyter-widgets/base",
            "_view_module_version": "1.2.0",
            "_view_name": "StyleView",
            "description_width": ""
          }
        },
        "0fea9d02220b42c7bb9e0770cc536b2f": {
          "model_module": "@jupyter-widgets/controls",
          "model_name": "HBoxModel",
          "model_module_version": "1.5.0",
          "state": {
            "_dom_classes": [],
            "_model_module": "@jupyter-widgets/controls",
            "_model_module_version": "1.5.0",
            "_model_name": "HBoxModel",
            "_view_count": null,
            "_view_module": "@jupyter-widgets/controls",
            "_view_module_version": "1.5.0",
            "_view_name": "HBoxView",
            "box_style": "",
            "children": [
              "IPY_MODEL_0cf70d8c8d07433388c04253c2d85c83",
              "IPY_MODEL_a038a61460b341459d6c1e59afa0df33",
              "IPY_MODEL_41b9cdef044849a9b207088ada03ef2e"
            ],
            "layout": "IPY_MODEL_a09e8e2a1792445c8881e324565fd46e"
          }
        },
        "0cf70d8c8d07433388c04253c2d85c83": {
          "model_module": "@jupyter-widgets/controls",
          "model_name": "HTMLModel",
          "model_module_version": "1.5.0",
          "state": {
            "_dom_classes": [],
            "_model_module": "@jupyter-widgets/controls",
            "_model_module_version": "1.5.0",
            "_model_name": "HTMLModel",
            "_view_count": null,
            "_view_module": "@jupyter-widgets/controls",
            "_view_module_version": "1.5.0",
            "_view_name": "HTMLView",
            "description": "",
            "description_tooltip": null,
            "layout": "IPY_MODEL_1ec06e7d9f5c481287fbb692614b4f99",
            "placeholder": "​",
            "style": "IPY_MODEL_380ce0c4cf4e45dd8dbe4e579c5afb8e",
            "value": "Downloading: 100%"
          }
        },
        "a038a61460b341459d6c1e59afa0df33": {
          "model_module": "@jupyter-widgets/controls",
          "model_name": "FloatProgressModel",
          "model_module_version": "1.5.0",
          "state": {
            "_dom_classes": [],
            "_model_module": "@jupyter-widgets/controls",
            "_model_module_version": "1.5.0",
            "_model_name": "FloatProgressModel",
            "_view_count": null,
            "_view_module": "@jupyter-widgets/controls",
            "_view_module_version": "1.5.0",
            "_view_name": "ProgressView",
            "bar_style": "success",
            "description": "",
            "description_tooltip": null,
            "layout": "IPY_MODEL_5d60ecc26eb14331bd418d5b02602f44",
            "max": 173,
            "min": 0,
            "orientation": "horizontal",
            "style": "IPY_MODEL_f64ba63c1d3743189816d507a136ee48",
            "value": 173
          }
        },
        "41b9cdef044849a9b207088ada03ef2e": {
          "model_module": "@jupyter-widgets/controls",
          "model_name": "HTMLModel",
          "model_module_version": "1.5.0",
          "state": {
            "_dom_classes": [],
            "_model_module": "@jupyter-widgets/controls",
            "_model_module_version": "1.5.0",
            "_model_name": "HTMLModel",
            "_view_count": null,
            "_view_module": "@jupyter-widgets/controls",
            "_view_module_version": "1.5.0",
            "_view_name": "HTMLView",
            "description": "",
            "description_tooltip": null,
            "layout": "IPY_MODEL_04463fa81bb843bf845652eda66ddaea",
            "placeholder": "​",
            "style": "IPY_MODEL_00176859f7c04c578cb85900eac4de90",
            "value": " 173/173 [00:00&lt;00:00, 1.19kB/s]"
          }
        },
        "a09e8e2a1792445c8881e324565fd46e": {
          "model_module": "@jupyter-widgets/base",
          "model_name": "LayoutModel",
          "model_module_version": "1.2.0",
          "state": {
            "_model_module": "@jupyter-widgets/base",
            "_model_module_version": "1.2.0",
            "_model_name": "LayoutModel",
            "_view_count": null,
            "_view_module": "@jupyter-widgets/base",
            "_view_module_version": "1.2.0",
            "_view_name": "LayoutView",
            "align_content": null,
            "align_items": null,
            "align_self": null,
            "border": null,
            "bottom": null,
            "display": null,
            "flex": null,
            "flex_flow": null,
            "grid_area": null,
            "grid_auto_columns": null,
            "grid_auto_flow": null,
            "grid_auto_rows": null,
            "grid_column": null,
            "grid_gap": null,
            "grid_row": null,
            "grid_template_areas": null,
            "grid_template_columns": null,
            "grid_template_rows": null,
            "height": null,
            "justify_content": null,
            "justify_items": null,
            "left": null,
            "margin": null,
            "max_height": null,
            "max_width": null,
            "min_height": null,
            "min_width": null,
            "object_fit": null,
            "object_position": null,
            "order": null,
            "overflow": null,
            "overflow_x": null,
            "overflow_y": null,
            "padding": null,
            "right": null,
            "top": null,
            "visibility": null,
            "width": null
          }
        },
        "1ec06e7d9f5c481287fbb692614b4f99": {
          "model_module": "@jupyter-widgets/base",
          "model_name": "LayoutModel",
          "model_module_version": "1.2.0",
          "state": {
            "_model_module": "@jupyter-widgets/base",
            "_model_module_version": "1.2.0",
            "_model_name": "LayoutModel",
            "_view_count": null,
            "_view_module": "@jupyter-widgets/base",
            "_view_module_version": "1.2.0",
            "_view_name": "LayoutView",
            "align_content": null,
            "align_items": null,
            "align_self": null,
            "border": null,
            "bottom": null,
            "display": null,
            "flex": null,
            "flex_flow": null,
            "grid_area": null,
            "grid_auto_columns": null,
            "grid_auto_flow": null,
            "grid_auto_rows": null,
            "grid_column": null,
            "grid_gap": null,
            "grid_row": null,
            "grid_template_areas": null,
            "grid_template_columns": null,
            "grid_template_rows": null,
            "height": null,
            "justify_content": null,
            "justify_items": null,
            "left": null,
            "margin": null,
            "max_height": null,
            "max_width": null,
            "min_height": null,
            "min_width": null,
            "object_fit": null,
            "object_position": null,
            "order": null,
            "overflow": null,
            "overflow_x": null,
            "overflow_y": null,
            "padding": null,
            "right": null,
            "top": null,
            "visibility": null,
            "width": null
          }
        },
        "380ce0c4cf4e45dd8dbe4e579c5afb8e": {
          "model_module": "@jupyter-widgets/controls",
          "model_name": "DescriptionStyleModel",
          "model_module_version": "1.5.0",
          "state": {
            "_model_module": "@jupyter-widgets/controls",
            "_model_module_version": "1.5.0",
            "_model_name": "DescriptionStyleModel",
            "_view_count": null,
            "_view_module": "@jupyter-widgets/base",
            "_view_module_version": "1.2.0",
            "_view_name": "StyleView",
            "description_width": ""
          }
        },
        "5d60ecc26eb14331bd418d5b02602f44": {
          "model_module": "@jupyter-widgets/base",
          "model_name": "LayoutModel",
          "model_module_version": "1.2.0",
          "state": {
            "_model_module": "@jupyter-widgets/base",
            "_model_module_version": "1.2.0",
            "_model_name": "LayoutModel",
            "_view_count": null,
            "_view_module": "@jupyter-widgets/base",
            "_view_module_version": "1.2.0",
            "_view_name": "LayoutView",
            "align_content": null,
            "align_items": null,
            "align_self": null,
            "border": null,
            "bottom": null,
            "display": null,
            "flex": null,
            "flex_flow": null,
            "grid_area": null,
            "grid_auto_columns": null,
            "grid_auto_flow": null,
            "grid_auto_rows": null,
            "grid_column": null,
            "grid_gap": null,
            "grid_row": null,
            "grid_template_areas": null,
            "grid_template_columns": null,
            "grid_template_rows": null,
            "height": null,
            "justify_content": null,
            "justify_items": null,
            "left": null,
            "margin": null,
            "max_height": null,
            "max_width": null,
            "min_height": null,
            "min_width": null,
            "object_fit": null,
            "object_position": null,
            "order": null,
            "overflow": null,
            "overflow_x": null,
            "overflow_y": null,
            "padding": null,
            "right": null,
            "top": null,
            "visibility": null,
            "width": null
          }
        },
        "f64ba63c1d3743189816d507a136ee48": {
          "model_module": "@jupyter-widgets/controls",
          "model_name": "ProgressStyleModel",
          "model_module_version": "1.5.0",
          "state": {
            "_model_module": "@jupyter-widgets/controls",
            "_model_module_version": "1.5.0",
            "_model_name": "ProgressStyleModel",
            "_view_count": null,
            "_view_module": "@jupyter-widgets/base",
            "_view_module_version": "1.2.0",
            "_view_name": "StyleView",
            "bar_color": null,
            "description_width": ""
          }
        },
        "04463fa81bb843bf845652eda66ddaea": {
          "model_module": "@jupyter-widgets/base",
          "model_name": "LayoutModel",
          "model_module_version": "1.2.0",
          "state": {
            "_model_module": "@jupyter-widgets/base",
            "_model_module_version": "1.2.0",
            "_model_name": "LayoutModel",
            "_view_count": null,
            "_view_module": "@jupyter-widgets/base",
            "_view_module_version": "1.2.0",
            "_view_name": "LayoutView",
            "align_content": null,
            "align_items": null,
            "align_self": null,
            "border": null,
            "bottom": null,
            "display": null,
            "flex": null,
            "flex_flow": null,
            "grid_area": null,
            "grid_auto_columns": null,
            "grid_auto_flow": null,
            "grid_auto_rows": null,
            "grid_column": null,
            "grid_gap": null,
            "grid_row": null,
            "grid_template_areas": null,
            "grid_template_columns": null,
            "grid_template_rows": null,
            "height": null,
            "justify_content": null,
            "justify_items": null,
            "left": null,
            "margin": null,
            "max_height": null,
            "max_width": null,
            "min_height": null,
            "min_width": null,
            "object_fit": null,
            "object_position": null,
            "order": null,
            "overflow": null,
            "overflow_x": null,
            "overflow_y": null,
            "padding": null,
            "right": null,
            "top": null,
            "visibility": null,
            "width": null
          }
        },
        "00176859f7c04c578cb85900eac4de90": {
          "model_module": "@jupyter-widgets/controls",
          "model_name": "DescriptionStyleModel",
          "model_module_version": "1.5.0",
          "state": {
            "_model_module": "@jupyter-widgets/controls",
            "_model_module_version": "1.5.0",
            "_model_name": "DescriptionStyleModel",
            "_view_count": null,
            "_view_module": "@jupyter-widgets/base",
            "_view_module_version": "1.2.0",
            "_view_name": "StyleView",
            "description_width": ""
          }
        },
        "98494abbb42843a8ad703700605e079f": {
          "model_module": "@jupyter-widgets/controls",
          "model_name": "HBoxModel",
          "model_module_version": "1.5.0",
          "state": {
            "_dom_classes": [],
            "_model_module": "@jupyter-widgets/controls",
            "_model_module_version": "1.5.0",
            "_model_name": "HBoxModel",
            "_view_count": null,
            "_view_module": "@jupyter-widgets/controls",
            "_view_module_version": "1.5.0",
            "_view_name": "HBoxView",
            "box_style": "",
            "children": [
              "IPY_MODEL_395ddbde063a4bbeb471c22762342965",
              "IPY_MODEL_f78722f61f9e403c89c00a3a58145a33",
              "IPY_MODEL_95b091498a604f80bcbece568332d4da"
            ],
            "layout": "IPY_MODEL_12583f5884b44b9ba23d9fdd4ba14906"
          }
        },
        "395ddbde063a4bbeb471c22762342965": {
          "model_module": "@jupyter-widgets/controls",
          "model_name": "HTMLModel",
          "model_module_version": "1.5.0",
          "state": {
            "_dom_classes": [],
            "_model_module": "@jupyter-widgets/controls",
            "_model_module_version": "1.5.0",
            "_model_name": "HTMLModel",
            "_view_count": null,
            "_view_module": "@jupyter-widgets/controls",
            "_view_module_version": "1.5.0",
            "_view_name": "HTMLView",
            "description": "",
            "description_tooltip": null,
            "layout": "IPY_MODEL_f4a08fac623046368e829c11152fa376",
            "placeholder": "​",
            "style": "IPY_MODEL_267880f31b8e48e3a97d3529aba51558",
            "value": "Downloading: 100%"
          }
        },
        "f78722f61f9e403c89c00a3a58145a33": {
          "model_module": "@jupyter-widgets/controls",
          "model_name": "FloatProgressModel",
          "model_module_version": "1.5.0",
          "state": {
            "_dom_classes": [],
            "_model_module": "@jupyter-widgets/controls",
            "_model_module_version": "1.5.0",
            "_model_name": "FloatProgressModel",
            "_view_count": null,
            "_view_module": "@jupyter-widgets/controls",
            "_view_module_version": "1.5.0",
            "_view_name": "ProgressView",
            "bar_style": "success",
            "description": "",
            "description_tooltip": null,
            "layout": "IPY_MODEL_ebd2caad36454a77b584ee582956833f",
            "max": 546,
            "min": 0,
            "orientation": "horizontal",
            "style": "IPY_MODEL_fd7da9e92bb94b6cbc8e7f504ac84bba",
            "value": 546
          }
        },
        "95b091498a604f80bcbece568332d4da": {
          "model_module": "@jupyter-widgets/controls",
          "model_name": "HTMLModel",
          "model_module_version": "1.5.0",
          "state": {
            "_dom_classes": [],
            "_model_module": "@jupyter-widgets/controls",
            "_model_module_version": "1.5.0",
            "_model_name": "HTMLModel",
            "_view_count": null,
            "_view_module": "@jupyter-widgets/controls",
            "_view_module_version": "1.5.0",
            "_view_name": "HTMLView",
            "description": "",
            "description_tooltip": null,
            "layout": "IPY_MODEL_a3d8cba785a04c8489e309a47a36aeeb",
            "placeholder": "​",
            "style": "IPY_MODEL_f0893be055804f7a986bb7d8b743f969",
            "value": " 546/546 [00:00&lt;00:00, 3.55kB/s]"
          }
        },
        "12583f5884b44b9ba23d9fdd4ba14906": {
          "model_module": "@jupyter-widgets/base",
          "model_name": "LayoutModel",
          "model_module_version": "1.2.0",
          "state": {
            "_model_module": "@jupyter-widgets/base",
            "_model_module_version": "1.2.0",
            "_model_name": "LayoutModel",
            "_view_count": null,
            "_view_module": "@jupyter-widgets/base",
            "_view_module_version": "1.2.0",
            "_view_name": "LayoutView",
            "align_content": null,
            "align_items": null,
            "align_self": null,
            "border": null,
            "bottom": null,
            "display": null,
            "flex": null,
            "flex_flow": null,
            "grid_area": null,
            "grid_auto_columns": null,
            "grid_auto_flow": null,
            "grid_auto_rows": null,
            "grid_column": null,
            "grid_gap": null,
            "grid_row": null,
            "grid_template_areas": null,
            "grid_template_columns": null,
            "grid_template_rows": null,
            "height": null,
            "justify_content": null,
            "justify_items": null,
            "left": null,
            "margin": null,
            "max_height": null,
            "max_width": null,
            "min_height": null,
            "min_width": null,
            "object_fit": null,
            "object_position": null,
            "order": null,
            "overflow": null,
            "overflow_x": null,
            "overflow_y": null,
            "padding": null,
            "right": null,
            "top": null,
            "visibility": null,
            "width": null
          }
        },
        "f4a08fac623046368e829c11152fa376": {
          "model_module": "@jupyter-widgets/base",
          "model_name": "LayoutModel",
          "model_module_version": "1.2.0",
          "state": {
            "_model_module": "@jupyter-widgets/base",
            "_model_module_version": "1.2.0",
            "_model_name": "LayoutModel",
            "_view_count": null,
            "_view_module": "@jupyter-widgets/base",
            "_view_module_version": "1.2.0",
            "_view_name": "LayoutView",
            "align_content": null,
            "align_items": null,
            "align_self": null,
            "border": null,
            "bottom": null,
            "display": null,
            "flex": null,
            "flex_flow": null,
            "grid_area": null,
            "grid_auto_columns": null,
            "grid_auto_flow": null,
            "grid_auto_rows": null,
            "grid_column": null,
            "grid_gap": null,
            "grid_row": null,
            "grid_template_areas": null,
            "grid_template_columns": null,
            "grid_template_rows": null,
            "height": null,
            "justify_content": null,
            "justify_items": null,
            "left": null,
            "margin": null,
            "max_height": null,
            "max_width": null,
            "min_height": null,
            "min_width": null,
            "object_fit": null,
            "object_position": null,
            "order": null,
            "overflow": null,
            "overflow_x": null,
            "overflow_y": null,
            "padding": null,
            "right": null,
            "top": null,
            "visibility": null,
            "width": null
          }
        },
        "267880f31b8e48e3a97d3529aba51558": {
          "model_module": "@jupyter-widgets/controls",
          "model_name": "DescriptionStyleModel",
          "model_module_version": "1.5.0",
          "state": {
            "_model_module": "@jupyter-widgets/controls",
            "_model_module_version": "1.5.0",
            "_model_name": "DescriptionStyleModel",
            "_view_count": null,
            "_view_module": "@jupyter-widgets/base",
            "_view_module_version": "1.2.0",
            "_view_name": "StyleView",
            "description_width": ""
          }
        },
        "ebd2caad36454a77b584ee582956833f": {
          "model_module": "@jupyter-widgets/base",
          "model_name": "LayoutModel",
          "model_module_version": "1.2.0",
          "state": {
            "_model_module": "@jupyter-widgets/base",
            "_model_module_version": "1.2.0",
            "_model_name": "LayoutModel",
            "_view_count": null,
            "_view_module": "@jupyter-widgets/base",
            "_view_module_version": "1.2.0",
            "_view_name": "LayoutView",
            "align_content": null,
            "align_items": null,
            "align_self": null,
            "border": null,
            "bottom": null,
            "display": null,
            "flex": null,
            "flex_flow": null,
            "grid_area": null,
            "grid_auto_columns": null,
            "grid_auto_flow": null,
            "grid_auto_rows": null,
            "grid_column": null,
            "grid_gap": null,
            "grid_row": null,
            "grid_template_areas": null,
            "grid_template_columns": null,
            "grid_template_rows": null,
            "height": null,
            "justify_content": null,
            "justify_items": null,
            "left": null,
            "margin": null,
            "max_height": null,
            "max_width": null,
            "min_height": null,
            "min_width": null,
            "object_fit": null,
            "object_position": null,
            "order": null,
            "overflow": null,
            "overflow_x": null,
            "overflow_y": null,
            "padding": null,
            "right": null,
            "top": null,
            "visibility": null,
            "width": null
          }
        },
        "fd7da9e92bb94b6cbc8e7f504ac84bba": {
          "model_module": "@jupyter-widgets/controls",
          "model_name": "ProgressStyleModel",
          "model_module_version": "1.5.0",
          "state": {
            "_model_module": "@jupyter-widgets/controls",
            "_model_module_version": "1.5.0",
            "_model_name": "ProgressStyleModel",
            "_view_count": null,
            "_view_module": "@jupyter-widgets/base",
            "_view_module_version": "1.2.0",
            "_view_name": "StyleView",
            "bar_color": null,
            "description_width": ""
          }
        },
        "a3d8cba785a04c8489e309a47a36aeeb": {
          "model_module": "@jupyter-widgets/base",
          "model_name": "LayoutModel",
          "model_module_version": "1.2.0",
          "state": {
            "_model_module": "@jupyter-widgets/base",
            "_model_module_version": "1.2.0",
            "_model_name": "LayoutModel",
            "_view_count": null,
            "_view_module": "@jupyter-widgets/base",
            "_view_module_version": "1.2.0",
            "_view_name": "LayoutView",
            "align_content": null,
            "align_items": null,
            "align_self": null,
            "border": null,
            "bottom": null,
            "display": null,
            "flex": null,
            "flex_flow": null,
            "grid_area": null,
            "grid_auto_columns": null,
            "grid_auto_flow": null,
            "grid_auto_rows": null,
            "grid_column": null,
            "grid_gap": null,
            "grid_row": null,
            "grid_template_areas": null,
            "grid_template_columns": null,
            "grid_template_rows": null,
            "height": null,
            "justify_content": null,
            "justify_items": null,
            "left": null,
            "margin": null,
            "max_height": null,
            "max_width": null,
            "min_height": null,
            "min_width": null,
            "object_fit": null,
            "object_position": null,
            "order": null,
            "overflow": null,
            "overflow_x": null,
            "overflow_y": null,
            "padding": null,
            "right": null,
            "top": null,
            "visibility": null,
            "width": null
          }
        },
        "f0893be055804f7a986bb7d8b743f969": {
          "model_module": "@jupyter-widgets/controls",
          "model_name": "DescriptionStyleModel",
          "model_module_version": "1.5.0",
          "state": {
            "_model_module": "@jupyter-widgets/controls",
            "_model_module_version": "1.5.0",
            "_model_name": "DescriptionStyleModel",
            "_view_count": null,
            "_view_module": "@jupyter-widgets/base",
            "_view_module_version": "1.2.0",
            "_view_name": "StyleView",
            "description_width": ""
          }
        },
        "a3a806d31a6a44deaaecc23db42ff81d": {
          "model_module": "@jupyter-widgets/controls",
          "model_name": "HBoxModel",
          "model_module_version": "1.5.0",
          "state": {
            "_dom_classes": [],
            "_model_module": "@jupyter-widgets/controls",
            "_model_module_version": "1.5.0",
            "_model_name": "HBoxModel",
            "_view_count": null,
            "_view_module": "@jupyter-widgets/controls",
            "_view_module_version": "1.5.0",
            "_view_name": "HBoxView",
            "box_style": "",
            "children": [
              "IPY_MODEL_2f3144c6b84244189807bd383e5737c9",
              "IPY_MODEL_caa462eb2afd49fd8d4ca3ca0bcaf5a7",
              "IPY_MODEL_359df439d18d4893a52e784c4a22d77d"
            ],
            "layout": "IPY_MODEL_f206d2f14b20429b8a4e6f650d548d4c"
          }
        },
        "2f3144c6b84244189807bd383e5737c9": {
          "model_module": "@jupyter-widgets/controls",
          "model_name": "HTMLModel",
          "model_module_version": "1.5.0",
          "state": {
            "_dom_classes": [],
            "_model_module": "@jupyter-widgets/controls",
            "_model_module_version": "1.5.0",
            "_model_name": "HTMLModel",
            "_view_count": null,
            "_view_module": "@jupyter-widgets/controls",
            "_view_module_version": "1.5.0",
            "_view_name": "HTMLView",
            "description": "",
            "description_tooltip": null,
            "layout": "IPY_MODEL_b8238dfb58b74e29b93eb6683833465c",
            "placeholder": "​",
            "style": "IPY_MODEL_617c24069eb34563acab53b881d9e6d9",
            "value": "Downloading: 100%"
          }
        },
        "caa462eb2afd49fd8d4ca3ca0bcaf5a7": {
          "model_module": "@jupyter-widgets/controls",
          "model_name": "FloatProgressModel",
          "model_module_version": "1.5.0",
          "state": {
            "_dom_classes": [],
            "_model_module": "@jupyter-widgets/controls",
            "_model_module_version": "1.5.0",
            "_model_name": "FloatProgressModel",
            "_view_count": null,
            "_view_module": "@jupyter-widgets/controls",
            "_view_module_version": "1.5.0",
            "_view_name": "ProgressView",
            "bar_style": "success",
            "description": "",
            "description_tooltip": null,
            "layout": "IPY_MODEL_342649cb3f124d9a847dcab57d27988c",
            "max": 442694866,
            "min": 0,
            "orientation": "horizontal",
            "style": "IPY_MODEL_08863c276c564681984fe78c47bcfcaa",
            "value": 442694866
          }
        },
        "359df439d18d4893a52e784c4a22d77d": {
          "model_module": "@jupyter-widgets/controls",
          "model_name": "HTMLModel",
          "model_module_version": "1.5.0",
          "state": {
            "_dom_classes": [],
            "_model_module": "@jupyter-widgets/controls",
            "_model_module_version": "1.5.0",
            "_model_name": "HTMLModel",
            "_view_count": null,
            "_view_module": "@jupyter-widgets/controls",
            "_view_module_version": "1.5.0",
            "_view_name": "HTMLView",
            "description": "",
            "description_tooltip": null,
            "layout": "IPY_MODEL_b56a0c32cf8f4bb1ba0a7fdf4d0a1c8f",
            "placeholder": "​",
            "style": "IPY_MODEL_e2b99f0d07ad4f029b4b2512c3292de0",
            "value": " 422M/422M [00:12&lt;00:00, 34.7MB/s]"
          }
        },
        "f206d2f14b20429b8a4e6f650d548d4c": {
          "model_module": "@jupyter-widgets/base",
          "model_name": "LayoutModel",
          "model_module_version": "1.2.0",
          "state": {
            "_model_module": "@jupyter-widgets/base",
            "_model_module_version": "1.2.0",
            "_model_name": "LayoutModel",
            "_view_count": null,
            "_view_module": "@jupyter-widgets/base",
            "_view_module_version": "1.2.0",
            "_view_name": "LayoutView",
            "align_content": null,
            "align_items": null,
            "align_self": null,
            "border": null,
            "bottom": null,
            "display": null,
            "flex": null,
            "flex_flow": null,
            "grid_area": null,
            "grid_auto_columns": null,
            "grid_auto_flow": null,
            "grid_auto_rows": null,
            "grid_column": null,
            "grid_gap": null,
            "grid_row": null,
            "grid_template_areas": null,
            "grid_template_columns": null,
            "grid_template_rows": null,
            "height": null,
            "justify_content": null,
            "justify_items": null,
            "left": null,
            "margin": null,
            "max_height": null,
            "max_width": null,
            "min_height": null,
            "min_width": null,
            "object_fit": null,
            "object_position": null,
            "order": null,
            "overflow": null,
            "overflow_x": null,
            "overflow_y": null,
            "padding": null,
            "right": null,
            "top": null,
            "visibility": null,
            "width": null
          }
        },
        "b8238dfb58b74e29b93eb6683833465c": {
          "model_module": "@jupyter-widgets/base",
          "model_name": "LayoutModel",
          "model_module_version": "1.2.0",
          "state": {
            "_model_module": "@jupyter-widgets/base",
            "_model_module_version": "1.2.0",
            "_model_name": "LayoutModel",
            "_view_count": null,
            "_view_module": "@jupyter-widgets/base",
            "_view_module_version": "1.2.0",
            "_view_name": "LayoutView",
            "align_content": null,
            "align_items": null,
            "align_self": null,
            "border": null,
            "bottom": null,
            "display": null,
            "flex": null,
            "flex_flow": null,
            "grid_area": null,
            "grid_auto_columns": null,
            "grid_auto_flow": null,
            "grid_auto_rows": null,
            "grid_column": null,
            "grid_gap": null,
            "grid_row": null,
            "grid_template_areas": null,
            "grid_template_columns": null,
            "grid_template_rows": null,
            "height": null,
            "justify_content": null,
            "justify_items": null,
            "left": null,
            "margin": null,
            "max_height": null,
            "max_width": null,
            "min_height": null,
            "min_width": null,
            "object_fit": null,
            "object_position": null,
            "order": null,
            "overflow": null,
            "overflow_x": null,
            "overflow_y": null,
            "padding": null,
            "right": null,
            "top": null,
            "visibility": null,
            "width": null
          }
        },
        "617c24069eb34563acab53b881d9e6d9": {
          "model_module": "@jupyter-widgets/controls",
          "model_name": "DescriptionStyleModel",
          "model_module_version": "1.5.0",
          "state": {
            "_model_module": "@jupyter-widgets/controls",
            "_model_module_version": "1.5.0",
            "_model_name": "DescriptionStyleModel",
            "_view_count": null,
            "_view_module": "@jupyter-widgets/base",
            "_view_module_version": "1.2.0",
            "_view_name": "StyleView",
            "description_width": ""
          }
        },
        "342649cb3f124d9a847dcab57d27988c": {
          "model_module": "@jupyter-widgets/base",
          "model_name": "LayoutModel",
          "model_module_version": "1.2.0",
          "state": {
            "_model_module": "@jupyter-widgets/base",
            "_model_module_version": "1.2.0",
            "_model_name": "LayoutModel",
            "_view_count": null,
            "_view_module": "@jupyter-widgets/base",
            "_view_module_version": "1.2.0",
            "_view_name": "LayoutView",
            "align_content": null,
            "align_items": null,
            "align_self": null,
            "border": null,
            "bottom": null,
            "display": null,
            "flex": null,
            "flex_flow": null,
            "grid_area": null,
            "grid_auto_columns": null,
            "grid_auto_flow": null,
            "grid_auto_rows": null,
            "grid_column": null,
            "grid_gap": null,
            "grid_row": null,
            "grid_template_areas": null,
            "grid_template_columns": null,
            "grid_template_rows": null,
            "height": null,
            "justify_content": null,
            "justify_items": null,
            "left": null,
            "margin": null,
            "max_height": null,
            "max_width": null,
            "min_height": null,
            "min_width": null,
            "object_fit": null,
            "object_position": null,
            "order": null,
            "overflow": null,
            "overflow_x": null,
            "overflow_y": null,
            "padding": null,
            "right": null,
            "top": null,
            "visibility": null,
            "width": null
          }
        },
        "08863c276c564681984fe78c47bcfcaa": {
          "model_module": "@jupyter-widgets/controls",
          "model_name": "ProgressStyleModel",
          "model_module_version": "1.5.0",
          "state": {
            "_model_module": "@jupyter-widgets/controls",
            "_model_module_version": "1.5.0",
            "_model_name": "ProgressStyleModel",
            "_view_count": null,
            "_view_module": "@jupyter-widgets/base",
            "_view_module_version": "1.2.0",
            "_view_name": "StyleView",
            "bar_color": null,
            "description_width": ""
          }
        },
        "b56a0c32cf8f4bb1ba0a7fdf4d0a1c8f": {
          "model_module": "@jupyter-widgets/base",
          "model_name": "LayoutModel",
          "model_module_version": "1.2.0",
          "state": {
            "_model_module": "@jupyter-widgets/base",
            "_model_module_version": "1.2.0",
            "_model_name": "LayoutModel",
            "_view_count": null,
            "_view_module": "@jupyter-widgets/base",
            "_view_module_version": "1.2.0",
            "_view_name": "LayoutView",
            "align_content": null,
            "align_items": null,
            "align_self": null,
            "border": null,
            "bottom": null,
            "display": null,
            "flex": null,
            "flex_flow": null,
            "grid_area": null,
            "grid_auto_columns": null,
            "grid_auto_flow": null,
            "grid_auto_rows": null,
            "grid_column": null,
            "grid_gap": null,
            "grid_row": null,
            "grid_template_areas": null,
            "grid_template_columns": null,
            "grid_template_rows": null,
            "height": null,
            "justify_content": null,
            "justify_items": null,
            "left": null,
            "margin": null,
            "max_height": null,
            "max_width": null,
            "min_height": null,
            "min_width": null,
            "object_fit": null,
            "object_position": null,
            "order": null,
            "overflow": null,
            "overflow_x": null,
            "overflow_y": null,
            "padding": null,
            "right": null,
            "top": null,
            "visibility": null,
            "width": null
          }
        },
        "e2b99f0d07ad4f029b4b2512c3292de0": {
          "model_module": "@jupyter-widgets/controls",
          "model_name": "DescriptionStyleModel",
          "model_module_version": "1.5.0",
          "state": {
            "_model_module": "@jupyter-widgets/controls",
            "_model_module_version": "1.5.0",
            "_model_name": "DescriptionStyleModel",
            "_view_count": null,
            "_view_module": "@jupyter-widgets/base",
            "_view_module_version": "1.2.0",
            "_view_name": "StyleView",
            "description_width": ""
          }
        }
      }
    }
  },
  "cells": [
    {
      "cell_type": "markdown",
      "metadata": {
        "id": "view-in-github",
        "colab_type": "text"
      },
      "source": [
        "<a href=\"https://colab.research.google.com/github/7rohj/NLI-contest-/blob/main/%5BDACON%5D_%ED%95%9C%EA%B5%AD%EC%96%B4_%EB%AC%B8%EC%9E%A5_%EA%B4%80%EA%B3%84_%EB%B6%84%EB%A5%98_%EA%B2%BD%EC%A7%84%EB%8C%80%ED%9A%8C.ipynb\" target=\"_parent\"><img src=\"https://colab.research.google.com/assets/colab-badge.svg\" alt=\"Open In Colab\"/></a>"
      ]
    },
    {
      "cell_type": "markdown",
      "source": [
        "2022.01.28 ~ 2022.02.28 진했었던 대회 참가 코드 정리 📖"
      ],
      "metadata": {
        "id": "kOwpsYRfSAM-"
      }
    },
    {
      "cell_type": "markdown",
      "source": [
        "#### **데이터 불러오기 및 EDA**"
      ],
      "metadata": {
        "id": "BX9iCpWqUJWu"
      }
    },
    {
      "cell_type": "code",
      "execution_count": 1,
      "metadata": {
        "id": "90061808"
      },
      "outputs": [],
      "source": [
        "import pandas as pd\n",
        "import numpy as np\n",
        "import matplotlib.pyplot as plt"
      ]
    },
    {
      "cell_type": "code",
      "execution_count": 2,
      "metadata": {
        "id": "5acf0e76"
      },
      "outputs": [],
      "source": [
        "train = pd.read_csv(\"data_dir/train_data.csv\") # 나중에 train 과 val 데이터로 나눠줌\n",
        "test = pd.read_csv(\"data_dir/test_data.csv\")"
      ]
    },
    {
      "cell_type": "code",
      "execution_count": 3,
      "metadata": {
        "colab": {
          "base_uri": "https://localhost:8080/"
        },
        "id": "c232ef92",
        "outputId": "a733da65-f494-4b88-a888-0de44c8c01bd"
      },
      "outputs": [
        {
          "output_type": "execute_result",
          "data": {
            "text/plain": [
              "(24998, 4)"
            ]
          },
          "metadata": {},
          "execution_count": 3
        }
      ],
      "source": [
        "train.shape"
      ]
    },
    {
      "cell_type": "code",
      "source": [
        "train.isnull().sum()"
      ],
      "metadata": {
        "colab": {
          "base_uri": "https://localhost:8080/"
        },
        "id": "fNsHYIR2lAjI",
        "outputId": "f87d4a4f-254e-4c7f-ecf4-c6490758259a"
      },
      "execution_count": 4,
      "outputs": [
        {
          "output_type": "execute_result",
          "data": {
            "text/plain": [
              "index         0\n",
              "premise       0\n",
              "hypothesis    0\n",
              "label         0\n",
              "dtype: int64"
            ]
          },
          "metadata": {},
          "execution_count": 4
        }
      ]
    },
    {
      "cell_type": "code",
      "source": [
        "train.info()"
      ],
      "metadata": {
        "colab": {
          "base_uri": "https://localhost:8080/"
        },
        "id": "L8wwUoDIlGEk",
        "outputId": "0f04e1ee-63dd-4af5-963f-06b3e208c6e0"
      },
      "execution_count": 5,
      "outputs": [
        {
          "output_type": "stream",
          "name": "stdout",
          "text": [
            "<class 'pandas.core.frame.DataFrame'>\n",
            "RangeIndex: 24998 entries, 0 to 24997\n",
            "Data columns (total 4 columns):\n",
            " #   Column      Non-Null Count  Dtype \n",
            "---  ------      --------------  ----- \n",
            " 0   index       24998 non-null  int64 \n",
            " 1   premise     24998 non-null  object\n",
            " 2   hypothesis  24998 non-null  object\n",
            " 3   label       24998 non-null  object\n",
            "dtypes: int64(1), object(3)\n",
            "memory usage: 781.3+ KB\n"
          ]
        }
      ]
    },
    {
      "cell_type": "code",
      "source": [
        "train.dtypes"
      ],
      "metadata": {
        "colab": {
          "base_uri": "https://localhost:8080/"
        },
        "id": "M2lAerKGKD4l",
        "outputId": "c0871d1d-5197-487f-9b22-1bbf0f3312a8"
      },
      "execution_count": 6,
      "outputs": [
        {
          "output_type": "execute_result",
          "data": {
            "text/plain": [
              "index          int64\n",
              "premise       object\n",
              "hypothesis    object\n",
              "label         object\n",
              "dtype: object"
            ]
          },
          "metadata": {},
          "execution_count": 6
        }
      ]
    },
    {
      "cell_type": "code",
      "source": [
        "train.groupby(by=['label']).count()"
      ],
      "metadata": {
        "id": "pOOTJWcjyc1r",
        "colab": {
          "base_uri": "https://localhost:8080/",
          "height": 175
        },
        "outputId": "2cddda7a-6d07-4df4-b401-a29a17b3ea59"
      },
      "execution_count": 7,
      "outputs": [
        {
          "output_type": "execute_result",
          "data": {
            "text/plain": [
              "               index  premise  hypothesis\n",
              "label                                    \n",
              "contradiction   8489     8489        8489\n",
              "entailment      8561     8561        8561\n",
              "neutral         7948     7948        7948"
            ],
            "text/html": [
              "\n",
              "  <div id=\"df-e670d975-4c67-48e0-88a8-ae9805c64b10\">\n",
              "    <div class=\"colab-df-container\">\n",
              "      <div>\n",
              "<style scoped>\n",
              "    .dataframe tbody tr th:only-of-type {\n",
              "        vertical-align: middle;\n",
              "    }\n",
              "\n",
              "    .dataframe tbody tr th {\n",
              "        vertical-align: top;\n",
              "    }\n",
              "\n",
              "    .dataframe thead th {\n",
              "        text-align: right;\n",
              "    }\n",
              "</style>\n",
              "<table border=\"1\" class=\"dataframe\">\n",
              "  <thead>\n",
              "    <tr style=\"text-align: right;\">\n",
              "      <th></th>\n",
              "      <th>index</th>\n",
              "      <th>premise</th>\n",
              "      <th>hypothesis</th>\n",
              "    </tr>\n",
              "    <tr>\n",
              "      <th>label</th>\n",
              "      <th></th>\n",
              "      <th></th>\n",
              "      <th></th>\n",
              "    </tr>\n",
              "  </thead>\n",
              "  <tbody>\n",
              "    <tr>\n",
              "      <th>contradiction</th>\n",
              "      <td>8489</td>\n",
              "      <td>8489</td>\n",
              "      <td>8489</td>\n",
              "    </tr>\n",
              "    <tr>\n",
              "      <th>entailment</th>\n",
              "      <td>8561</td>\n",
              "      <td>8561</td>\n",
              "      <td>8561</td>\n",
              "    </tr>\n",
              "    <tr>\n",
              "      <th>neutral</th>\n",
              "      <td>7948</td>\n",
              "      <td>7948</td>\n",
              "      <td>7948</td>\n",
              "    </tr>\n",
              "  </tbody>\n",
              "</table>\n",
              "</div>\n",
              "      <button class=\"colab-df-convert\" onclick=\"convertToInteractive('df-e670d975-4c67-48e0-88a8-ae9805c64b10')\"\n",
              "              title=\"Convert this dataframe to an interactive table.\"\n",
              "              style=\"display:none;\">\n",
              "        \n",
              "  <svg xmlns=\"http://www.w3.org/2000/svg\" height=\"24px\"viewBox=\"0 0 24 24\"\n",
              "       width=\"24px\">\n",
              "    <path d=\"M0 0h24v24H0V0z\" fill=\"none\"/>\n",
              "    <path d=\"M18.56 5.44l.94 2.06.94-2.06 2.06-.94-2.06-.94-.94-2.06-.94 2.06-2.06.94zm-11 1L8.5 8.5l.94-2.06 2.06-.94-2.06-.94L8.5 2.5l-.94 2.06-2.06.94zm10 10l.94 2.06.94-2.06 2.06-.94-2.06-.94-.94-2.06-.94 2.06-2.06.94z\"/><path d=\"M17.41 7.96l-1.37-1.37c-.4-.4-.92-.59-1.43-.59-.52 0-1.04.2-1.43.59L10.3 9.45l-7.72 7.72c-.78.78-.78 2.05 0 2.83L4 21.41c.39.39.9.59 1.41.59.51 0 1.02-.2 1.41-.59l7.78-7.78 2.81-2.81c.8-.78.8-2.07 0-2.86zM5.41 20L4 18.59l7.72-7.72 1.47 1.35L5.41 20z\"/>\n",
              "  </svg>\n",
              "      </button>\n",
              "      \n",
              "  <style>\n",
              "    .colab-df-container {\n",
              "      display:flex;\n",
              "      flex-wrap:wrap;\n",
              "      gap: 12px;\n",
              "    }\n",
              "\n",
              "    .colab-df-convert {\n",
              "      background-color: #E8F0FE;\n",
              "      border: none;\n",
              "      border-radius: 50%;\n",
              "      cursor: pointer;\n",
              "      display: none;\n",
              "      fill: #1967D2;\n",
              "      height: 32px;\n",
              "      padding: 0 0 0 0;\n",
              "      width: 32px;\n",
              "    }\n",
              "\n",
              "    .colab-df-convert:hover {\n",
              "      background-color: #E2EBFA;\n",
              "      box-shadow: 0px 1px 2px rgba(60, 64, 67, 0.3), 0px 1px 3px 1px rgba(60, 64, 67, 0.15);\n",
              "      fill: #174EA6;\n",
              "    }\n",
              "\n",
              "    [theme=dark] .colab-df-convert {\n",
              "      background-color: #3B4455;\n",
              "      fill: #D2E3FC;\n",
              "    }\n",
              "\n",
              "    [theme=dark] .colab-df-convert:hover {\n",
              "      background-color: #434B5C;\n",
              "      box-shadow: 0px 1px 3px 1px rgba(0, 0, 0, 0.15);\n",
              "      filter: drop-shadow(0px 1px 2px rgba(0, 0, 0, 0.3));\n",
              "      fill: #FFFFFF;\n",
              "    }\n",
              "  </style>\n",
              "\n",
              "      <script>\n",
              "        const buttonEl =\n",
              "          document.querySelector('#df-e670d975-4c67-48e0-88a8-ae9805c64b10 button.colab-df-convert');\n",
              "        buttonEl.style.display =\n",
              "          google.colab.kernel.accessAllowed ? 'block' : 'none';\n",
              "\n",
              "        async function convertToInteractive(key) {\n",
              "          const element = document.querySelector('#df-e670d975-4c67-48e0-88a8-ae9805c64b10');\n",
              "          const dataTable =\n",
              "            await google.colab.kernel.invokeFunction('convertToInteractive',\n",
              "                                                     [key], {});\n",
              "          if (!dataTable) return;\n",
              "\n",
              "          const docLinkHtml = 'Like what you see? Visit the ' +\n",
              "            '<a target=\"_blank\" href=https://colab.research.google.com/notebooks/data_table.ipynb>data table notebook</a>'\n",
              "            + ' to learn more about interactive tables.';\n",
              "          element.innerHTML = '';\n",
              "          dataTable['output_type'] = 'display_data';\n",
              "          await google.colab.output.renderOutput(dataTable, element);\n",
              "          const docLink = document.createElement('div');\n",
              "          docLink.innerHTML = docLinkHtml;\n",
              "          element.appendChild(docLink);\n",
              "        }\n",
              "      </script>\n",
              "    </div>\n",
              "  </div>\n",
              "  "
            ]
          },
          "metadata": {},
          "execution_count": 7
        }
      ]
    },
    {
      "cell_type": "code",
      "source": [
        "test_df = test"
      ],
      "metadata": {
        "id": "TDghi474eASo"
      },
      "execution_count": 8,
      "outputs": []
    },
    {
      "cell_type": "markdown",
      "source": [
        "#### **데이터 전처리**"
      ],
      "metadata": {
        "id": "_GtuKMKmTSv0"
      }
    },
    {
      "cell_type": "markdown",
      "source": [
        "온점 없애줌"
      ],
      "metadata": {
        "id": "SCBt0-ibTciM"
      }
    },
    {
      "cell_type": "code",
      "source": [
        "# 정규 표현식 함수 정의\n",
        "train['premise'] = train['premise'].str.replace('[^ㄱ-ㅎㅏ-ㅣ가-힣 0-9]', '')\n",
        "test['premise'] = test['premise'].str.replace(\"[^ㄱ-ㅎㅏ-ㅣ가-힣 0-9]\", \"\")\n",
        "\n",
        "train['hypothesis'] = train['hypothesis'].str.replace('[^ㄱ-ㅎㅏ-ㅣ가-힣 0-9]', '')\n",
        "test['hypothesis'] = test['hypothesis'].str.replace(\"[^ㄱ-ㅎㅏ-ㅣ가-힣 0-9]\", \"\")\n",
        "train.head(5)"
      ],
      "metadata": {
        "colab": {
          "base_uri": "https://localhost:8080/",
          "height": 504
        },
        "id": "H42fP_HZSnRA",
        "outputId": "8ea7e835-74bd-4e6f-e818-351a91cab35e"
      },
      "execution_count": 9,
      "outputs": [
        {
          "output_type": "stream",
          "name": "stderr",
          "text": [
            "/usr/local/lib/python3.7/dist-packages/ipykernel_launcher.py:2: FutureWarning: The default value of regex will change from True to False in a future version.\n",
            "  \n",
            "/usr/local/lib/python3.7/dist-packages/ipykernel_launcher.py:3: FutureWarning: The default value of regex will change from True to False in a future version.\n",
            "  This is separate from the ipykernel package so we can avoid doing imports until\n",
            "/usr/local/lib/python3.7/dist-packages/ipykernel_launcher.py:5: FutureWarning: The default value of regex will change from True to False in a future version.\n",
            "  \"\"\"\n",
            "/usr/local/lib/python3.7/dist-packages/ipykernel_launcher.py:6: FutureWarning: The default value of regex will change from True to False in a future version.\n",
            "  \n"
          ]
        },
        {
          "output_type": "execute_result",
          "data": {
            "text/plain": [
              "   index                                            premise  \\\n",
              "0      0  씨름은 상고시대로부터 전해져 내려오는 남자들의 대표적인 놀이로서 소년이나 장정들이 ...   \n",
              "1      1  삼성은 자작극을 벌인 2명에게 형사 고소 등의 법적 대응을 검토 중이라고 하였으나 ...   \n",
              "2      2                     이를 위해 예측적 범죄예방 시스템을 구축하고 고도화한다   \n",
              "3      3  광주광역시가 재개발 정비사업 원주민들에 대한 종합대책을 마련하는 등 원주민 보호에 ...   \n",
              "4      4  진정 소비자와 직원들에게 사랑 받는 기업으로 오래 지속되고 싶으면 이런 상황에서는 ...   \n",
              "\n",
              "                               hypothesis          label  \n",
              "0                           씨름의 여자들의 놀이이다  contradiction  \n",
              "1                         자작극을 벌인 이는 3명이다  contradiction  \n",
              "2  예측적 범죄예방 시스템 구축하고 고도화하는 것은 목적이 있기 때문이다     entailment  \n",
              "3                        원주민들은 종합대책에 만족했다        neutral  \n",
              "4       이런 상황에서 책임 있는 모습을 보여주는 기업은 아주 드물다        neutral  "
            ],
            "text/html": [
              "\n",
              "  <div id=\"df-190fa348-1458-4bba-9ae0-c8fa2bb2e356\">\n",
              "    <div class=\"colab-df-container\">\n",
              "      <div>\n",
              "<style scoped>\n",
              "    .dataframe tbody tr th:only-of-type {\n",
              "        vertical-align: middle;\n",
              "    }\n",
              "\n",
              "    .dataframe tbody tr th {\n",
              "        vertical-align: top;\n",
              "    }\n",
              "\n",
              "    .dataframe thead th {\n",
              "        text-align: right;\n",
              "    }\n",
              "</style>\n",
              "<table border=\"1\" class=\"dataframe\">\n",
              "  <thead>\n",
              "    <tr style=\"text-align: right;\">\n",
              "      <th></th>\n",
              "      <th>index</th>\n",
              "      <th>premise</th>\n",
              "      <th>hypothesis</th>\n",
              "      <th>label</th>\n",
              "    </tr>\n",
              "  </thead>\n",
              "  <tbody>\n",
              "    <tr>\n",
              "      <th>0</th>\n",
              "      <td>0</td>\n",
              "      <td>씨름은 상고시대로부터 전해져 내려오는 남자들의 대표적인 놀이로서 소년이나 장정들이 ...</td>\n",
              "      <td>씨름의 여자들의 놀이이다</td>\n",
              "      <td>contradiction</td>\n",
              "    </tr>\n",
              "    <tr>\n",
              "      <th>1</th>\n",
              "      <td>1</td>\n",
              "      <td>삼성은 자작극을 벌인 2명에게 형사 고소 등의 법적 대응을 검토 중이라고 하였으나 ...</td>\n",
              "      <td>자작극을 벌인 이는 3명이다</td>\n",
              "      <td>contradiction</td>\n",
              "    </tr>\n",
              "    <tr>\n",
              "      <th>2</th>\n",
              "      <td>2</td>\n",
              "      <td>이를 위해 예측적 범죄예방 시스템을 구축하고 고도화한다</td>\n",
              "      <td>예측적 범죄예방 시스템 구축하고 고도화하는 것은 목적이 있기 때문이다</td>\n",
              "      <td>entailment</td>\n",
              "    </tr>\n",
              "    <tr>\n",
              "      <th>3</th>\n",
              "      <td>3</td>\n",
              "      <td>광주광역시가 재개발 정비사업 원주민들에 대한 종합대책을 마련하는 등 원주민 보호에 ...</td>\n",
              "      <td>원주민들은 종합대책에 만족했다</td>\n",
              "      <td>neutral</td>\n",
              "    </tr>\n",
              "    <tr>\n",
              "      <th>4</th>\n",
              "      <td>4</td>\n",
              "      <td>진정 소비자와 직원들에게 사랑 받는 기업으로 오래 지속되고 싶으면 이런 상황에서는 ...</td>\n",
              "      <td>이런 상황에서 책임 있는 모습을 보여주는 기업은 아주 드물다</td>\n",
              "      <td>neutral</td>\n",
              "    </tr>\n",
              "  </tbody>\n",
              "</table>\n",
              "</div>\n",
              "      <button class=\"colab-df-convert\" onclick=\"convertToInteractive('df-190fa348-1458-4bba-9ae0-c8fa2bb2e356')\"\n",
              "              title=\"Convert this dataframe to an interactive table.\"\n",
              "              style=\"display:none;\">\n",
              "        \n",
              "  <svg xmlns=\"http://www.w3.org/2000/svg\" height=\"24px\"viewBox=\"0 0 24 24\"\n",
              "       width=\"24px\">\n",
              "    <path d=\"M0 0h24v24H0V0z\" fill=\"none\"/>\n",
              "    <path d=\"M18.56 5.44l.94 2.06.94-2.06 2.06-.94-2.06-.94-.94-2.06-.94 2.06-2.06.94zm-11 1L8.5 8.5l.94-2.06 2.06-.94-2.06-.94L8.5 2.5l-.94 2.06-2.06.94zm10 10l.94 2.06.94-2.06 2.06-.94-2.06-.94-.94-2.06-.94 2.06-2.06.94z\"/><path d=\"M17.41 7.96l-1.37-1.37c-.4-.4-.92-.59-1.43-.59-.52 0-1.04.2-1.43.59L10.3 9.45l-7.72 7.72c-.78.78-.78 2.05 0 2.83L4 21.41c.39.39.9.59 1.41.59.51 0 1.02-.2 1.41-.59l7.78-7.78 2.81-2.81c.8-.78.8-2.07 0-2.86zM5.41 20L4 18.59l7.72-7.72 1.47 1.35L5.41 20z\"/>\n",
              "  </svg>\n",
              "      </button>\n",
              "      \n",
              "  <style>\n",
              "    .colab-df-container {\n",
              "      display:flex;\n",
              "      flex-wrap:wrap;\n",
              "      gap: 12px;\n",
              "    }\n",
              "\n",
              "    .colab-df-convert {\n",
              "      background-color: #E8F0FE;\n",
              "      border: none;\n",
              "      border-radius: 50%;\n",
              "      cursor: pointer;\n",
              "      display: none;\n",
              "      fill: #1967D2;\n",
              "      height: 32px;\n",
              "      padding: 0 0 0 0;\n",
              "      width: 32px;\n",
              "    }\n",
              "\n",
              "    .colab-df-convert:hover {\n",
              "      background-color: #E2EBFA;\n",
              "      box-shadow: 0px 1px 2px rgba(60, 64, 67, 0.3), 0px 1px 3px 1px rgba(60, 64, 67, 0.15);\n",
              "      fill: #174EA6;\n",
              "    }\n",
              "\n",
              "    [theme=dark] .colab-df-convert {\n",
              "      background-color: #3B4455;\n",
              "      fill: #D2E3FC;\n",
              "    }\n",
              "\n",
              "    [theme=dark] .colab-df-convert:hover {\n",
              "      background-color: #434B5C;\n",
              "      box-shadow: 0px 1px 3px 1px rgba(0, 0, 0, 0.15);\n",
              "      filter: drop-shadow(0px 1px 2px rgba(0, 0, 0, 0.3));\n",
              "      fill: #FFFFFF;\n",
              "    }\n",
              "  </style>\n",
              "\n",
              "      <script>\n",
              "        const buttonEl =\n",
              "          document.querySelector('#df-190fa348-1458-4bba-9ae0-c8fa2bb2e356 button.colab-df-convert');\n",
              "        buttonEl.style.display =\n",
              "          google.colab.kernel.accessAllowed ? 'block' : 'none';\n",
              "\n",
              "        async function convertToInteractive(key) {\n",
              "          const element = document.querySelector('#df-190fa348-1458-4bba-9ae0-c8fa2bb2e356');\n",
              "          const dataTable =\n",
              "            await google.colab.kernel.invokeFunction('convertToInteractive',\n",
              "                                                     [key], {});\n",
              "          if (!dataTable) return;\n",
              "\n",
              "          const docLinkHtml = 'Like what you see? Visit the ' +\n",
              "            '<a target=\"_blank\" href=https://colab.research.google.com/notebooks/data_table.ipynb>data table notebook</a>'\n",
              "            + ' to learn more about interactive tables.';\n",
              "          element.innerHTML = '';\n",
              "          dataTable['output_type'] = 'display_data';\n",
              "          await google.colab.output.renderOutput(dataTable, element);\n",
              "          const docLink = document.createElement('div');\n",
              "          docLink.innerHTML = docLinkHtml;\n",
              "          element.appendChild(docLink);\n",
              "        }\n",
              "      </script>\n",
              "    </div>\n",
              "  </div>\n",
              "  "
            ]
          },
          "metadata": {},
          "execution_count": 9
        }
      ]
    },
    {
      "cell_type": "code",
      "source": [
        "# 정규 표현식 함수 정의\n",
        "\n",
        "import re\n",
        "\n",
        "def apply_regular_expression(text):\n",
        "    hangul = re.compile('[^ ㄱ-ㅣ 가-힣]')  # 한글 추출 규칙: 띄어 쓰기(1 개)를 포함한 한글\n",
        "    result = hangul.sub('', text)  # 위에 설정한 \"hangul\"규칙을 \"text\"에 적용(.sub)시킴\n",
        "    return result"
      ],
      "metadata": {
        "id": "sLFYFJheXwUJ"
      },
      "execution_count": 10,
      "outputs": []
    },
    {
      "cell_type": "markdown",
      "source": [
        "##### **띄어쓰기 및 오탈자 수정**"
      ],
      "metadata": {
        "id": "aBRbOpuAUEg0"
      }
    },
    {
      "cell_type": "markdown",
      "source": [
        "데이터를 탐색해보니 띄어쓰기가 엉터리인 경우도 있고, ~함, ~음 처럼 줄임말도 포함되어 있음."
      ],
      "metadata": {
        "id": "fWVbEp7mTm2_"
      }
    },
    {
      "cell_type": "markdown",
      "source": [
        "![데이터 품질 ㄷㄷ.PNG](data:image/png;base64,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)"
      ],
      "metadata": {
        "id": "cnPloix1T3YQ"
      }
    },
    {
      "cell_type": "markdown",
      "source": [
        "채팅체로 쓰여진 한국어 문장을 문법에 맞는 문장으로 바꾸어주는 모듈입니다. <br/>\n",
        "https://github.com/seoyoungh/ko-chat-checker"
      ],
      "metadata": {
        "id": "aNBmT9h2VO3d"
      }
    },
    {
      "cell_type": "markdown",
      "source": [
        "빠른 속도와 준수한 정확도를 목표로하는 한국어 띄어쓰기 교정 모델입니다.<br/>\n",
        "https://github.com/cosmoquester/quickspacer"
      ],
      "metadata": {
        "id": "n1wTGZ10VYHd"
      }
    },
    {
      "cell_type": "markdown",
      "source": [
        "네이버 맞춤법 검사 api 활용 파이썬 라이브러리 문닫음 <br>\n",
        "스캐터랩에서 개발한 chatspace 없어짐 <br>"
      ],
      "metadata": {
        "id": "J49smqYFVgbL"
      }
    },
    {
      "cell_type": "code",
      "source": [
        "! pip install quickspacer"
      ],
      "metadata": {
        "id": "0t7A-Ub9VvnP"
      },
      "execution_count": null,
      "outputs": []
    },
    {
      "cell_type": "code",
      "source": [
        "! pip install customized_konlpy"
      ],
      "metadata": {
        "colab": {
          "base_uri": "https://localhost:8080/"
        },
        "id": "ZO-2SWeTSnV_",
        "outputId": "8ff62e00-ac29-4584-ab34-6243852fd62e"
      },
      "execution_count": 11,
      "outputs": [
        {
          "output_type": "stream",
          "name": "stdout",
          "text": [
            "Collecting customized_konlpy\n",
            "  Downloading customized_konlpy-0.0.64-py3-none-any.whl (881 kB)\n",
            "\u001b[K     |████████████████████████████████| 881 kB 7.7 MB/s \n",
            "\u001b[?25hCollecting Jpype1>=0.6.1\n",
            "  Downloading JPype1-1.3.0-cp37-cp37m-manylinux_2_5_x86_64.manylinux1_x86_64.whl (448 kB)\n",
            "\u001b[K     |████████████████████████████████| 448 kB 40.9 MB/s \n",
            "\u001b[?25hCollecting konlpy>=0.4.4\n",
            "  Downloading konlpy-0.6.0-py2.py3-none-any.whl (19.4 MB)\n",
            "\u001b[K     |████████████████████████████████| 19.4 MB 29.8 MB/s \n",
            "\u001b[?25hRequirement already satisfied: typing-extensions in /usr/local/lib/python3.7/dist-packages (from Jpype1>=0.6.1->customized_konlpy) (4.2.0)\n",
            "Requirement already satisfied: numpy>=1.6 in /usr/local/lib/python3.7/dist-packages (from konlpy>=0.4.4->customized_konlpy) (1.21.6)\n",
            "Requirement already satisfied: lxml>=4.1.0 in /usr/local/lib/python3.7/dist-packages (from konlpy>=0.4.4->customized_konlpy) (4.2.6)\n",
            "Installing collected packages: Jpype1, konlpy, customized-konlpy\n",
            "Successfully installed Jpype1-1.3.0 customized-konlpy-0.0.64 konlpy-0.6.0\n"
          ]
        }
      ]
    },
    {
      "cell_type": "markdown",
      "source": [
        "#### **Okt**"
      ],
      "metadata": {
        "id": "NGwUnzhJan5a"
      }
    },
    {
      "cell_type": "code",
      "source": [
        "from konlpy.tag import Okt\n",
        "from collections import Counter"
      ],
      "metadata": {
        "id": "omLjrF7CXo92"
      },
      "execution_count": 16,
      "outputs": []
    },
    {
      "cell_type": "code",
      "source": [
        "okt = Okt()  # 명사 형태소 추출 함수\n",
        "nouns = okt.nouns(apply_regular_expression(train['premise'][0]))\n",
        "nouns"
      ],
      "metadata": {
        "colab": {
          "base_uri": "https://localhost:8080/"
        },
        "id": "tShrC5T1XrB-",
        "outputId": "72e8fa62-9e04-430e-e77e-684c4e29cbe3"
      },
      "execution_count": 19,
      "outputs": [
        {
          "output_type": "execute_result",
          "data": {
            "text/plain": [
              "['씨름',\n",
              " '상고',\n",
              " '시대',\n",
              " '로부터',\n",
              " '남자',\n",
              " '대표',\n",
              " '놀이',\n",
              " '로서',\n",
              " '소년',\n",
              " '장정',\n",
              " '사장',\n",
              " '마당',\n",
              " '서로',\n",
              " '힘',\n",
              " '슬기',\n",
              " '것']"
            ]
          },
          "metadata": {},
          "execution_count": 19
        }
      ]
    },
    {
      "cell_type": "code",
      "source": [
        "print(okt.morphs(train['premise'][0])) #형태소별로 나눔"
      ],
      "metadata": {
        "colab": {
          "base_uri": "https://localhost:8080/"
        },
        "id": "5t_2B3H0YJTu",
        "outputId": "6da10b01-1d40-4e0e-80d9-a140abb87ee6"
      },
      "execution_count": 20,
      "outputs": [
        {
          "output_type": "stream",
          "name": "stdout",
          "text": [
            "['씨름', '은', '상고', '시대', '로부터', '전해져', '내려오는', '남자', '들', '의', '대표', '적', '인', '놀이', '로서', '소년', '이나', '장정', '들', '이', '넓고', '평평한', '백', '사장', '이나', '마당', '에서', '모여', '서로', '힘', '과', '슬기', '를', '겨루는', '것', '이다']\n"
          ]
        }
      ]
    },
    {
      "cell_type": "code",
      "source": [
        "print(okt.pos(train['premise'][0])) # 각 단어의 품사 태깅해줌"
      ],
      "metadata": {
        "colab": {
          "base_uri": "https://localhost:8080/"
        },
        "id": "ydDuCJ2HYJV-",
        "outputId": "a2d1e246-217e-4952-c0d3-cdfc43090401"
      },
      "execution_count": 21,
      "outputs": [
        {
          "output_type": "stream",
          "name": "stdout",
          "text": [
            "[('씨름', 'Noun'), ('은', 'Josa'), ('상고', 'Noun'), ('시대', 'Noun'), ('로부터', 'Noun'), ('전해져', 'Verb'), ('내려오는', 'Verb'), ('남자', 'Noun'), ('들', 'Suffix'), ('의', 'Josa'), ('대표', 'Noun'), ('적', 'Suffix'), ('인', 'Josa'), ('놀이', 'Noun'), ('로서', 'Noun'), ('소년', 'Noun'), ('이나', 'Josa'), ('장정', 'Noun'), ('들', 'Suffix'), ('이', 'Josa'), ('넓고', 'Adjective'), ('평평한', 'Adjective'), ('백', 'Modifier'), ('사장', 'Noun'), ('이나', 'Josa'), ('마당', 'Noun'), ('에서', 'Josa'), ('모여', 'Verb'), ('서로', 'Noun'), ('힘', 'Noun'), ('과', 'Josa'), ('슬기', 'Noun'), ('를', 'Josa'), ('겨루는', 'Verb'), ('것', 'Noun'), ('이다', 'Josa')]\n"
          ]
        }
      ]
    },
    {
      "cell_type": "code",
      "source": [
        "print(okt.pos(train['premise'][0],norm=True,stem=True)) # norm => 되나요 => 되다"
      ],
      "metadata": {
        "colab": {
          "base_uri": "https://localhost:8080/"
        },
        "id": "Ps7cVpOqYJYb",
        "outputId": "4560c7c9-e6b6-4e03-dd7e-5603422ed44a"
      },
      "execution_count": 22,
      "outputs": [
        {
          "output_type": "stream",
          "name": "stdout",
          "text": [
            "[('씨름', 'Noun'), ('은', 'Josa'), ('상고', 'Noun'), ('시대', 'Noun'), ('로부터', 'Noun'), ('전해지다', 'Verb'), ('내려오다', 'Verb'), ('남자', 'Noun'), ('들', 'Suffix'), ('의', 'Josa'), ('대표', 'Noun'), ('적', 'Suffix'), ('인', 'Josa'), ('놀이', 'Noun'), ('로서', 'Noun'), ('소년', 'Noun'), ('이나', 'Josa'), ('장정', 'Noun'), ('들', 'Suffix'), ('이', 'Josa'), ('넓다', 'Adjective'), ('평평하다', 'Adjective'), ('백', 'Modifier'), ('사장', 'Noun'), ('이나', 'Josa'), ('마당', 'Noun'), ('에서', 'Josa'), ('모이다', 'Verb'), ('서로', 'Noun'), ('힘', 'Noun'), ('과', 'Josa'), ('슬기', 'Noun'), ('를', 'Josa'), ('겨루다', 'Verb'), ('것', 'Noun'), ('이다', 'Josa')]\n"
          ]
        }
      ]
    },
    {
      "cell_type": "markdown",
      "source": [
        "#### **첫번째 물음. stem=True**"
      ],
      "metadata": {
        "id": "Kma3nD9KXVsJ"
      }
    },
    {
      "cell_type": "code",
      "source": [
        "list_p = train['premise'].tolist()\n",
        "list_h = train['hypothesis'].tolist()"
      ],
      "metadata": {
        "id": "ltexPjBdVkJj"
      },
      "execution_count": null,
      "outputs": []
    },
    {
      "cell_type": "code",
      "source": [
        "len(list_p)"
      ],
      "metadata": {
        "colab": {
          "base_uri": "https://localhost:8080/"
        },
        "id": "HyVHS9thVkLx",
        "outputId": "e5e31f7f-3b3e-4332-910b-4b910432cb14"
      },
      "execution_count": null,
      "outputs": [
        {
          "output_type": "execute_result",
          "data": {
            "text/plain": [
              "24998"
            ]
          },
          "metadata": {},
          "execution_count": 13
        }
      ]
    },
    {
      "cell_type": "code",
      "source": [
        "len(list_h)"
      ],
      "metadata": {
        "colab": {
          "base_uri": "https://localhost:8080/"
        },
        "id": "ZQ4KoR42VkOG",
        "outputId": "7f669d5b-ced4-4044-9a53-8bf810997bc6"
      },
      "execution_count": null,
      "outputs": [
        {
          "output_type": "execute_result",
          "data": {
            "text/plain": [
              "24998"
            ]
          },
          "metadata": {},
          "execution_count": 14
        }
      ]
    },
    {
      "cell_type": "markdown",
      "source": [
        "ㅎㅎ 결과적으로는 아래 코드를 수행했을 때 더 낮은 점수를 받았지만 그래도 고민했던 내용을 써보자면 ..!"
      ],
      "metadata": {
        "id": "JEKudf9hV7wk"
      }
    },
    {
      "cell_type": "markdown",
      "source": [
        "**전해져** -> **전해지다** <br>\n",
        "**내려오는** -> **내려오다** <br>\n",
        "**넓고** -> **넓다** <br>\n",
        "**평평한** -> **평평하다** <br>\n",
        "**모여** -> **모이다** <br>\n",
        "**겨루는** -> **겨루다** <br>"
      ],
      "metadata": {
        "id": "3d7hhbxXX_6X"
      }
    },
    {
      "cell_type": "markdown",
      "source": [
        "#### 🎃"
      ],
      "metadata": {
        "id": "9p9quH2DYswF"
      }
    },
    {
      "cell_type": "code",
      "source": [
        "import time\n",
        "from tqdm.notebook import tqdm # 더 이쁜 그래프\n",
        "\n",
        "#pbar = tqdm(range(1000))\n",
        "\n",
        "somelist = []\n",
        "\n",
        "for k in tqdm(range(24998)):\n",
        "    aa = okt.pos(list_p[k],norm=True,stem=True)\n",
        "    somelist.append(aa)\n",
        "    #somelist.sort()"
      ],
      "metadata": {
        "colab": {
          "base_uri": "https://localhost:8080/",
          "height": 49,
          "referenced_widgets": [
            "9999f2f0fbdd401d89c54a6e426a0285",
            "d8f03fc2a3ce49abb87c75bbf1fedd4a",
            "8cf53e21cde24ad6a8f0a74777831d5d",
            "63c7deb9ee6249ae8a621c1adbb3fb36",
            "7526510692aa452c8cf89a470edf8d97",
            "5e08cb08e64847399cd07c586f089340",
            "e486251ddb184f939acd42d9cecaaf41",
            "79b11770703d422688f47587201943a6",
            "030bcb5c1bb64ac2b889489a8a0849a8",
            "d18b689003814c29bf8ba11252d4f4d1",
            "3a5e3d6a6e7e40818abb407f2457af3e"
          ]
        },
        "id": "u6LmRZ6TYJvI",
        "outputId": "f9ea7560-f637-4d34-9ec5-78008207997d"
      },
      "execution_count": 23,
      "outputs": [
        {
          "output_type": "display_data",
          "data": {
            "text/plain": [
              "  0%|          | 0/24998 [00:00<?, ?it/s]"
            ],
            "application/vnd.jupyter.widget-view+json": {
              "version_major": 2,
              "version_minor": 0,
              "model_id": "9999f2f0fbdd401d89c54a6e426a0285"
            }
          },
          "metadata": {}
        }
      ]
    },
    {
      "cell_type": "code",
      "source": [
        "import time\n",
        "from tqdm.notebook import tqdm \n",
        "\n",
        "somelist2 = []\n",
        "\n",
        "for k in tqdm(range(24998)):\n",
        "    aa = okt.pos(list_h[k],norm=True,stem=True)\n",
        "    somelist2.append(aa)"
      ],
      "metadata": {
        "colab": {
          "base_uri": "https://localhost:8080/",
          "height": 49,
          "referenced_widgets": [
            "e37851f197af47b7bd1d1eba228eaa52",
            "4bdea45ed47141958ab277e51ac71d10",
            "49828c28ed6c445c87cbb390cf514c9a",
            "73c7bf2ddd394913b90d15a934306897",
            "18cebfa4b95940469a1059c782003830",
            "5855f0447f16402fa870c10f9f9ceda4",
            "cc82e08851234cc29a4dc152f5fb2ce8",
            "405ca522911240609b8eb451f0642409",
            "16e2bcd747b545c28b63fd36c688b1fe",
            "18518b63e2224afca215a0d1a529f8c8",
            "5b0fc346ce3e4965b59a0fbd20cdb851"
          ]
        },
        "id": "7OmETvVAYmOF",
        "outputId": "3f73e736-fe38-49ad-e4bf-e61cc443a30d"
      },
      "execution_count": 24,
      "outputs": [
        {
          "output_type": "display_data",
          "data": {
            "text/plain": [
              "  0%|          | 0/24998 [00:00<?, ?it/s]"
            ],
            "application/vnd.jupyter.widget-view+json": {
              "version_major": 2,
              "version_minor": 0,
              "model_id": "e37851f197af47b7bd1d1eba228eaa52"
            }
          },
          "metadata": {}
        }
      ]
    },
    {
      "cell_type": "code",
      "source": [
        "# 확인"
      ],
      "metadata": {
        "id": "JR5HplEPYmQf"
      },
      "execution_count": 25,
      "outputs": []
    },
    {
      "cell_type": "code",
      "source": [
        "print(somelist[3])"
      ],
      "metadata": {
        "colab": {
          "base_uri": "https://localhost:8080/"
        },
        "id": "9qVAevE8YJxS",
        "outputId": "b35dbbee-cb93-451d-8432-4ee31af76df1"
      },
      "execution_count": 27,
      "outputs": [
        {
          "output_type": "stream",
          "name": "stdout",
          "text": [
            "[('광주', 'Noun'), ('광역시', 'Noun'), ('가', 'Josa'), ('재개발', 'Noun'), ('정비', 'Noun'), ('사업', 'Noun'), ('원주민', 'Noun'), ('들', 'Suffix'), ('에', 'Josa'), ('대한', 'Noun'), ('종합', 'Noun'), ('대책', 'Noun'), ('을', 'Josa'), ('마련', 'Noun'), ('하다', 'Verb'), ('등', 'Noun'), ('원주민', 'Noun'), ('보호', 'Noun'), ('에', 'Josa'), ('적극', 'Noun'), ('나서다', 'Verb')]\n"
          ]
        }
      ]
    },
    {
      "cell_type": "markdown",
      "source": [
        "##### **확인🥪**"
      ],
      "metadata": {
        "id": "0b8iK5kVZ0Ix"
      }
    },
    {
      "cell_type": "code",
      "source": [
        "for word, tag in somelist[5]: # somelist = pos 마친 list 형태\n",
        "        print(word, end = ' ')"
      ],
      "metadata": {
        "colab": {
          "base_uri": "https://localhost:8080/"
        },
        "id": "O7e8beKxVkTC",
        "outputId": "a3cea579-1cc1-47bf-b125-eef85b714d6e"
      },
      "execution_count": 29,
      "outputs": [
        {
          "output_type": "stream",
          "name": "stdout",
          "text": [
            "이번 증설 로 코오롱 인더스 트리 는 기존 생산 량 7만 7000 톤 에서 1만 6800 톤 이 늘어나다 총 9만 3800 톤 의 생산 능력 을 확보 하다 돼다 "
          ]
        }
      ]
    },
    {
      "cell_type": "code",
      "source": [
        "for word, tag in somelist2[5]: \n",
        "        print(word, end = ' ')"
      ],
      "metadata": {
        "colab": {
          "base_uri": "https://localhost:8080/"
        },
        "id": "o6Rf-uRcVkVb",
        "outputId": "29130777-aa45-419c-fa92-fc24b6fd1457"
      },
      "execution_count": 30,
      "outputs": [
        {
          "output_type": "stream",
          "name": "stdout",
          "text": [
            "코오롱 인더스 트리 는 총 9만 3800 톤 의 생산 능력 을 확보 하다 "
          ]
        }
      ]
    },
    {
      "cell_type": "markdown",
      "source": [
        "![image.png](data:image/png;base64,iVBORw0KGgoAAAANSUhEUgAAAkgAAABMCAYAAACWEEiQAAAaRklEQVR4nO2dv2rjzPfGH//4XoQNTmHYdptUsWGbwHsBK+EFy9XLltuFdHZSOHYX0qVctrIMa+S9gIU0C1aqNG+74CIG+y70KyRZ0mhGGkm2k+w+HxAk1r/RjKTz6JwzMzXP8zwQQgghhJAd//fSBSCEEEIIeW1QIBFCCCGECFAgEUIIIYQIUCARQgghhAhQIBFCCCGECFAgEUIIIYQIUCARQgghhAhQIBFCCCGECFAgEUIIIYQIUCARQgghhAhUFkjbmYlazYS93kdxDsUW9qcaarUJ3IOfy8WkVkPtRu9MUf0FZfxkY7vP4jxOUKvVMHksstOBypJ1xplZopzFcW/K3gfF2pUQQsjbJlsgrW2YtRpqqUXXwITCRFiyDG9g0LMWqRF9nCSEmntzAAOvrI9y12TOqpVuOzP98wblmjz6RnzyGFsn3TMw9qlFR+iq9o0tUhHh77e7ZqG99oPifislWPdZLkIIIW+NbIHUtOB4HrxweZ7CAIBuC628I69tmLUG+phiEz+Gt8EUfTRURuhsENs2uWxsA4CBVrPUtVYnVh9+WYCxG5Tvu4W6ar/wmoL6M+wNPM+D01PucWDaGCTqdokxAOBUo27FfdP3h/Eu9+44EHVY32X3DDD+p/1CZSKEEPIWKRRic7/1sQAwvsgQAwHbX45i2zqsizGABZxfxwrg/MHM+2ic+O0SMmzX0LAWic2G7QzP3+MDhgAM+zP+NBmx+r2Avqje4uHHAsACq7X/f+SR6mB4yIISQgh5VegLpMcJOtcAulOcr8xd6EI0xCH1DyYMAMM7McyzhX03BGDA/LBvD0pk2Fb/Fd03NIZ6YaavwXU/rfyrC3NotA1pEHZT1Z823Sk2oWcvYOxGnpP4b543kAggF5P2EMAYl6JHa95HIy98WJDF7xUAYLt6Kryvnz9UIE9pbeP2GkDXxLmOQHr8iv7c/9O/b+MeqdDLRggh5G9ATyA9TlBrD31j/N1Cu+ekQhgpmhacXTgtng8Sht0cWHGjlZXfkxBjC/RP0kImNLjDny6AFVZzAPMVVmVqJZMt7E+RCFpYX2CvgfquTjIM6XqFBYDFjwdsg7Cbsv500fQgyXExqXUwhIHps0Q8dYPw6HcL9az8nnAJyrGwGukcq/UKTwBw/QAXoWcnFLSHYAv7oo8FDEzvRC/mEB0hl247M/17fLT023DeR+OISeqEEEJeGV4OG9vwAHjoTr2Ncr3hTZ/zjnRINt60C29sTz0D8MsbLGM3Wg+MvWWV0zzHjt+depvdcePXv/TGgIeReKZw2+T2Uf0F6xX1vHd21yJru/2XZWMbHkbTWB0ES1BP4X3mt1d1lqPk8ZO/J++DcFvx3P7vYf2o2pUQQsifSIYHyfcYNCxg+qxOQvY9JzFvkIYnKLPnVJlebOsHOHMDrQ8W7nceGQNGVxbiK4/7y/GPbG+C+vBDMBsb6J9kh362sy/oz4Gxu8QYC/S/7bG7eME6c298bw/sTbLttCjTi83P7THencO6i8KBRtcArm/33mPMvantwsGbq/ysqvaV7w0dnMl+D+snSE7XOB4hhJC3T4ZACvMvHFjrPAMcEzliz7fcRTDQGb3YPFcWvApCKaPLxHEM+x7OxRiY9/Fltp9AW7vnwJH0PgvDa6KB3fE48UNeoyUGZ20M3DFw3dnfmDoF6ywUBOV60WX0YlOEF31xKOQ4dae4/37pi8ULez+h0ECcd67hh8qyehZK0QgjchwkQgj5KyjUi23XpV3SjTpFqQEKke0NaUvSnwPv0fTfNna9kLpT3PfqwNkAG9vAwurskm/3Q+BF0cpRCZLS496MswGWI2D8rrUfYVC0zsKSlRqcMcuDJEtQD7xHQQ85v3djmBfUxuB5CmPeR6dqsjqA7Ro47Qb3aSlPT3qYgDzxRwgh5M/k1U41IhNj4ZLw1DQtODsvVGDgYp4D37uzwbSbd8YivdiyEEMx6TIBvhdn0KtnjicVChjdASW16ywXeZkTjJZqr1VCnPjHCr1VqZBs4HHUSVbP68VWP7Mw+F70WuNkeZDYzZ8QQv4mXq1AIuTF6IqDm6rEHyGEkD+VQgLJH2xQ1vW+2D46U21k7XeYPJBYzpVu0vJcHMIgtuyhi3i952A5Ak5bepk0ZetMvV+GN+26k5Grc5g571TJ1Hsnq12PMp8fIYSQl6bmeZ730oUgcrYzE43fl/RaEEIIIUeGAokQQgghRIA5SIQQQgghAhRIhBBCCCECFEiEEEIIIQIUSIQQQgghAhRIhBBCCCEC1QXS2oZZZsyfsvvtie3M1B6hmmRwUwOKTieDLfCpzH4vzWsrt4tJ5ZHfS5z1JhjDrNQz7I9WXngKooMdJ4+XqePXTazuHyelxqVzbw7fdtuZybkTVbwC+1u8bVxMSo1DV3Y/TYEUTvGgPwCi/OVV/KHQmDk+ZxDEyg9i1jxneYMpxrmpAbWsxQSyjiPbP+u61nbO+SZ61y8e55Odv8/MrHbOHW6JfQLy6lt2Hap9ygjpm5L77VBPe5J3P4dT1Ozlvn2clBz0tKKACSYePsQArIlSKurqrX88Jd7ZFQbbjR+neFuWN0x6x/4DB3JV3fdFn1uUsdvSo5Rsw+T7S+t5KvuuUdnoPbwrcgWSe1NDB9G8W8v3fTSOpsqFmeOfpzCA9DxgyoEUt1j9V7EIZwP1nGNFJjC98gBPtSwzdnR9I41lep92DVC1RdNSn+95qlfmtQ2cOMBzbN+Pjp5IGonl9QBvoHfe3flXAJ6yhWMWbkadf7fS28vaaFTy3JWRTZy7wbRroJUz0rs/311sP3cMYIxl4lgFRox/CYI5+tLXkcQfBV5uNNRCMfnCN+yN3gTcUjLm74s9m8myiAZHOEbqmc5bL0e8rqJT5mxnZuzdvwTaL+NJU3sbxHu6zITSYvsJbSMIlpShTxhnSf3krZciXlfx5/Zl7fYW9qcGnI/h/beB+aNx2I8O2dygWXOJapItkNY2bq/HWMYepvbVEuPr2yM/KMHXwskKl54H758HzRfFCqs58LTyGyb+ksqbIuXVMLv1xUbqhdb2RdL1rVxAZHmQTvp65/7WB+x7IP5A9u4BOOVFSxG+9QEsgG9v+ptwj6ywmp/mCqQEaxtmewhgiE7ZL6r5Civhp4XVQO2kj4M9RbIv6XZ6umB/gma50UgJxcCAGvZn7G9seomQdccADEz/Dc7yOEHDOt0ZvY39lGgL96aB/vvlzphM/+skjEneehULq6H0ROTvv8XDD0TXgDY+24Dz67iete3MPOi72r1poI9o7sVk27iYnPSBndBc4tRqRJ60tQ2z/YTpc9jup+ifxARW3nolQ3SUHiSN/V/abj9+RR9T3Pd2U8bDupsCPx5eLKRXlhyBtMJidC68TNo4Hy2w0qhocY6vznXsN42XayRoHnDuefC8gV+W0KsTCiWFMndvOniypzi1vsBeJ1+Yul+J2eGKfc7wfpoUIiG/F8C7lmKfFtBdqMVKd5rhtSrozTk2MxM7rxk6ak9ZFu2MENsx8oishvr8Ja5nO7vFMPU8qgg/KhyYwQt689Hx55jTPvcW9t0TxqMn3AoG1bA3kUdXxvoBzhwY/pSfK8vzs0M2aXCFr0L3poNhN/7i1mWB/olu+MbFpD2EYd8Hom0L+26YEGX13iXGcwcPawTGLCamUId1McYiNCZ56zPI8iA5uXWQFuP11ikWv0WpnMF6hSc8BbYi6anpXOft6wvkhnWKcRUvbjBnpFQQhnV7F91T9Z4T3WPrFZ5gwPwQrm3jfBR9cLvf+liMLiNxfvYZ0+4QD8G7JW+9miwP0iD/+a9ot9NkCbb0M7xdPQHvW8nntNnCaXjPvyFKJ2mHN0kW/tddtCxHsd+yXq4BkaBR3BS78Jf4Bek/jB0s4fQsDJ5NOCcV3MMy910Rl2duPlBHve87A1C+lFbA3JALKwCY97PPm/eg/jsFrC9JATb7AsBUn1NFIr+nAcxVG4YhxfvIa3blAe9ui+cjZYXYZBPeynKQ8l7kKjJDqp7EI5h7Mfhqxb/o1dtNAvGO0LsCPyETwfO0REfDA+tiUmtgdeFgcHVf0EW+hX3hC7MlOtLclSzPTxG0hBYgNYb6GIEXIN84bWe3ggjzvdjJCadbaHUXvjdmvcICglew2YKxE1A56zPI8iCVzs+47qBWa6CvfH4j3G99LBBcp+BpW2qIHtP16/y8TDlDgne3TBBufzlYdE2cq+7BZgunu/IDgIuH67At/fQNI/HxWkfrffhRkLc+iyxBUi2nVsduJxHSXDTtn5H6qPfvef9Do0oEJ6qbYvVQbr/SAkl3hvnS5CZHq1yP/ovd+biJ4uxNC453idXJMXq9SMjKB/JycpB6l8C1zIPi+sJqdCkXK+I5R0gLBplIEI/xbAInMcHww5Tn7+SREAwboCtuEAij2oO/jfhC6zmAd14y2bsA9ibdPoU9DvvH94beawiK6IU2ULRv+yovD8XFJBBY/jHqsL77eQT5z08krKwm0L7aoHVXMul53vc9XhnGXVdopb7mY4hCovzL28VXa4HxhSjCxLwx31Du6LaQMCfNFk5RYL2EXRvvQouCV6KsJ2609MN8qedXIBSk7hSwvhZP8m1asPLeTykhUcKj/74FxKMECeHYxiDIn/HX36L1nHyuRDvYepf87M9bn0LIvdvYRsoTqHquddC226Xtr0/a07jCam7swo3F8vziRPdxsXoot1+2QGq2YFw/CDe3i4fr/ERRQB5i0yYzOTrL9egbiPQXg/97WDn1nqPhZg4I3LTl4/kCj5MCIZZ2FGYSvU6uxBPxOJF7i66hCDnliA1RaJURR0WuMzP0p7NNfPM99OIrRDAMQKa3sHgPuTDhMv9+VSQMn/SxUIgN+b2bfFZ8fA/A4Mw3vk6v7r/ME4ZWFFbhfrriKoYsSbu0cfe//Mf/pAVhOk9JNwQl4fEBQ4xxXsGAvR5aaHWfEiGZ7epJ4hmQsYV94ecvWmcWLkdDdPaeIKzybGiEoOJcd/AF95Fn630fjVAkrW2YtQZWF+Gx/Y/sV9/DsaLdBlDB/vqhWPy3Snoo1ys8ZXnrXik5Ail9c7s3HQwVX2IRsh44VdSvoktnzkOX191Z50YXX6CJMGGVl2mc9Qro5rx4riSeIFldng1yvFVvLBepLHkhroNcdx34XqTu87xT/n3fwVKr11HWc1c+FwXKrsfp50cmrKJylf3ylXdZ/4qW7jGPJFzcn0NAmiMm5n4IvWvFJPj1Ck8osD5eBmlddTBUhW2U79A6zj8C/V0HCT/EG+XjqPA9iPEk3faVfmL50RklPzza/0534Us/BDfF591908bAHWMR84iJIavV76T3MW/9DsUz1rAWilBpRli5tN3WL1dmqPbsM6bo48uuvQPB/PE8/8NGw2t8THJDbO2rWM5CoZc1gsqtOC7F2oa5y6cQcprQyaw41ddhNRffAWhah/HMqLxJhbwnbv4YTTKuRY9X+eTko6JKrNYZ2iBOqQE0Y8Tv+8L5SvsbRHE7M6Peo4klCD1I23O/g0HevpMkGz+3cKvZbVotXHZb7GEwSJWXqoVWVzSUfrjB/FD3v/aR9NRgvYpyY/LWCyRDaxpLxr1V7zmxd38HcPNDmWEO1ibh5SvpRdSgymCQUk+H/t5ovRdDSb7w9e+BvPUCWR5T6ZLdFpXstm65lHnEUXv75/dTXnI/xrK8VnleY1WUp6q98aryPPWM7tTbqNZh7C2rHN8dexipjrD0xhnH39iGB0C5GLa01NF5M/ZNL4pyuONC/hwP42r7Jc47Tpcnb12KpefB8Lxnzc212HheF57nxn4aFfN7eap7Yl/H0S23ipHmdpVYemMY3jTVNhtv2oU3rnz+vOOonr89nT/n/bEc5TzDsbJkb6eqxwI8Tz1DdQx3nHg/bGzDQ+yduRwh9o5LlzdvvfSKtOqmLLH2zXw/q1mO9O+P5PULJbGNUucP9pbXddg2z1PPQLycS28ctxtimwvtnLtexj5spg5ZdjtVngy7p3MMCeXaLdve738/z/tfNXl1BJotGNcdTP5Ju9PDbrubjN0NW0O5yjgbwNtHGOZsUC6cU3a/t8qVB1y9ouMQ+GEWA432BOep3I4t7E8dDEdLeIc6ffMcZreB29nn9DMcJAGbzzrd1YHTiwMn2ge9zS5lX/VnA2xsE41aLfhhjKUXfRG3rzaYfmpgt3q0hBcP++SsJ2XxPR341EAtdODHvV9NC84zYJ7UEFZ9ou6bFhx3hdpJDf7Icgamz070nOStfyukPIJ/D0eYrLZil8WmBScYNVrct4NlruvtIF1d3wJnA8CFPFzURkHxtUj2ZKsafvpbyEoSP0KoUewkUcb1XO85QThLPIbQU/Qg5/dzly5/S57hkxUutYYJUOVFiURdkEu9p4IPKlVtJMP94nZC7liqTvPWK67oD3n3ta9yrjmrE03udQp1K9oTMcQkliMRFpLcj3nrpRyum38pVHlBL1WeI1LzPO9gH4CEEEIIIW+RI3iQCCGEEELeFhRIhBBCCCECFEiEEEIIIQIUSIQQQgghAhRIhBBCCCECFEiEEEIIIQLFBdLM1Jpgc7+UnO7ib6FKmzxOgnGMtsCnEnU8M194+pCS5a7Krt4EjvV8SM9Tti6q16F7E4yHUmp6IReTqlMSEULInskXSDfCAHfWIj1fVVUDOTNLz3T+qhHrruxggWt7TwMzVhCa+xBCNyXaVHpvFJlLLo5bbW66eHu2h8C8HztGTr2u7YzzHFjkifdPyXqUTv6sM+Dg4+TND1ZICPn7yBdIiVnRl8GP4+SMVnkju4ovaNnIm/Ymecwyk8kmJmeVvPxvsozDFviUJV7y1isQr6tIvQF+3Z04wHNsv49OBZHwxug5Qr0F9+CurRvAXOM4axuo3SbrMVyeW3rC8UrRjp4HeA5QdKbsQgjiTvxQyRPN3amkzMWnsjFsYeJY3SkIRsviE1ASQsgLohliC8WBP7v4bgoLHU/G2gZO+jGhsAHuKs50LuNxArSfIgNoPyXLNzOB65iwE9ffNID3y6iM/3WS3o689SpUs8Presi+9QH7Pml8ew4wGpasw0VaCMz7+kLj2KQ8SB3/97NB1BbdI5ZH5o3R9ooNFfeCTt23s6fd/W7lHYAQQkgBsgVS/Cv9IngRr0xg9dn/+w7ZXiEA+OX4X6+7yRXrwMUYuCsaJgrnA1N4Tn4OgdFlJCQ+mMDcicTA7wUwOo+2/2AC85X/99oGrg3g39CjE5Txx4Pe+iyyPEilJ5zcAv+V2G12C4wkdd+d5giNLfBjAVwrrve6oy8UsgSjyis3WqY9H0U9SE0L8C7lc8qdrDQ9QG7am+d5wO+GpkgaK+6FIiJP8CRxHjxCCDkI2QJp95XuAbLJHptW9vqQ9630b6E40cYIDJMiLHAlhKx+OUDXjIzeOyNp4H85QDco13oF4DRpIJutSGDlrc8iSxDoGLd/p4D1JXme2RdgPs6uc5GbGvD7Erga+CG6IoZ19gX4uPE9hzIREwqYPMGXGaLSDDmGlPIgqbwwxUNNmYRtvvdJHN3IixsPt+5FJMUmJH6R3L9ogs4/efJLQsjbQS2QVImdsiTtrCTVD6bvYdi99LbA3TC9nXhMa1HuikLPggXgLhZ26DnJ2e1/XybDEl1BxDWF//PWy0jlbwkeBJ2wSNMCns2k5+OHWcyo39QALCMB0nN8w6qTRxUKq17dFyXvbgsaZCF3S2cRDXToodpHgnvukpWL1E63RS2o27g4DL2GKQFbJcQG4PHBF6Px4/buAcSFekzoFBIaRuQZyxC66Rnio95nw3YNtZM+yj25YyyD3KRBEeFPCCEH4n/KNU0L8PaQ19C0AHcFtGvBDwbgTpMepJ4D9KqfCkDgWRhgF4pwA0N1UwP+CxJVgSC35XT/3oNDULUtrrz0bz0n+KMNfA/+/O4ktxGF1W4/E7hpaXp86sB3yfl1yb036ulyx9nXfSwe73EC3LX0c3/EcsxMAPcVwqwqDOD5MAnj9Z4Drwe/V9pdC5tYkrULYOx6GDRtmCdFvcOEEPL6KJikXSJEBCRDdZ4DYJX2yOydNjAC8NMF4ALXAC7iHqV7oDuMvBViyG8t/J+3Po60e38HSg/CUccRKtCWYtgypOcUC4fFkXbbz+lBluidWNTrE5DrSco7hpD7k+rmf4TQ1Nm54I2FH/6EeeAedIQQ8vehIZBcPwTwUZJsXLa7+c+hJC+pymCQgdEva6CaLQBPyXOvV1EOU956kbxcmyq5N1VY20gk3Ou25b4GgwzDdak6CJKnVSGhhMAumeAcz5crdYycXmRhaKrnHMArFC/D0vfGxsOtOl4sUcwdO8n7ugPpWEgvOsgoIYSoyRdI65XQCy1G7x7oPmWLmrWdFD6PE6FHmA7tnF5GQa8y62v0U+I8gTcp3nsrTHTu1X3jOVoA38KXdZAn9THo9Za3XkWZgRHjqAbQLOt9+uWkc1hCyg4doO1NcjPave2Pe/XzgMYy04NUZIgD1WCTCk/SvnL5dghCTTePrerwAPHBHgPvWUNX5JwN0mMghcuxPg4IIaQg+QKp2fK/PmWGfvYFmJ9mu/ebFuCeRomj7SHgHiBH4mzgj220C4E8JXMxrjzgfewr2gLwHMs/ugrGNgoN5nsh8TZv/SFIDZJY0fuUSpiPEY4TdbAE2bYgMuO4vmD458DGUjpYYiz0q3VP5niSxAFOMz1XVcpxZChyCCF/GRohtrYfgvgh+drV7U0lhkiURnghH6cmXPK8GwlBITE0V1mGKEgmVgqPvPUKqnbz3ydNC7uBOou2pawn2W7RDLNeeX4vuNT+wQjXh+69pAozHSuHiBBCyJuh5nlhty5CCCGEEAJo92IjhBBCCPl7oEAihBBCCBGgQCKEEEIIEaBAIoQQQggRoEAihBBCCBGgQCKEEEIIEaBAIoQQQggRoEAihBBCCBGgQCKEEEIIEaBAIoQQQggRoEAihBBCCBH4fzbDmtDV2SU+AAAAAElFTkSuQmCC)"
      ],
      "metadata": {
        "id": "nNrflMRhcEpq"
      }
    },
    {
      "cell_type": "markdown",
      "source": [
        "##### **확인🥪🥪**"
      ],
      "metadata": {
        "id": "IDmjjDTTa5t7"
      }
    },
    {
      "cell_type": "code",
      "source": [
        "print(train['premise'][15])\n",
        "print(train['hypothesis'][15])"
      ],
      "metadata": {
        "colab": {
          "base_uri": "https://localhost:8080/"
        },
        "id": "lo7xsOrAafyG",
        "outputId": "5442d85b-2093-4117-cd77-efbc895006af"
      },
      "execution_count": 32,
      "outputs": [
        {
          "output_type": "stream",
          "name": "stdout",
          "text": [
            "상당히 많은 것을 내포하고 있는 영화\n",
            "인간의 감정에 대한 내용을 내포하고 있는 영화\n"
          ]
        }
      ]
    },
    {
      "cell_type": "code",
      "source": [
        "for word, tag in somelist[15]:\n",
        "        print(word, end = ' ')"
      ],
      "metadata": {
        "colab": {
          "base_uri": "https://localhost:8080/"
        },
        "id": "80q9XAIEVkaU",
        "outputId": "787913d2-7cab-40b6-cd6e-0b5033b07148"
      },
      "execution_count": 33,
      "outputs": [
        {
          "output_type": "stream",
          "name": "stdout",
          "text": [
            "상당하다 많다 것 을 내포 하고 있다 영화 "
          ]
        }
      ]
    },
    {
      "cell_type": "code",
      "source": [
        "for word, tag in somelist2[15]: \n",
        "        print(word, end = ' ')"
      ],
      "metadata": {
        "colab": {
          "base_uri": "https://localhost:8080/"
        },
        "id": "J8LjIDMMbBTr",
        "outputId": "e72f9a55-3c1f-4ac5-e6f0-38f64bdf48d7"
      },
      "execution_count": 34,
      "outputs": [
        {
          "output_type": "stream",
          "name": "stdout",
          "text": [
            "인간 의 감정 에 대한 내용 을 내포 하고 있다 영화 "
          ]
        }
      ]
    },
    {
      "cell_type": "markdown",
      "source": [
        "![image.png](data:image/png;base64,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)"
      ],
      "metadata": {
        "id": "nbm3R9GObhT3"
      }
    },
    {
      "cell_type": "markdown",
      "source": [
        "##### **👽 부작용**"
      ],
      "metadata": {
        "id": "lG0Qu4mTcOjB"
      }
    },
    {
      "cell_type": "code",
      "source": [
        "train['premise'][2000] #오거?"
      ],
      "metadata": {
        "colab": {
          "base_uri": "https://localhost:8080/",
          "height": 54
        },
        "id": "G_jI44BMcRsQ",
        "outputId": "ce0b55d7-3526-46cd-d3b2-b147c2eb4074"
      },
      "execution_count": 36,
      "outputs": [
        {
          "output_type": "execute_result",
          "data": {
            "text/plain": [
              "'한편 세쌍둥이의 아빠가 된 슈렉은 반복되는 일상과 더 이상 무서운 오거가 아닌 사람들의 구경거리로 전락해버린 삶에 염증을 느끼기 시작한다'"
            ],
            "application/vnd.google.colaboratory.intrinsic+json": {
              "type": "string"
            }
          },
          "metadata": {},
          "execution_count": 36
        }
      ]
    },
    {
      "cell_type": "markdown",
      "source": [
        "**[1]**"
      ],
      "metadata": {
        "id": "DmXxHB-Hcnio"
      }
    },
    {
      "cell_type": "code",
      "source": [
        "train['hypothesis'][2000] #? 쌍동이?"
      ],
      "metadata": {
        "colab": {
          "base_uri": "https://localhost:8080/",
          "height": 35
        },
        "id": "ktgB1E7lcRug",
        "outputId": "3e8e5e19-d82c-4a19-8586-712fac4f8d91"
      },
      "execution_count": 37,
      "outputs": [
        {
          "output_type": "execute_result",
          "data": {
            "text/plain": [
              "'슈렉은 세쌍동이를 데리고 깊은 산속으로 들어가 숨는다'"
            ],
            "application/vnd.google.colaboratory.intrinsic+json": {
              "type": "string"
            }
          },
          "metadata": {},
          "execution_count": 37
        }
      ]
    },
    {
      "cell_type": "code",
      "source": [
        "for word, tag in somelist[2000]:\n",
        "        print(word, end = ' ')"
      ],
      "metadata": {
        "colab": {
          "base_uri": "https://localhost:8080/"
        },
        "id": "o05JHJ8EcRwq",
        "outputId": "cd7cf7c9-1ea9-4cb2-ea48-3dc1edc59b5e"
      },
      "execution_count": 38,
      "outputs": [
        {
          "output_type": "stream",
          "name": "stdout",
          "text": [
            "한편 세 쌍둥이 의 아빠 가 되다 슈렉 은 반복 되다 일상 과 더 이상 무섭다 오거 가 아니다 사람 들 의 구 경 거리 로 전락 하다 버리다 삶 에 염증 을 느끼다 시작 한 다 "
          ]
        }
      ]
    },
    {
      "cell_type": "code",
      "source": [
        "for word, tag in somelist2[2000]: \n",
        "        print(word, end = ' ')"
      ],
      "metadata": {
        "colab": {
          "base_uri": "https://localhost:8080/"
        },
        "id": "ggI_j8nhcgIK",
        "outputId": "94976cd5-2144-43d0-b3cd-38e433e4b00f"
      },
      "execution_count": 39,
      "outputs": [
        {
          "output_type": "stream",
          "name": "stdout",
          "text": [
            "슈렉 은 세 쌍 동이 를 데리 고 깊다 산속 으로 들어가다 숨다 "
          ]
        }
      ]
    },
    {
      "cell_type": "markdown",
      "source": [
        "**[2]**"
      ],
      "metadata": {
        "id": "Vs6qbTHCcpvY"
      }
    },
    {
      "cell_type": "code",
      "source": [
        "train['premise'][10000]"
      ],
      "metadata": {
        "colab": {
          "base_uri": "https://localhost:8080/",
          "height": 53
        },
        "id": "yF1c0ANJcwp_",
        "outputId": "86e9f5b9-8616-423a-d5ed-75bd61b4aa34"
      },
      "execution_count": 42,
      "outputs": [
        {
          "output_type": "execute_result",
          "data": {
            "text/plain": [
              "'종교 재판소는 고야를 이단 혐의로 고발하려 했으나 로렌조 신부는 고야를 위대한 예술가라며 두둔한다'"
            ],
            "application/vnd.google.colaboratory.intrinsic+json": {
              "type": "string"
            }
          },
          "metadata": {},
          "execution_count": 42
        }
      ]
    },
    {
      "cell_type": "code",
      "source": [
        "for word, tag in somelist[10000]: # 음..\n",
        "        print(word, end = ' ')"
      ],
      "metadata": {
        "colab": {
          "base_uri": "https://localhost:8080/"
        },
        "id": "9Kg7S7JccRyz",
        "outputId": "e8bc7b29-1f6f-45d8-ef9e-4eb51ac0c950"
      },
      "execution_count": 40,
      "outputs": [
        {
          "output_type": "stream",
          "name": "stdout",
          "text": [
            "종교 재판소 는 곱다 이단 혐의 로 고발 하다 하다 로렌 조 신부 는 곱다 위대하다 예술가 라며 두둔 하다 "
          ]
        }
      ]
    },
    {
      "cell_type": "markdown",
      "source": [
        "고야를 곱다로 잘못 판단하게 된다.."
      ],
      "metadata": {
        "id": "fQrtGz1kcvWQ"
      }
    },
    {
      "cell_type": "code",
      "source": [
        "for word, tag in somelist2[10000]: \n",
        "        print(word, end = ' ')"
      ],
      "metadata": {
        "colab": {
          "base_uri": "https://localhost:8080/"
        },
        "id": "LLLexDw_cR0-",
        "outputId": "cdf2b04f-ec3a-4329-ecc4-56d8e6e36099"
      },
      "execution_count": 41,
      "outputs": [
        {
          "output_type": "stream",
          "name": "stdout",
          "text": [
            "곱다 이단 이다 "
          ]
        }
      ]
    },
    {
      "cell_type": "markdown",
      "source": [
        "#### **두번째 물음. 불필요한 단어 제거**"
      ],
      "metadata": {
        "id": "949MAEzndBoS"
      }
    },
    {
      "cell_type": "markdown",
      "source": [
        "분석에 있어 불필요 하다고 생각되는 부분들 제거"
      ],
      "metadata": {
        "id": "MpI4Jb_DdJrZ"
      }
    },
    {
      "cell_type": "markdown",
      "source": [
        "◾ 불용어 제거 <br>\n",
        "◾ 등장 빈도가 적은 단어 <br>\n",
        "◾ 길이가 짧은 단어 (but 한글에서는 조금 애매) <br>"
      ],
      "metadata": {
        "id": "sHc7eGindNSd"
      }
    },
    {
      "cell_type": "markdown",
      "source": [
        "#### **훈련셋, 검증셋 분리**"
      ],
      "metadata": {
        "id": "hUPQuAGxeULG"
      }
    },
    {
      "cell_type": "markdown",
      "source": [
        "셔플로 바꾸는 방법도 있는데 그냥 내가 임의로 쪼개줌"
      ],
      "metadata": {
        "id": "HbdQXW1HeYP2"
      }
    },
    {
      "cell_type": "markdown",
      "source": [
        "train_inputs, validation_inputs, train_labels, validation_labels = train_test_split(input_ids,\n",
        "                                                                                    labels, \n",
        "                                                                                    random_state=2000, \n",
        "                                                                                    test_size=0.1)"
      ],
      "metadata": {
        "id": "lkEl2I7HeZ8L"
      }
    },
    {
      "cell_type": "code",
      "source": [
        "train_df = train[:20000]\n",
        "val_df = train[20000:]"
      ],
      "metadata": {
        "id": "PpnVdzP3ef6B"
      },
      "execution_count": 11,
      "outputs": []
    },
    {
      "cell_type": "code",
      "source": [
        "val_df = val_df.reset_index(drop=True)\n",
        "del train_df['index']\n",
        "del val_df['index']"
      ],
      "metadata": {
        "id": "VxT0eQ9mef8a"
      },
      "execution_count": 12,
      "outputs": []
    },
    {
      "cell_type": "code",
      "source": [
        "val_df.head(2)"
      ],
      "metadata": {
        "colab": {
          "base_uri": "https://localhost:8080/",
          "height": 173
        },
        "id": "_M4IeoPyef-0",
        "outputId": "e71b59ae-9722-446a-c88e-c5b0292c1288"
      },
      "execution_count": 13,
      "outputs": [
        {
          "output_type": "execute_result",
          "data": {
            "text/plain": [
              "                                             premise           hypothesis  \\\n",
              "0                               교통시설과 편의 시설이 정말로 가깝다            교통시설과 가깝다   \n",
              "1  그러던 어느 토요일 오후 이완은 세계 지도를 펼쳐놓고 들여다보던 중 베링 해협이라는...  세계 지도에는 베링 해협이 나와있다   \n",
              "\n",
              "        label  \n",
              "0  entailment  \n",
              "1  entailment  "
            ],
            "text/html": [
              "\n",
              "  <div id=\"df-9008f555-2b49-498f-b7ff-2a31693fb7f6\">\n",
              "    <div class=\"colab-df-container\">\n",
              "      <div>\n",
              "<style scoped>\n",
              "    .dataframe tbody tr th:only-of-type {\n",
              "        vertical-align: middle;\n",
              "    }\n",
              "\n",
              "    .dataframe tbody tr th {\n",
              "        vertical-align: top;\n",
              "    }\n",
              "\n",
              "    .dataframe thead th {\n",
              "        text-align: right;\n",
              "    }\n",
              "</style>\n",
              "<table border=\"1\" class=\"dataframe\">\n",
              "  <thead>\n",
              "    <tr style=\"text-align: right;\">\n",
              "      <th></th>\n",
              "      <th>premise</th>\n",
              "      <th>hypothesis</th>\n",
              "      <th>label</th>\n",
              "    </tr>\n",
              "  </thead>\n",
              "  <tbody>\n",
              "    <tr>\n",
              "      <th>0</th>\n",
              "      <td>교통시설과 편의 시설이 정말로 가깝다</td>\n",
              "      <td>교통시설과 가깝다</td>\n",
              "      <td>entailment</td>\n",
              "    </tr>\n",
              "    <tr>\n",
              "      <th>1</th>\n",
              "      <td>그러던 어느 토요일 오후 이완은 세계 지도를 펼쳐놓고 들여다보던 중 베링 해협이라는...</td>\n",
              "      <td>세계 지도에는 베링 해협이 나와있다</td>\n",
              "      <td>entailment</td>\n",
              "    </tr>\n",
              "  </tbody>\n",
              "</table>\n",
              "</div>\n",
              "      <button class=\"colab-df-convert\" onclick=\"convertToInteractive('df-9008f555-2b49-498f-b7ff-2a31693fb7f6')\"\n",
              "              title=\"Convert this dataframe to an interactive table.\"\n",
              "              style=\"display:none;\">\n",
              "        \n",
              "  <svg xmlns=\"http://www.w3.org/2000/svg\" height=\"24px\"viewBox=\"0 0 24 24\"\n",
              "       width=\"24px\">\n",
              "    <path d=\"M0 0h24v24H0V0z\" fill=\"none\"/>\n",
              "    <path d=\"M18.56 5.44l.94 2.06.94-2.06 2.06-.94-2.06-.94-.94-2.06-.94 2.06-2.06.94zm-11 1L8.5 8.5l.94-2.06 2.06-.94-2.06-.94L8.5 2.5l-.94 2.06-2.06.94zm10 10l.94 2.06.94-2.06 2.06-.94-2.06-.94-.94-2.06-.94 2.06-2.06.94z\"/><path d=\"M17.41 7.96l-1.37-1.37c-.4-.4-.92-.59-1.43-.59-.52 0-1.04.2-1.43.59L10.3 9.45l-7.72 7.72c-.78.78-.78 2.05 0 2.83L4 21.41c.39.39.9.59 1.41.59.51 0 1.02-.2 1.41-.59l7.78-7.78 2.81-2.81c.8-.78.8-2.07 0-2.86zM5.41 20L4 18.59l7.72-7.72 1.47 1.35L5.41 20z\"/>\n",
              "  </svg>\n",
              "      </button>\n",
              "      \n",
              "  <style>\n",
              "    .colab-df-container {\n",
              "      display:flex;\n",
              "      flex-wrap:wrap;\n",
              "      gap: 12px;\n",
              "    }\n",
              "\n",
              "    .colab-df-convert {\n",
              "      background-color: #E8F0FE;\n",
              "      border: none;\n",
              "      border-radius: 50%;\n",
              "      cursor: pointer;\n",
              "      display: none;\n",
              "      fill: #1967D2;\n",
              "      height: 32px;\n",
              "      padding: 0 0 0 0;\n",
              "      width: 32px;\n",
              "    }\n",
              "\n",
              "    .colab-df-convert:hover {\n",
              "      background-color: #E2EBFA;\n",
              "      box-shadow: 0px 1px 2px rgba(60, 64, 67, 0.3), 0px 1px 3px 1px rgba(60, 64, 67, 0.15);\n",
              "      fill: #174EA6;\n",
              "    }\n",
              "\n",
              "    [theme=dark] .colab-df-convert {\n",
              "      background-color: #3B4455;\n",
              "      fill: #D2E3FC;\n",
              "    }\n",
              "\n",
              "    [theme=dark] .colab-df-convert:hover {\n",
              "      background-color: #434B5C;\n",
              "      box-shadow: 0px 1px 3px 1px rgba(0, 0, 0, 0.15);\n",
              "      filter: drop-shadow(0px 1px 2px rgba(0, 0, 0, 0.3));\n",
              "      fill: #FFFFFF;\n",
              "    }\n",
              "  </style>\n",
              "\n",
              "      <script>\n",
              "        const buttonEl =\n",
              "          document.querySelector('#df-9008f555-2b49-498f-b7ff-2a31693fb7f6 button.colab-df-convert');\n",
              "        buttonEl.style.display =\n",
              "          google.colab.kernel.accessAllowed ? 'block' : 'none';\n",
              "\n",
              "        async function convertToInteractive(key) {\n",
              "          const element = document.querySelector('#df-9008f555-2b49-498f-b7ff-2a31693fb7f6');\n",
              "          const dataTable =\n",
              "            await google.colab.kernel.invokeFunction('convertToInteractive',\n",
              "                                                     [key], {});\n",
              "          if (!dataTable) return;\n",
              "\n",
              "          const docLinkHtml = 'Like what you see? Visit the ' +\n",
              "            '<a target=\"_blank\" href=https://colab.research.google.com/notebooks/data_table.ipynb>data table notebook</a>'\n",
              "            + ' to learn more about interactive tables.';\n",
              "          element.innerHTML = '';\n",
              "          dataTable['output_type'] = 'display_data';\n",
              "          await google.colab.output.renderOutput(dataTable, element);\n",
              "          const docLink = document.createElement('div');\n",
              "          docLink.innerHTML = docLinkHtml;\n",
              "          element.appendChild(docLink);\n",
              "        }\n",
              "      </script>\n",
              "    </div>\n",
              "  </div>\n",
              "  "
            ]
          },
          "metadata": {},
          "execution_count": 13
        }
      ]
    },
    {
      "cell_type": "markdown",
      "source": [
        "#### **♠[시작] 토큰화♠**"
      ],
      "metadata": {
        "id": "5IjQEpGKdWKX"
      }
    },
    {
      "cell_type": "markdown",
      "source": [
        "pretrained 통해 토큰화 진행"
      ],
      "metadata": {
        "id": "ghxMEi8addhv"
      }
    },
    {
      "cell_type": "code",
      "source": [
        "! pip install transformers"
      ],
      "metadata": {
        "colab": {
          "base_uri": "https://localhost:8080/"
        },
        "id": "xa93oY-2dMpX",
        "outputId": "da8c22cb-d18a-412d-f3d6-31f005d0b1ab"
      },
      "execution_count": 14,
      "outputs": [
        {
          "output_type": "stream",
          "name": "stdout",
          "text": [
            "Collecting transformers\n",
            "  Downloading transformers-4.19.2-py3-none-any.whl (4.2 MB)\n",
            "\u001b[K     |████████████████████████████████| 4.2 MB 5.3 MB/s \n",
            "\u001b[?25hRequirement already satisfied: filelock in /usr/local/lib/python3.7/dist-packages (from transformers) (3.7.0)\n",
            "Requirement already satisfied: numpy>=1.17 in /usr/local/lib/python3.7/dist-packages (from transformers) (1.21.6)\n",
            "Collecting huggingface-hub<1.0,>=0.1.0\n",
            "  Downloading huggingface_hub-0.6.0-py3-none-any.whl (84 kB)\n",
            "\u001b[K     |████████████████████████████████| 84 kB 2.7 MB/s \n",
            "\u001b[?25hRequirement already satisfied: regex!=2019.12.17 in /usr/local/lib/python3.7/dist-packages (from transformers) (2019.12.20)\n",
            "Requirement already satisfied: requests in /usr/local/lib/python3.7/dist-packages (from transformers) (2.23.0)\n",
            "Collecting tokenizers!=0.11.3,<0.13,>=0.11.1\n",
            "  Downloading tokenizers-0.12.1-cp37-cp37m-manylinux_2_12_x86_64.manylinux2010_x86_64.whl (6.6 MB)\n",
            "\u001b[K     |████████████████████████████████| 6.6 MB 38.4 MB/s \n",
            "\u001b[?25hRequirement already satisfied: tqdm>=4.27 in /usr/local/lib/python3.7/dist-packages (from transformers) (4.64.0)\n",
            "Requirement already satisfied: packaging>=20.0 in /usr/local/lib/python3.7/dist-packages (from transformers) (21.3)\n",
            "Collecting pyyaml>=5.1\n",
            "  Downloading PyYAML-6.0-cp37-cp37m-manylinux_2_5_x86_64.manylinux1_x86_64.manylinux_2_12_x86_64.manylinux2010_x86_64.whl (596 kB)\n",
            "\u001b[K     |████████████████████████████████| 596 kB 39.7 MB/s \n",
            "\u001b[?25hRequirement already satisfied: importlib-metadata in /usr/local/lib/python3.7/dist-packages (from transformers) (4.11.3)\n",
            "Requirement already satisfied: typing-extensions>=3.7.4.3 in /usr/local/lib/python3.7/dist-packages (from huggingface-hub<1.0,>=0.1.0->transformers) (4.2.0)\n",
            "Requirement already satisfied: pyparsing!=3.0.5,>=2.0.2 in /usr/local/lib/python3.7/dist-packages (from packaging>=20.0->transformers) (3.0.9)\n",
            "Requirement already satisfied: zipp>=0.5 in /usr/local/lib/python3.7/dist-packages (from importlib-metadata->transformers) (3.8.0)\n",
            "Requirement already satisfied: chardet<4,>=3.0.2 in /usr/local/lib/python3.7/dist-packages (from requests->transformers) (3.0.4)\n",
            "Requirement already satisfied: urllib3!=1.25.0,!=1.25.1,<1.26,>=1.21.1 in /usr/local/lib/python3.7/dist-packages (from requests->transformers) (1.24.3)\n",
            "Requirement already satisfied: idna<3,>=2.5 in /usr/local/lib/python3.7/dist-packages (from requests->transformers) (2.10)\n",
            "Requirement already satisfied: certifi>=2017.4.17 in /usr/local/lib/python3.7/dist-packages (from requests->transformers) (2021.10.8)\n",
            "Installing collected packages: pyyaml, tokenizers, huggingface-hub, transformers\n",
            "  Attempting uninstall: pyyaml\n",
            "    Found existing installation: PyYAML 3.13\n",
            "    Uninstalling PyYAML-3.13:\n",
            "      Successfully uninstalled PyYAML-3.13\n",
            "Successfully installed huggingface-hub-0.6.0 pyyaml-6.0 tokenizers-0.12.1 transformers-4.19.2\n"
          ]
        }
      ]
    },
    {
      "cell_type": "code",
      "source": [
        "import torch\n",
        "from transformers import (\n",
        "    AutoTokenizer,\n",
        "    TrainingArguments,\n",
        "    Trainer,\n",
        "    AutoConfig,\n",
        "    AutoModelForSequenceClassification,\n",
        ")"
      ],
      "metadata": {
        "id": "1iViekPjdVcd"
      },
      "execution_count": 15,
      "outputs": []
    },
    {
      "cell_type": "markdown",
      "source": [
        "##### **AutoTokenizer.from_pretrained**"
      ],
      "metadata": {
        "id": "MqK-172TdtSk"
      }
    },
    {
      "cell_type": "markdown",
      "source": [
        "로버타 라지가 가장 좋은 성능을 보임 (가장 위도 라지)"
      ],
      "metadata": {
        "id": "4tOQfbENdyTP"
      }
    },
    {
      "cell_type": "markdown",
      "source": [
        "![클루.PNG](data:image/png;base64,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)"
      ],
      "metadata": {
        "id": "DLVE_ZTbdr1u"
      }
    },
    {
      "cell_type": "code",
      "source": [
        "tokenizer = AutoTokenizer.from_pretrained('klue/roberta-base', do_lower_case=False) ##'klue/bert-base'\n",
        "\n",
        "#** 토큰화는 전제, 가설을 합한 것을 이용 **\n",
        "## 256에서 128로 변경\n",
        "inputs =  tokenizer(list(train['premise']),list(train['hypothesis']), return_tensors='pt', max_length=128, truncation=True, padding='max_length')\n",
        "T_inputs =  tokenizer(list(train_df['premise']),list(train_df['hypothesis']), return_tensors='pt', max_length=128, truncation=True, padding='max_length')\n",
        "V_inputs =  tokenizer(list(val_df['premise']),list(val_df['hypothesis']), return_tensors='pt', max_length=128, truncation=True, padding='max_length')"
      ],
      "metadata": {
        "colab": {
          "base_uri": "https://localhost:8080/",
          "height": 145,
          "referenced_widgets": [
            "b0527bdd79fc4da1867e0e0a7cc9bc10",
            "870126d0f8e54525b5e57eb99af7978b",
            "6a9aa48c5aec47bb87d38d9c7eb9b3e4",
            "4b533dda61664f7eb84eaab7a6134016",
            "b3d209477d094148a6e9b1dea0b1608f",
            "5d7e170f1fcd4335a1576cb4e1925642",
            "345f5c9c24e24d6a8a56a174d8f67362",
            "a8300620e5bb476c8a742b9cd36cc68b",
            "430f21b751a94db7adb11c38d8c0a840",
            "488f0d8c6d2b46f8ba1c6ec213a562eb",
            "1fb392a83a154d22975e7f80bc4a7f3d",
            "b3ebd798ecee490abe11b546b7cfee2b",
            "ff514295b3e94fab80d9e9a6ca5c29c5",
            "bf861d042f4d40ee99659aea2845153a",
            "b3ecf60171264088a2763fbf779e1e15",
            "be4bc6189b8f4a00840870db28abd229",
            "46a065dd6f39430eaa7ae2f5fa9f0439",
            "9e5fdca34a814712b8604641d669a15f",
            "32be0a1b1cc04fc0864d37e7f73d5b29",
            "88a5be5e852940caa68761b2f7a80c49",
            "128c7661c01a471585ce5e6b7bcc3177",
            "2ec36b931036453ea95e64957d80ca78",
            "0dd8d607504049f294c02202173d0ae7",
            "b3074dd0be8b4ece85e1266b2184f546",
            "c7c51074edaa430d8dff0d363a73d883",
            "36ed3495dbf6498a913f7d7c9ff8c30e",
            "1902856a8f27480f8b6e8c09d12de55c",
            "6ffe74cc33c1404f81c69b46866f7c70",
            "4bfbfe946f2e4b06bfdb4e9f1c60c0fc",
            "2bfd5faf6cc040409b53e34c8ffc7ac5",
            "cdd05c15aa1e4a30a23c6f900c4d4cbf",
            "d09fec0b75a147dba4f4369ceb15b333",
            "1f0be94f0725483982c44428e71fc017",
            "0fea9d02220b42c7bb9e0770cc536b2f",
            "0cf70d8c8d07433388c04253c2d85c83",
            "a038a61460b341459d6c1e59afa0df33",
            "41b9cdef044849a9b207088ada03ef2e",
            "a09e8e2a1792445c8881e324565fd46e",
            "1ec06e7d9f5c481287fbb692614b4f99",
            "380ce0c4cf4e45dd8dbe4e579c5afb8e",
            "5d60ecc26eb14331bd418d5b02602f44",
            "f64ba63c1d3743189816d507a136ee48",
            "04463fa81bb843bf845652eda66ddaea",
            "00176859f7c04c578cb85900eac4de90"
          ]
        },
        "id": "T1walYiVdVe0",
        "outputId": "964a34cd-a2ac-41b5-f69a-a5025aec34d8"
      },
      "execution_count": 16,
      "outputs": [
        {
          "output_type": "display_data",
          "data": {
            "text/plain": [
              "Downloading:   0%|          | 0.00/375 [00:00<?, ?B/s]"
            ],
            "application/vnd.jupyter.widget-view+json": {
              "version_major": 2,
              "version_minor": 0,
              "model_id": "b0527bdd79fc4da1867e0e0a7cc9bc10"
            }
          },
          "metadata": {}
        },
        {
          "output_type": "display_data",
          "data": {
            "text/plain": [
              "Downloading:   0%|          | 0.00/243k [00:00<?, ?B/s]"
            ],
            "application/vnd.jupyter.widget-view+json": {
              "version_major": 2,
              "version_minor": 0,
              "model_id": "b3ebd798ecee490abe11b546b7cfee2b"
            }
          },
          "metadata": {}
        },
        {
          "output_type": "display_data",
          "data": {
            "text/plain": [
              "Downloading:   0%|          | 0.00/734k [00:00<?, ?B/s]"
            ],
            "application/vnd.jupyter.widget-view+json": {
              "version_major": 2,
              "version_minor": 0,
              "model_id": "0dd8d607504049f294c02202173d0ae7"
            }
          },
          "metadata": {}
        },
        {
          "output_type": "display_data",
          "data": {
            "text/plain": [
              "Downloading:   0%|          | 0.00/173 [00:00<?, ?B/s]"
            ],
            "application/vnd.jupyter.widget-view+json": {
              "version_major": 2,
              "version_minor": 0,
              "model_id": "0fea9d02220b42c7bb9e0770cc536b2f"
            }
          },
          "metadata": {}
        }
      ]
    },
    {
      "cell_type": "markdown",
      "source": [
        "inputs = **input_ids, token_type_ids, attention_mask** 한 눈에 볼수 있음 <br>\n",
        "input.input_ids <br>\n",
        "input.token_type_ids <br>\n",
        "input.attention_mask <br>"
      ],
      "metadata": {
        "id": "uug8m2uNeu4X"
      }
    },
    {
      "cell_type": "code",
      "source": [
        "inputs"
      ],
      "metadata": {
        "colab": {
          "base_uri": "https://localhost:8080/"
        },
        "id": "FmfdlLfIdVi6",
        "outputId": "9f54dc98-13a9-41d0-c723-81abe114669c"
      },
      "execution_count": 17,
      "outputs": [
        {
          "output_type": "execute_result",
          "data": {
            "text/plain": [
              "{'input_ids': tensor([[    0, 14441,  2073,  ...,     1,     1,     1],\n",
              "        [    0,  3840,  2073,  ...,     1,     1,     1],\n",
              "        [    0,  8345,  3627,  ...,     1,     1,     1],\n",
              "        ...,\n",
              "        [    0,  3995,  3814,  ...,     1,     1,     1],\n",
              "        [    0,  1036,  2044,  ...,     1,     1,     1],\n",
              "        [    0,  1589,  2169,  ...,     1,     1,     1]]), 'token_type_ids': tensor([[0, 0, 0,  ..., 0, 0, 0],\n",
              "        [0, 0, 0,  ..., 0, 0, 0],\n",
              "        [0, 0, 0,  ..., 0, 0, 0],\n",
              "        ...,\n",
              "        [0, 0, 0,  ..., 0, 0, 0],\n",
              "        [0, 0, 0,  ..., 0, 0, 0],\n",
              "        [0, 0, 0,  ..., 0, 0, 0]]), 'attention_mask': tensor([[1, 1, 1,  ..., 0, 0, 0],\n",
              "        [1, 1, 1,  ..., 0, 0, 0],\n",
              "        [1, 1, 1,  ..., 0, 0, 0],\n",
              "        ...,\n",
              "        [1, 1, 1,  ..., 0, 0, 0],\n",
              "        [1, 1, 1,  ..., 0, 0, 0],\n",
              "        [1, 1, 1,  ..., 0, 0, 0]])}"
            ]
          },
          "metadata": {},
          "execution_count": 17
        }
      ]
    },
    {
      "cell_type": "code",
      "source": [
        "len(inputs.input_ids[0]) # pad_sequence나 따로 해줄 필요 없음"
      ],
      "metadata": {
        "colab": {
          "base_uri": "https://localhost:8080/"
        },
        "id": "pFRLB_QkeuYR",
        "outputId": "7644f9c6-55f5-4f9c-bb55-3ec4e1cca17a"
      },
      "execution_count": 18,
      "outputs": [
        {
          "output_type": "execute_result",
          "data": {
            "text/plain": [
              "128"
            ]
          },
          "metadata": {},
          "execution_count": 18
        }
      ]
    },
    {
      "cell_type": "code",
      "source": [
        "inputs.input_ids[0]"
      ],
      "metadata": {
        "colab": {
          "base_uri": "https://localhost:8080/"
        },
        "id": "8Jhj2lIidVlT",
        "outputId": "094f1833-bc51-42a7-ced7-09c447766b3a"
      },
      "execution_count": 19,
      "outputs": [
        {
          "output_type": "execute_result",
          "data": {
            "text/plain": [
              "tensor([    0, 14441,  2073, 12382, 13169,  2200,  3797, 21505,  9005,  2259,\n",
              "         3997,  2031,  2079,  3661, 31221,  5845,  2200,  2112,  5950, 15351,\n",
              "        17788,  7285,   748,  2088, 22048,  2470,  1132, 21893, 15351,  6481,\n",
              "        27135,  5417,  4084,  1972,  2145, 17524,  2138, 15526,  2259,   575,\n",
              "        28674,     2, 14441,  2079,  3883,  2031,  2079,  5845, 28674,     2,\n",
              "            1,     1,     1,     1,     1,     1,     1,     1,     1,     1,\n",
              "            1,     1,     1,     1,     1,     1,     1,     1,     1,     1,\n",
              "            1,     1,     1,     1,     1,     1,     1,     1,     1,     1,\n",
              "            1,     1,     1,     1,     1,     1,     1,     1,     1,     1,\n",
              "            1,     1,     1,     1,     1,     1,     1,     1,     1,     1,\n",
              "            1,     1,     1,     1,     1,     1,     1,     1,     1,     1,\n",
              "            1,     1,     1,     1,     1,     1,     1,     1,     1,     1,\n",
              "            1,     1,     1,     1,     1,     1,     1,     1])"
            ]
          },
          "metadata": {},
          "execution_count": 19
        }
      ]
    },
    {
      "cell_type": "code",
      "source": [
        "inputs.token_type_ids[0] # 다 0으로 출력됨 오잉?!"
      ],
      "metadata": {
        "colab": {
          "base_uri": "https://localhost:8080/"
        },
        "id": "BqK4r9sndVny",
        "outputId": "8d1aaabb-ecf2-4b01-846c-a000a1f36e47"
      },
      "execution_count": 20,
      "outputs": [
        {
          "output_type": "execute_result",
          "data": {
            "text/plain": [
              "tensor([0, 0, 0, 0, 0, 0, 0, 0, 0, 0, 0, 0, 0, 0, 0, 0, 0, 0, 0, 0, 0, 0, 0, 0,\n",
              "        0, 0, 0, 0, 0, 0, 0, 0, 0, 0, 0, 0, 0, 0, 0, 0, 0, 0, 0, 0, 0, 0, 0, 0,\n",
              "        0, 0, 0, 0, 0, 0, 0, 0, 0, 0, 0, 0, 0, 0, 0, 0, 0, 0, 0, 0, 0, 0, 0, 0,\n",
              "        0, 0, 0, 0, 0, 0, 0, 0, 0, 0, 0, 0, 0, 0, 0, 0, 0, 0, 0, 0, 0, 0, 0, 0,\n",
              "        0, 0, 0, 0, 0, 0, 0, 0, 0, 0, 0, 0, 0, 0, 0, 0, 0, 0, 0, 0, 0, 0, 0, 0,\n",
              "        0, 0, 0, 0, 0, 0, 0, 0])"
            ]
          },
          "metadata": {},
          "execution_count": 20
        }
      ]
    },
    {
      "cell_type": "code",
      "source": [
        "inputs.token_type_ids[2]"
      ],
      "metadata": {
        "colab": {
          "base_uri": "https://localhost:8080/"
        },
        "id": "NukuNc2rdVqN",
        "outputId": "b2900917-e46b-47af-9012-0efbe10aff2b"
      },
      "execution_count": 21,
      "outputs": [
        {
          "output_type": "execute_result",
          "data": {
            "text/plain": [
              "tensor([0, 0, 0, 0, 0, 0, 0, 0, 0, 0, 0, 0, 0, 0, 0, 0, 0, 0, 0, 0, 0, 0, 0, 0,\n",
              "        0, 0, 0, 0, 0, 0, 0, 0, 0, 0, 0, 0, 0, 0, 0, 0, 0, 0, 0, 0, 0, 0, 0, 0,\n",
              "        0, 0, 0, 0, 0, 0, 0, 0, 0, 0, 0, 0, 0, 0, 0, 0, 0, 0, 0, 0, 0, 0, 0, 0,\n",
              "        0, 0, 0, 0, 0, 0, 0, 0, 0, 0, 0, 0, 0, 0, 0, 0, 0, 0, 0, 0, 0, 0, 0, 0,\n",
              "        0, 0, 0, 0, 0, 0, 0, 0, 0, 0, 0, 0, 0, 0, 0, 0, 0, 0, 0, 0, 0, 0, 0, 0,\n",
              "        0, 0, 0, 0, 0, 0, 0, 0])"
            ]
          },
          "metadata": {},
          "execution_count": 21
        }
      ]
    },
    {
      "cell_type": "code",
      "source": [
        "inputs.attention_mask[0]"
      ],
      "metadata": {
        "colab": {
          "base_uri": "https://localhost:8080/"
        },
        "id": "ABkDJtvZdVso",
        "outputId": "0dc6b52b-182e-4f3c-bf4e-ddc15eb1c232"
      },
      "execution_count": 22,
      "outputs": [
        {
          "output_type": "execute_result",
          "data": {
            "text/plain": [
              "tensor([1, 1, 1, 1, 1, 1, 1, 1, 1, 1, 1, 1, 1, 1, 1, 1, 1, 1, 1, 1, 1, 1, 1, 1,\n",
              "        1, 1, 1, 1, 1, 1, 1, 1, 1, 1, 1, 1, 1, 1, 1, 1, 1, 1, 1, 1, 1, 1, 1, 1,\n",
              "        1, 1, 0, 0, 0, 0, 0, 0, 0, 0, 0, 0, 0, 0, 0, 0, 0, 0, 0, 0, 0, 0, 0, 0,\n",
              "        0, 0, 0, 0, 0, 0, 0, 0, 0, 0, 0, 0, 0, 0, 0, 0, 0, 0, 0, 0, 0, 0, 0, 0,\n",
              "        0, 0, 0, 0, 0, 0, 0, 0, 0, 0, 0, 0, 0, 0, 0, 0, 0, 0, 0, 0, 0, 0, 0, 0,\n",
              "        0, 0, 0, 0, 0, 0, 0, 0])"
            ]
          },
          "metadata": {},
          "execution_count": 22
        }
      ]
    },
    {
      "cell_type": "markdown",
      "source": [
        "##### **데이터로더만들기🤸‍♀️**"
      ],
      "metadata": {
        "id": "IBV1llN9fDl2"
      }
    },
    {
      "cell_type": "markdown",
      "source": [
        "inputs에 label이 없어서 추가"
      ],
      "metadata": {
        "id": "EmrWvMdefHDj"
      }
    },
    {
      "cell_type": "code",
      "source": [
        "class BERTDataset(torch.utils.data.Dataset):\n",
        "    def __init__(self, pair_dataset, label):\n",
        "        self.pair_dataset = pair_dataset\n",
        "        self.label = label\n",
        "\n",
        "    def __getitem__(self, idx):\n",
        "        item = {key: val[idx].clone().detach() for key, val in self.pair_dataset.items()}\n",
        "        item['label'] = torch.tensor(self.label[idx])\n",
        "        \n",
        "        return item\n",
        "\n",
        "    def __len__(self):\n",
        "        return len(self.label)"
      ],
      "metadata": {
        "id": "mBRPsXBtdVvS"
      },
      "execution_count": 23,
      "outputs": []
    },
    {
      "cell_type": "code",
      "source": [
        "def label_to_num(label):\n",
        "    label_dict = {\"entailment\": 0, \"contradiction\": 1, \"neutral\": 2, \"answer\": 3}\n",
        "    num_label = []\n",
        "\n",
        "    for v in label:\n",
        "        num_label.append(label_dict[v])\n",
        "    \n",
        "    return num_label\n",
        "\n",
        "\n",
        "train_label = label_to_num(train_df['label'].values)\n",
        "val_label = label_to_num(val_df['label'].values)"
      ],
      "metadata": {
        "id": "mxx3RhXYfKzz"
      },
      "execution_count": 24,
      "outputs": []
    },
    {
      "cell_type": "code",
      "source": [
        "train_label[0]"
      ],
      "metadata": {
        "colab": {
          "base_uri": "https://localhost:8080/"
        },
        "id": "VBSDh0oMfK2E",
        "outputId": "3e834693-f6a7-45fa-e490-7ae1c8d2cdab"
      },
      "execution_count": 25,
      "outputs": [
        {
          "output_type": "execute_result",
          "data": {
            "text/plain": [
              "1"
            ]
          },
          "metadata": {},
          "execution_count": 25
        }
      ]
    },
    {
      "cell_type": "markdown",
      "source": [
        "##### **중간점검** 🐣"
      ],
      "metadata": {
        "id": "SL5nUmQ0fPxO"
      }
    },
    {
      "cell_type": "code",
      "source": [
        "train_dataset = BERTDataset(T_inputs, train_label)\n",
        "eval_dataset = BERTDataset(V_inputs, val_label)"
      ],
      "metadata": {
        "id": "JkQiz16QfK4M"
      },
      "execution_count": 26,
      "outputs": []
    },
    {
      "cell_type": "code",
      "source": [
        "train_dataset[0]"
      ],
      "metadata": {
        "colab": {
          "base_uri": "https://localhost:8080/"
        },
        "id": "j9KORrLcfK6W",
        "outputId": "ab0a0a1e-da47-4c86-84f7-3fb71e034cae"
      },
      "execution_count": 27,
      "outputs": [
        {
          "output_type": "execute_result",
          "data": {
            "text/plain": [
              "{'attention_mask': tensor([1, 1, 1, 1, 1, 1, 1, 1, 1, 1, 1, 1, 1, 1, 1, 1, 1, 1, 1, 1, 1, 1, 1, 1,\n",
              "         1, 1, 1, 1, 1, 1, 1, 1, 1, 1, 1, 1, 1, 1, 1, 1, 1, 1, 1, 1, 1, 1, 1, 1,\n",
              "         1, 1, 0, 0, 0, 0, 0, 0, 0, 0, 0, 0, 0, 0, 0, 0, 0, 0, 0, 0, 0, 0, 0, 0,\n",
              "         0, 0, 0, 0, 0, 0, 0, 0, 0, 0, 0, 0, 0, 0, 0, 0, 0, 0, 0, 0, 0, 0, 0, 0,\n",
              "         0, 0, 0, 0, 0, 0, 0, 0, 0, 0, 0, 0, 0, 0, 0, 0, 0, 0, 0, 0, 0, 0, 0, 0,\n",
              "         0, 0, 0, 0, 0, 0, 0, 0]),\n",
              " 'input_ids': tensor([    0, 14441,  2073, 12382, 13169,  2200,  3797, 21505,  9005,  2259,\n",
              "          3997,  2031,  2079,  3661, 31221,  5845,  2200,  2112,  5950, 15351,\n",
              "         17788,  7285,   748,  2088, 22048,  2470,  1132, 21893, 15351,  6481,\n",
              "         27135,  5417,  4084,  1972,  2145, 17524,  2138, 15526,  2259,   575,\n",
              "         28674,     2, 14441,  2079,  3883,  2031,  2079,  5845, 28674,     2,\n",
              "             1,     1,     1,     1,     1,     1,     1,     1,     1,     1,\n",
              "             1,     1,     1,     1,     1,     1,     1,     1,     1,     1,\n",
              "             1,     1,     1,     1,     1,     1,     1,     1,     1,     1,\n",
              "             1,     1,     1,     1,     1,     1,     1,     1,     1,     1,\n",
              "             1,     1,     1,     1,     1,     1,     1,     1,     1,     1,\n",
              "             1,     1,     1,     1,     1,     1,     1,     1,     1,     1,\n",
              "             1,     1,     1,     1,     1,     1,     1,     1,     1,     1,\n",
              "             1,     1,     1,     1,     1,     1,     1,     1]),\n",
              " 'label': tensor(1),\n",
              " 'token_type_ids': tensor([0, 0, 0, 0, 0, 0, 0, 0, 0, 0, 0, 0, 0, 0, 0, 0, 0, 0, 0, 0, 0, 0, 0, 0,\n",
              "         0, 0, 0, 0, 0, 0, 0, 0, 0, 0, 0, 0, 0, 0, 0, 0, 0, 0, 0, 0, 0, 0, 0, 0,\n",
              "         0, 0, 0, 0, 0, 0, 0, 0, 0, 0, 0, 0, 0, 0, 0, 0, 0, 0, 0, 0, 0, 0, 0, 0,\n",
              "         0, 0, 0, 0, 0, 0, 0, 0, 0, 0, 0, 0, 0, 0, 0, 0, 0, 0, 0, 0, 0, 0, 0, 0,\n",
              "         0, 0, 0, 0, 0, 0, 0, 0, 0, 0, 0, 0, 0, 0, 0, 0, 0, 0, 0, 0, 0, 0, 0, 0,\n",
              "         0, 0, 0, 0, 0, 0, 0, 0])}"
            ]
          },
          "metadata": {},
          "execution_count": 27
        }
      ]
    },
    {
      "cell_type": "markdown",
      "source": [
        "##### **중간점검** 🐥"
      ],
      "metadata": {
        "id": "K7i50BqrfZVw"
      }
    },
    {
      "cell_type": "code",
      "source": [
        "print(train_dataset.__len__())\n",
        "print(train_dataset.__getitem__(19997))\n",
        "print(tokenizer.decode(train_dataset.__getitem__(19997)['input_ids']))"
      ],
      "metadata": {
        "colab": {
          "base_uri": "https://localhost:8080/"
        },
        "id": "JnTkkGLEfK9F",
        "outputId": "c9d65fac-3f20-48d4-c87f-320779165b7d"
      },
      "execution_count": 28,
      "outputs": [
        {
          "output_type": "stream",
          "name": "stdout",
          "text": [
            "20000\n",
            "{'input_ids': tensor([    0,  4081,  2170,  1513,  2414,  9713,  2031,  2145,  5293,  2031,\n",
            "         2073, 11217,  2371,  2062,     2,  4081,  2170,  1513,  2414,  9713,\n",
            "         2031,  2073, 11217,  2371,  2062,     2,     1,     1,     1,     1,\n",
            "            1,     1,     1,     1,     1,     1,     1,     1,     1,     1,\n",
            "            1,     1,     1,     1,     1,     1,     1,     1,     1,     1,\n",
            "            1,     1,     1,     1,     1,     1,     1,     1,     1,     1,\n",
            "            1,     1,     1,     1,     1,     1,     1,     1,     1,     1,\n",
            "            1,     1,     1,     1,     1,     1,     1,     1,     1,     1,\n",
            "            1,     1,     1,     1,     1,     1,     1,     1,     1,     1,\n",
            "            1,     1,     1,     1,     1,     1,     1,     1,     1,     1,\n",
            "            1,     1,     1,     1,     1,     1,     1,     1,     1,     1,\n",
            "            1,     1,     1,     1,     1,     1,     1,     1,     1,     1,\n",
            "            1,     1,     1,     1,     1,     1,     1,     1]), 'token_type_ids': tensor([0, 0, 0, 0, 0, 0, 0, 0, 0, 0, 0, 0, 0, 0, 0, 0, 0, 0, 0, 0, 0, 0, 0, 0,\n",
            "        0, 0, 0, 0, 0, 0, 0, 0, 0, 0, 0, 0, 0, 0, 0, 0, 0, 0, 0, 0, 0, 0, 0, 0,\n",
            "        0, 0, 0, 0, 0, 0, 0, 0, 0, 0, 0, 0, 0, 0, 0, 0, 0, 0, 0, 0, 0, 0, 0, 0,\n",
            "        0, 0, 0, 0, 0, 0, 0, 0, 0, 0, 0, 0, 0, 0, 0, 0, 0, 0, 0, 0, 0, 0, 0, 0,\n",
            "        0, 0, 0, 0, 0, 0, 0, 0, 0, 0, 0, 0, 0, 0, 0, 0, 0, 0, 0, 0, 0, 0, 0, 0,\n",
            "        0, 0, 0, 0, 0, 0, 0, 0]), 'attention_mask': tensor([1, 1, 1, 1, 1, 1, 1, 1, 1, 1, 1, 1, 1, 1, 1, 1, 1, 1, 1, 1, 1, 1, 1, 1,\n",
            "        1, 1, 0, 0, 0, 0, 0, 0, 0, 0, 0, 0, 0, 0, 0, 0, 0, 0, 0, 0, 0, 0, 0, 0,\n",
            "        0, 0, 0, 0, 0, 0, 0, 0, 0, 0, 0, 0, 0, 0, 0, 0, 0, 0, 0, 0, 0, 0, 0, 0,\n",
            "        0, 0, 0, 0, 0, 0, 0, 0, 0, 0, 0, 0, 0, 0, 0, 0, 0, 0, 0, 0, 0, 0, 0, 0,\n",
            "        0, 0, 0, 0, 0, 0, 0, 0, 0, 0, 0, 0, 0, 0, 0, 0, 0, 0, 0, 0, 0, 0, 0, 0,\n",
            "        0, 0, 0, 0, 0, 0, 0, 0]), 'label': tensor(0)}\n",
            "[CLS] 현장에 있던 제작진들과 관객들은 환호했다 [SEP] 현장에 있던 제작진들은 환호했다 [SEP] [PAD] [PAD] [PAD] [PAD] [PAD] [PAD] [PAD] [PAD] [PAD] [PAD] [PAD] [PAD] [PAD] [PAD] [PAD] [PAD] [PAD] [PAD] [PAD] [PAD] [PAD] [PAD] [PAD] [PAD] [PAD] [PAD] [PAD] [PAD] [PAD] [PAD] [PAD] [PAD] [PAD] [PAD] [PAD] [PAD] [PAD] [PAD] [PAD] [PAD] [PAD] [PAD] [PAD] [PAD] [PAD] [PAD] [PAD] [PAD] [PAD] [PAD] [PAD] [PAD] [PAD] [PAD] [PAD] [PAD] [PAD] [PAD] [PAD] [PAD] [PAD] [PAD] [PAD] [PAD] [PAD] [PAD] [PAD] [PAD] [PAD] [PAD] [PAD] [PAD] [PAD] [PAD] [PAD] [PAD] [PAD] [PAD] [PAD] [PAD] [PAD] [PAD] [PAD] [PAD] [PAD] [PAD] [PAD] [PAD] [PAD] [PAD] [PAD] [PAD] [PAD] [PAD] [PAD] [PAD] [PAD] [PAD] [PAD] [PAD] [PAD] [PAD]\n"
          ]
        }
      ]
    },
    {
      "cell_type": "markdown",
      "source": [
        "#### **Bert model 불러오기**"
      ],
      "metadata": {
        "id": "oFXIXhlefdlg"
      }
    },
    {
      "cell_type": "markdown",
      "source": [
        "ㅎㅎ jupyter notebook으로 작업한다고 cuda 설정을 해줬는데 구글 코랩에서는 무료로 좋은 gpu를 제공해준다.... ㅎㅎ 구글 쵝오 ^.^"
      ],
      "metadata": {
        "id": "0_SANTONfiaR"
      }
    },
    {
      "cell_type": "code",
      "source": [
        "if torch.cuda.is_available():    \n",
        "    device = torch.device(\"cuda\")\n",
        "    print('There are %d GPU(s) available.' % torch.cuda.device_count())\n",
        "    print('We will use the GPU:', torch.cuda.get_device_name(0))\n",
        "else:\n",
        "    device = torch.device(\"cpu\")\n",
        "    print('No GPU available, using the CPU instead.')"
      ],
      "metadata": {
        "colab": {
          "base_uri": "https://localhost:8080/"
        },
        "id": "roTUBVHVfdAh",
        "outputId": "90e89247-5a7e-4f70-b3d7-911de23b031c"
      },
      "execution_count": 29,
      "outputs": [
        {
          "output_type": "stream",
          "name": "stdout",
          "text": [
            "There are 1 GPU(s) available.\n",
            "We will use the GPU: Tesla K80\n"
          ]
        }
      ]
    },
    {
      "cell_type": "markdown",
      "source": [
        "huggingface에 몰라와 있는 미리 학습된 모델을 내가 불러서 사용한다 <br>\n",
        "토큰화 할때 썼던 애랑 동일한 애를 불러와야함 ❗❗"
      ],
      "metadata": {
        "id": "Y0J6JHGGgBU_"
      }
    },
    {
      "cell_type": "code",
      "source": [
        "MODEL_NAME = 'klue/roberta-base' #'klue/roberta-large' 했는데 안돌아감 ㅠ\n",
        "                                 #'klue/bert-base'\n",
        "\n",
        "#tokenizer = AutoTokenizer.from_pretrained(MODEL_NAME)\n",
        "\n",
        "config = AutoConfig.from_pretrained(MODEL_NAME)\n",
        "config.num_labels = 3\n",
        "\n",
        "model = AutoModelForSequenceClassification.from_pretrained(MODEL_NAME, config=config)\n",
        "#print(model)\n",
        "#print(config)"
      ],
      "metadata": {
        "colab": {
          "base_uri": "https://localhost:8080/",
          "height": 193,
          "referenced_widgets": [
            "98494abbb42843a8ad703700605e079f",
            "395ddbde063a4bbeb471c22762342965",
            "f78722f61f9e403c89c00a3a58145a33",
            "95b091498a604f80bcbece568332d4da",
            "12583f5884b44b9ba23d9fdd4ba14906",
            "f4a08fac623046368e829c11152fa376",
            "267880f31b8e48e3a97d3529aba51558",
            "ebd2caad36454a77b584ee582956833f",
            "fd7da9e92bb94b6cbc8e7f504ac84bba",
            "a3d8cba785a04c8489e309a47a36aeeb",
            "f0893be055804f7a986bb7d8b743f969",
            "a3a806d31a6a44deaaecc23db42ff81d",
            "2f3144c6b84244189807bd383e5737c9",
            "caa462eb2afd49fd8d4ca3ca0bcaf5a7",
            "359df439d18d4893a52e784c4a22d77d",
            "f206d2f14b20429b8a4e6f650d548d4c",
            "b8238dfb58b74e29b93eb6683833465c",
            "617c24069eb34563acab53b881d9e6d9",
            "342649cb3f124d9a847dcab57d27988c",
            "08863c276c564681984fe78c47bcfcaa",
            "b56a0c32cf8f4bb1ba0a7fdf4d0a1c8f",
            "e2b99f0d07ad4f029b4b2512c3292de0"
          ]
        },
        "id": "VwcPUidcfdDC",
        "outputId": "70c63188-6c63-4474-b522-006076c94c6a"
      },
      "execution_count": 30,
      "outputs": [
        {
          "output_type": "display_data",
          "data": {
            "text/plain": [
              "Downloading:   0%|          | 0.00/546 [00:00<?, ?B/s]"
            ],
            "application/vnd.jupyter.widget-view+json": {
              "version_major": 2,
              "version_minor": 0,
              "model_id": "98494abbb42843a8ad703700605e079f"
            }
          },
          "metadata": {}
        },
        {
          "output_type": "display_data",
          "data": {
            "text/plain": [
              "Downloading:   0%|          | 0.00/422M [00:00<?, ?B/s]"
            ],
            "application/vnd.jupyter.widget-view+json": {
              "version_major": 2,
              "version_minor": 0,
              "model_id": "a3a806d31a6a44deaaecc23db42ff81d"
            }
          },
          "metadata": {}
        },
        {
          "output_type": "stream",
          "name": "stderr",
          "text": [
            "Some weights of the model checkpoint at klue/roberta-base were not used when initializing RobertaForSequenceClassification: ['lm_head.layer_norm.weight', 'lm_head.dense.bias', 'lm_head.decoder.bias', 'lm_head.decoder.weight', 'lm_head.bias', 'lm_head.dense.weight', 'lm_head.layer_norm.bias']\n",
            "- This IS expected if you are initializing RobertaForSequenceClassification from the checkpoint of a model trained on another task or with another architecture (e.g. initializing a BertForSequenceClassification model from a BertForPreTraining model).\n",
            "- This IS NOT expected if you are initializing RobertaForSequenceClassification from the checkpoint of a model that you expect to be exactly identical (initializing a BertForSequenceClassification model from a BertForSequenceClassification model).\n",
            "Some weights of RobertaForSequenceClassification were not initialized from the model checkpoint at klue/roberta-base and are newly initialized: ['classifier.out_proj.weight', 'classifier.dense.bias', 'classifier.dense.weight', 'classifier.out_proj.bias']\n",
            "You should probably TRAIN this model on a down-stream task to be able to use it for predictions and inference.\n"
          ]
        }
      ]
    },
    {
      "cell_type": "markdown",
      "source": [
        "#### **모델 학습 및 acc 확인**"
      ],
      "metadata": {
        "id": "4JpYjwfQhPl_"
      }
    },
    {
      "cell_type": "code",
      "source": [
        "import os\n",
        "import random\n",
        "from tqdm import tqdm\n",
        "\n",
        "import torch\n",
        "import torch.nn.functional as F\n",
        "from torch.utils.data import DataLoader\n",
        "from sklearn.metrics import accuracy_score\n",
        "from sklearn.model_selection import train_test_split\n",
        "from transformers import TrainingArguments, Trainer\n",
        "from transformers import AutoModelForSequenceClassification, AutoConfig, AutoTokenizer"
      ],
      "metadata": {
        "id": "yVKv6PVbhPRv"
      },
      "execution_count": 32,
      "outputs": []
    },
    {
      "cell_type": "code",
      "source": [
        "def compute_metrics(pred):\n",
        "  \"\"\" validation을 위한 metrics function \"\"\"\n",
        "  labels = pred.label_ids #정답\n",
        "  preds = pred.predictions.argmax(-1) #예측\n",
        "  probs = pred.predictions\n",
        "\n",
        "  # calculate accuracy using sklearn's function\n",
        "  acc = accuracy_score(labels, preds) # 정답배열과 예측값의 배열\n",
        "\n",
        "  return {\n",
        "      'accuracy': acc,\n",
        "  }"
      ],
      "metadata": {
        "id": "v9RrvQOGhWtV"
      },
      "execution_count": 33,
      "outputs": []
    },
    {
      "cell_type": "markdown",
      "source": [
        "#### **하이퍼파라메타조정**"
      ],
      "metadata": {
        "id": "Zes9Omg9hFir"
      }
    },
    {
      "cell_type": "code",
      "source": [
        "training_ars = TrainingArguments(\n",
        "    output_dir='./result',\n",
        "    evaluation_strategy='epoch',\n",
        "    learning_rate=2e-5,\n",
        "    #save_strategy='epoch',\n",
        "    #logging_strategy='epoch',\n",
        "    num_train_epochs=5, #5\n",
        "    per_device_train_batch_size=32, \n",
        "    per_device_eval_batch_size=32,\n",
        "    #save_total_limit=2,\n",
        "    #gradient_accumulation_steps=2,\n",
        "    weight_decay=0.01\n",
        "    #save_steps=500,\n",
        "    #evaluation_strategy='epoch',\n",
        "    #load_best_model_at_end = True,\n",
        ")\n",
        "\n",
        "trainer = Trainer(\n",
        "    model=model,\n",
        "    args=training_ars,\n",
        "    train_dataset=train_dataset,\n",
        "    eval_dataset=eval_dataset,\n",
        "    tokenizer=tokenizer,\n",
        "    compute_metrics=compute_metrics,\n",
        ")"
      ],
      "metadata": {
        "id": "5WFW6B_jfdFc"
      },
      "execution_count": 34,
      "outputs": []
    },
    {
      "cell_type": "markdown",
      "source": [
        "#### **🌮학습완료!!!!! val acc 확인 'v'🌮**"
      ],
      "metadata": {
        "id": "lgIULGy7hfdI"
      }
    },
    {
      "cell_type": "code",
      "source": [
        "trainer.train()\n",
        "model.save_pretrained('./result/best_model')"
      ],
      "metadata": {
        "colab": {
          "base_uri": "https://localhost:8080/",
          "height": 1000
        },
        "id": "1WVlP4IafdIA",
        "outputId": "f091e99b-9e6f-4864-9981-39bcf2b9f37b"
      },
      "execution_count": 35,
      "outputs": [
        {
          "output_type": "stream",
          "name": "stderr",
          "text": [
            "/usr/local/lib/python3.7/dist-packages/transformers/optimization.py:309: FutureWarning: This implementation of AdamW is deprecated and will be removed in a future version. Use the PyTorch implementation torch.optim.AdamW instead, or set `no_deprecation_warning=True` to disable this warning\n",
            "  FutureWarning,\n",
            "***** Running training *****\n",
            "  Num examples = 20000\n",
            "  Num Epochs = 5\n",
            "  Instantaneous batch size per device = 32\n",
            "  Total train batch size (w. parallel, distributed & accumulation) = 32\n",
            "  Gradient Accumulation steps = 1\n",
            "  Total optimization steps = 3125\n"
          ]
        },
        {
          "output_type": "display_data",
          "data": {
            "text/plain": [
              "<IPython.core.display.HTML object>"
            ],
            "text/html": [
              "\n",
              "    <div>\n",
              "      \n",
              "      <progress value='3125' max='3125' style='width:300px; height:20px; vertical-align: middle;'></progress>\n",
              "      [3125/3125 1:08:54, Epoch 5/5]\n",
              "    </div>\n",
              "    <table border=\"1\" class=\"dataframe\">\n",
              "  <thead>\n",
              " <tr style=\"text-align: left;\">\n",
              "      <th>Epoch</th>\n",
              "      <th>Training Loss</th>\n",
              "      <th>Validation Loss</th>\n",
              "      <th>Accuracy</th>\n",
              "    </tr>\n",
              "  </thead>\n",
              "  <tbody>\n",
              "    <tr>\n",
              "      <td>1</td>\n",
              "      <td>0.675700</td>\n",
              "      <td>0.406102</td>\n",
              "      <td>0.849140</td>\n",
              "    </tr>\n",
              "    <tr>\n",
              "      <td>2</td>\n",
              "      <td>0.344700</td>\n",
              "      <td>0.415393</td>\n",
              "      <td>0.854342</td>\n",
              "    </tr>\n",
              "    <tr>\n",
              "      <td>3</td>\n",
              "      <td>0.245200</td>\n",
              "      <td>0.490547</td>\n",
              "      <td>0.864746</td>\n",
              "    </tr>\n",
              "    <tr>\n",
              "      <td>4</td>\n",
              "      <td>0.108400</td>\n",
              "      <td>0.572923</td>\n",
              "      <td>0.870548</td>\n",
              "    </tr>\n",
              "    <tr>\n",
              "      <td>5</td>\n",
              "      <td>0.065000</td>\n",
              "      <td>0.639691</td>\n",
              "      <td>0.869948</td>\n",
              "    </tr>\n",
              "  </tbody>\n",
              "</table><p>"
            ]
          },
          "metadata": {}
        },
        {
          "output_type": "stream",
          "name": "stderr",
          "text": [
            "Saving model checkpoint to ./result/checkpoint-500\n",
            "Configuration saved in ./result/checkpoint-500/config.json\n",
            "Model weights saved in ./result/checkpoint-500/pytorch_model.bin\n",
            "tokenizer config file saved in ./result/checkpoint-500/tokenizer_config.json\n",
            "Special tokens file saved in ./result/checkpoint-500/special_tokens_map.json\n",
            "***** Running Evaluation *****\n",
            "  Num examples = 4998\n",
            "  Batch size = 32\n",
            "Saving model checkpoint to ./result/checkpoint-1000\n",
            "Configuration saved in ./result/checkpoint-1000/config.json\n",
            "Model weights saved in ./result/checkpoint-1000/pytorch_model.bin\n",
            "tokenizer config file saved in ./result/checkpoint-1000/tokenizer_config.json\n",
            "Special tokens file saved in ./result/checkpoint-1000/special_tokens_map.json\n",
            "***** Running Evaluation *****\n",
            "  Num examples = 4998\n",
            "  Batch size = 32\n",
            "Saving model checkpoint to ./result/checkpoint-1500\n",
            "Configuration saved in ./result/checkpoint-1500/config.json\n",
            "Model weights saved in ./result/checkpoint-1500/pytorch_model.bin\n",
            "tokenizer config file saved in ./result/checkpoint-1500/tokenizer_config.json\n",
            "Special tokens file saved in ./result/checkpoint-1500/special_tokens_map.json\n",
            "***** Running Evaluation *****\n",
            "  Num examples = 4998\n",
            "  Batch size = 32\n",
            "Saving model checkpoint to ./result/checkpoint-2000\n",
            "Configuration saved in ./result/checkpoint-2000/config.json\n",
            "Model weights saved in ./result/checkpoint-2000/pytorch_model.bin\n",
            "tokenizer config file saved in ./result/checkpoint-2000/tokenizer_config.json\n",
            "Special tokens file saved in ./result/checkpoint-2000/special_tokens_map.json\n",
            "Saving model checkpoint to ./result/checkpoint-2500\n",
            "Configuration saved in ./result/checkpoint-2500/config.json\n",
            "Model weights saved in ./result/checkpoint-2500/pytorch_model.bin\n",
            "tokenizer config file saved in ./result/checkpoint-2500/tokenizer_config.json\n",
            "Special tokens file saved in ./result/checkpoint-2500/special_tokens_map.json\n",
            "***** Running Evaluation *****\n",
            "  Num examples = 4998\n",
            "  Batch size = 32\n",
            "Saving model checkpoint to ./result/checkpoint-3000\n",
            "Configuration saved in ./result/checkpoint-3000/config.json\n",
            "Model weights saved in ./result/checkpoint-3000/pytorch_model.bin\n",
            "tokenizer config file saved in ./result/checkpoint-3000/tokenizer_config.json\n",
            "Special tokens file saved in ./result/checkpoint-3000/special_tokens_map.json\n",
            "***** Running Evaluation *****\n",
            "  Num examples = 4998\n",
            "  Batch size = 32\n",
            "\n",
            "\n",
            "Training completed. Do not forget to share your model on huggingface.co/models =)\n",
            "\n",
            "\n",
            "Configuration saved in ./result/best_model/config.json\n",
            "Model weights saved in ./result/best_model/pytorch_model.bin\n"
          ]
        }
      ]
    },
    {
      "cell_type": "code",
      "source": [
        "trainer.evaluate()"
      ],
      "metadata": {
        "colab": {
          "base_uri": "https://localhost:8080/",
          "height": 204
        },
        "id": "JSY0idogfdKg",
        "outputId": "8c03335c-1619-42ce-fb0e-941841201ee4"
      },
      "execution_count": 36,
      "outputs": [
        {
          "output_type": "stream",
          "name": "stderr",
          "text": [
            "***** Running Evaluation *****\n",
            "  Num examples = 4998\n",
            "  Batch size = 32\n"
          ]
        },
        {
          "output_type": "display_data",
          "data": {
            "text/plain": [
              "<IPython.core.display.HTML object>"
            ],
            "text/html": [
              "\n",
              "    <div>\n",
              "      \n",
              "      <progress value='157' max='157' style='width:300px; height:20px; vertical-align: middle;'></progress>\n",
              "      [157/157 01:06]\n",
              "    </div>\n",
              "    "
            ]
          },
          "metadata": {}
        },
        {
          "output_type": "execute_result",
          "data": {
            "text/plain": [
              "{'epoch': 5.0,\n",
              " 'eval_accuracy': 0.8699479791916767,\n",
              " 'eval_loss': 0.6396914720535278,\n",
              " 'eval_runtime': 66.7689,\n",
              " 'eval_samples_per_second': 74.855,\n",
              " 'eval_steps_per_second': 2.351}"
            ]
          },
          "metadata": {},
          "execution_count": 36
        }
      ]
    },
    {
      "cell_type": "markdown",
      "source": [
        "#### **acc가 가장 좋은**"
      ],
      "metadata": {
        "id": "Jd6cq2yWh1Ta"
      }
    },
    {
      "cell_type": "code",
      "source": [
        "Tokenizer_NAME = 'klue/roberta-base'\n",
        "tokenizer = AutoTokenizer.from_pretrained(Tokenizer_NAME)\n",
        "\n",
        "MODEL_NAME = './result/checkpoint-3000'\n",
        "model = AutoModelForSequenceClassification.from_pretrained(MODEL_NAME)\n",
        "model.resize_token_embeddings(tokenizer.vocab_size)\n",
        "model.to(device)\n",
        "\n",
        "print(tokenizer)"
      ],
      "metadata": {
        "colab": {
          "base_uri": "https://localhost:8080/"
        },
        "id": "8BY0qCfmfdNS",
        "outputId": "6d9880ef-4d83-4558-c03c-bcd37888bc1b"
      },
      "execution_count": 37,
      "outputs": [
        {
          "output_type": "stream",
          "name": "stderr",
          "text": [
            "loading file https://huggingface.co/klue/roberta-base/resolve/main/vocab.txt from cache at /root/.cache/huggingface/transformers/e8441a174492958462b6b16b6db8f1e7253cd149ca779522cadd812d55091b89.d1b86bed49516351c7bb29b19d7e7be2ab53b931bcb1f9b2aacfb71f2124d25a\n",
            "loading file https://huggingface.co/klue/roberta-base/resolve/main/tokenizer.json from cache at /root/.cache/huggingface/transformers/233a5b2c17873a8477b62dd92a02092a9937759e924a5f22b111becebb8aba5e.44c30ade4958fcfd446e66025e10a5b380cdd0bbe9b3fb7a794f357e7f0f34c2\n",
            "loading file https://huggingface.co/klue/roberta-base/resolve/main/added_tokens.json from cache at None\n",
            "loading file https://huggingface.co/klue/roberta-base/resolve/main/special_tokens_map.json from cache at /root/.cache/huggingface/transformers/9d0c87e44b00acfbfbae931b2e4068eb6311a0c3e71e23e5400bdf57cab4bfbf.70c17d6e4d492c8f24f5bb97ab56c7f272e947112c6faf9dd846da42ba13eb23\n",
            "loading file https://huggingface.co/klue/roberta-base/resolve/main/tokenizer_config.json from cache at /root/.cache/huggingface/transformers/9a9f77abeddd1bbd8de28608e78dd3604287ad91abd4796cd25ad936715b7640.5b0ba083b234382bb4c99ee0c9f4fca4cadaa053dd17c32dabfe0de2f629af1f\n",
            "loading configuration file ./result/checkpoint-3000/config.json\n",
            "Model config RobertaConfig {\n",
            "  \"_name_or_path\": \"./result/checkpoint-3000\",\n",
            "  \"architectures\": [\n",
            "    \"RobertaForSequenceClassification\"\n",
            "  ],\n",
            "  \"attention_probs_dropout_prob\": 0.1,\n",
            "  \"bos_token_id\": 0,\n",
            "  \"classifier_dropout\": null,\n",
            "  \"eos_token_id\": 2,\n",
            "  \"gradient_checkpointing\": false,\n",
            "  \"hidden_act\": \"gelu\",\n",
            "  \"hidden_dropout_prob\": 0.1,\n",
            "  \"hidden_size\": 768,\n",
            "  \"id2label\": {\n",
            "    \"0\": \"LABEL_0\",\n",
            "    \"1\": \"LABEL_1\",\n",
            "    \"2\": \"LABEL_2\"\n",
            "  },\n",
            "  \"initializer_range\": 0.02,\n",
            "  \"intermediate_size\": 3072,\n",
            "  \"label2id\": {\n",
            "    \"LABEL_0\": 0,\n",
            "    \"LABEL_1\": 1,\n",
            "    \"LABEL_2\": 2\n",
            "  },\n",
            "  \"layer_norm_eps\": 1e-05,\n",
            "  \"max_position_embeddings\": 514,\n",
            "  \"model_type\": \"roberta\",\n",
            "  \"num_attention_heads\": 12,\n",
            "  \"num_hidden_layers\": 12,\n",
            "  \"pad_token_id\": 1,\n",
            "  \"position_embedding_type\": \"absolute\",\n",
            "  \"problem_type\": \"single_label_classification\",\n",
            "  \"tokenizer_class\": \"BertTokenizer\",\n",
            "  \"torch_dtype\": \"float32\",\n",
            "  \"transformers_version\": \"4.19.2\",\n",
            "  \"type_vocab_size\": 1,\n",
            "  \"use_cache\": true,\n",
            "  \"vocab_size\": 32000\n",
            "}\n",
            "\n",
            "loading weights file ./result/checkpoint-3000/pytorch_model.bin\n",
            "All model checkpoint weights were used when initializing RobertaForSequenceClassification.\n",
            "\n",
            "All the weights of RobertaForSequenceClassification were initialized from the model checkpoint at ./result/checkpoint-3000.\n",
            "If your task is similar to the task the model of the checkpoint was trained on, you can already use RobertaForSequenceClassification for predictions without further training.\n"
          ]
        },
        {
          "output_type": "stream",
          "name": "stdout",
          "text": [
            "PreTrainedTokenizerFast(name_or_path='klue/roberta-base', vocab_size=32000, model_max_len=512, is_fast=True, padding_side='right', truncation_side='right', special_tokens={'bos_token': '[CLS]', 'eos_token': '[SEP]', 'unk_token': '[UNK]', 'sep_token': '[SEP]', 'pad_token': '[PAD]', 'cls_token': '[CLS]', 'mask_token': '[MASK]'})\n"
          ]
        }
      ]
    },
    {
      "cell_type": "markdown",
      "source": [
        "#### **테스트셋 평가**"
      ],
      "metadata": {
        "id": "Ko3IVJMEh-gK"
      }
    },
    {
      "cell_type": "code",
      "source": [
        "test_label = label_to_num(test['label'].values)\n",
        "\n",
        "tokenized_test = tokenizer(\n",
        "    list(test['premise']),\n",
        "    list(test['hypothesis']),\n",
        "    return_tensors=\"pt\",\n",
        "    max_length=128,\n",
        "    padding=True,\n",
        "    truncation=True,\n",
        "    add_special_tokens=True\n",
        ")\n",
        "\n",
        "test_dataset = BERTDataset(tokenized_test, test_label)\n",
        "\n",
        "print(test_dataset.__len__())\n",
        "print(test_dataset.__getitem__(1665))\n",
        "print(tokenizer.decode(test_dataset.__getitem__(6)['input_ids']))"
      ],
      "metadata": {
        "colab": {
          "base_uri": "https://localhost:8080/"
        },
        "id": "JuPuDeSJfdPW",
        "outputId": "5599edab-7c61-4d39-956f-3dc4300dd4ea"
      },
      "execution_count": 38,
      "outputs": [
        {
          "output_type": "stream",
          "name": "stdout",
          "text": [
            "1666\n",
            "{'input_ids': tensor([    0,   720,  3994,  2052, 10428,  2775,   647,  3657,  2119,  1085,\n",
            "            3,     2,   720,  3994,  2052,   911,  2075,  3669,  2119,  3926,\n",
            "         2088,  1513,  2359, 13964,     2,     1,     1,     1,     1,     1,\n",
            "            1,     1,     1,     1,     1,     1,     1,     1,     1,     1,\n",
            "            1,     1,     1,     1,     1,     1,     1,     1,     1,     1,\n",
            "            1,     1,     1,     1,     1,     1,     1,     1,     1,     1,\n",
            "            1,     1,     1,     1,     1,     1,     1,     1,     1,     1,\n",
            "            1,     1,     1,     1,     1,     1,     1,     1,     1,     1]), 'token_type_ids': tensor([0, 0, 0, 0, 0, 0, 0, 0, 0, 0, 0, 0, 0, 0, 0, 0, 0, 0, 0, 0, 0, 0, 0, 0,\n",
            "        0, 0, 0, 0, 0, 0, 0, 0, 0, 0, 0, 0, 0, 0, 0, 0, 0, 0, 0, 0, 0, 0, 0, 0,\n",
            "        0, 0, 0, 0, 0, 0, 0, 0, 0, 0, 0, 0, 0, 0, 0, 0, 0, 0, 0, 0, 0, 0, 0, 0,\n",
            "        0, 0, 0, 0, 0, 0, 0, 0]), 'attention_mask': tensor([1, 1, 1, 1, 1, 1, 1, 1, 1, 1, 1, 1, 1, 1, 1, 1, 1, 1, 1, 1, 1, 1, 1, 1,\n",
            "        1, 0, 0, 0, 0, 0, 0, 0, 0, 0, 0, 0, 0, 0, 0, 0, 0, 0, 0, 0, 0, 0, 0, 0,\n",
            "        0, 0, 0, 0, 0, 0, 0, 0, 0, 0, 0, 0, 0, 0, 0, 0, 0, 0, 0, 0, 0, 0, 0, 0,\n",
            "        0, 0, 0, 0, 0, 0, 0, 0]), 'label': tensor(3)}\n",
            "[CLS] 18일 귀국이라 발인도 지켜드리지 못해 더욱 죄송할 따름입니다 [SEP] 18일 배를 타고 여행을 떠났습니다 [SEP] [PAD] [PAD] [PAD] [PAD] [PAD] [PAD] [PAD] [PAD] [PAD] [PAD] [PAD] [PAD] [PAD] [PAD] [PAD] [PAD] [PAD] [PAD] [PAD] [PAD] [PAD] [PAD] [PAD] [PAD] [PAD] [PAD] [PAD] [PAD] [PAD] [PAD] [PAD] [PAD] [PAD] [PAD] [PAD] [PAD] [PAD] [PAD] [PAD] [PAD] [PAD] [PAD] [PAD] [PAD] [PAD] [PAD] [PAD] [PAD] [PAD] [PAD]\n"
          ]
        }
      ]
    },
    {
      "cell_type": "code",
      "source": [
        ""
      ],
      "metadata": {
        "id": "9PvDiQ-Ph-Fw"
      },
      "execution_count": null,
      "outputs": []
    },
    {
      "cell_type": "code",
      "source": [
        "dataloader = DataLoader(test_dataset, batch_size=16, shuffle=False) #배치사이즈? 16\n",
        "\n",
        "model.eval()\n",
        "output_pred = []\n",
        "output_prob = []\n",
        "\n",
        "for i, data in enumerate(tqdm(dataloader)):\n",
        "    with torch.no_grad():\n",
        "        outputs = model(\n",
        "            input_ids=data['input_ids'].to(device),\n",
        "            attention_mask=data['attention_mask'].to(device),\n",
        "            token_type_ids=data['token_type_ids'].to(device)\n",
        "        )\n",
        "    logits = outputs[0]\n",
        "    prob = F.softmax(logits, dim=-1).detach().cpu().numpy()\n",
        "    logits = logits.detach().cpu().numpy()\n",
        "    result = np.argmax(logits, axis=-1)\n",
        "\n",
        "    output_pred.append(result)\n",
        "    output_prob.append(prob)\n",
        "  \n",
        "pred_answer, output_prob = np.concatenate(output_pred).tolist(), np.concatenate(output_prob, axis=0).tolist()\n",
        "print(pred_answer)"
      ],
      "metadata": {
        "colab": {
          "base_uri": "https://localhost:8080/"
        },
        "id": "CaeIX97Lh-IC",
        "outputId": "a3e8f734-5abf-4186-8f46-0f35e47a1451"
      },
      "execution_count": 39,
      "outputs": [
        {
          "output_type": "stream",
          "name": "stderr",
          "text": [
            "100%|██████████| 105/105 [00:17<00:00,  6.13it/s]"
          ]
        },
        {
          "output_type": "stream",
          "name": "stdout",
          "text": [
            "[1, 2, 0, 1, 0, 2, 2, 0, 0, 2, 1, 0, 1, 0, 2, 2, 1, 2, 1, 2, 1, 2, 2, 0, 1, 1, 0, 0, 0, 2, 1, 0, 1, 2, 2, 1, 2, 1, 0, 1, 2, 0, 1, 2, 2, 1, 2, 0, 1, 0, 2, 1, 0, 2, 2, 0, 2, 2, 0, 2, 0, 2, 2, 2, 2, 1, 2, 2, 1, 1, 0, 2, 0, 1, 2, 2, 0, 2, 2, 1, 2, 1, 1, 1, 0, 1, 2, 1, 0, 2, 1, 2, 0, 1, 0, 2, 1, 1, 1, 2, 2, 0, 2, 0, 2, 0, 2, 2, 1, 0, 1, 2, 1, 0, 2, 1, 0, 1, 1, 1, 1, 1, 1, 2, 1, 0, 0, 0, 1, 2, 0, 2, 1, 0, 2, 0, 1, 2, 1, 1, 2, 2, 1, 0, 2, 1, 0, 1, 2, 2, 1, 0, 1, 2, 0, 0, 0, 2, 1, 2, 2, 0, 2, 0, 2, 1, 2, 0, 2, 0, 2, 2, 1, 2, 1, 2, 2, 2, 1, 2, 0, 2, 2, 2, 0, 1, 1, 2, 0, 2, 2, 0, 1, 2, 2, 0, 0, 2, 1, 2, 2, 2, 0, 1, 1, 0, 2, 2, 0, 2, 1, 1, 1, 2, 2, 1, 1, 0, 1, 1, 2, 2, 0, 1, 2, 2, 1, 2, 1, 1, 0, 2, 1, 0, 0, 2, 2, 1, 0, 0, 0, 1, 2, 2, 2, 0, 2, 2, 1, 1, 0, 1, 2, 0, 1, 2, 1, 2, 0, 0, 0, 0, 1, 2, 2, 2, 1, 2, 1, 0, 2, 2, 0, 0, 0, 1, 1, 1, 2, 2, 2, 2, 0, 0, 1, 0, 2, 1, 0, 2, 0, 1, 0, 2, 0, 1, 1, 1, 2, 0, 2, 0, 2, 0, 1, 0, 2, 1, 0, 0, 2, 1, 1, 2, 2, 2, 2, 2, 0, 0, 0, 2, 2, 0, 1, 2, 1, 2, 1, 1, 2, 0, 0, 1, 1, 1, 2, 1, 1, 2, 1, 2, 2, 1, 2, 2, 1, 1, 1, 2, 1, 2, 1, 0, 2, 1, 2, 0, 1, 2, 1, 1, 1, 2, 1, 2, 2, 0, 1, 2, 1, 1, 0, 2, 2, 0, 0, 2, 0, 0, 0, 2, 1, 2, 0, 2, 0, 2, 2, 2, 2, 0, 1, 2, 1, 1, 0, 2, 1, 2, 1, 2, 1, 1, 0, 2, 0, 2, 1, 2, 1, 1, 1, 1, 2, 1, 1, 0, 2, 1, 2, 2, 0, 2, 0, 2, 2, 1, 1, 1, 0, 2, 1, 2, 0, 2, 0, 0, 0, 0, 0, 0, 0, 2, 1, 2, 2, 0, 1, 1, 1, 0, 0, 1, 1, 0, 2, 1, 0, 1, 0, 0, 1, 2, 2, 1, 1, 2, 0, 2, 1, 2, 0, 0, 0, 2, 0, 1, 2, 1, 2, 0, 0, 0, 2, 1, 0, 2, 1, 0, 0, 2, 2, 1, 0, 1, 0, 2, 2, 0, 0, 0, 2, 1, 2, 0, 2, 0, 0, 1, 2, 1, 0, 0, 0, 1, 0, 0, 1, 2, 2, 2, 1, 2, 2, 1, 1, 0, 1, 0, 1, 2, 1, 2, 2, 1, 1, 1, 2, 2, 2, 1, 1, 0, 1, 2, 1, 0, 2, 0, 2, 1, 0, 0, 0, 2, 0, 2, 2, 2, 1, 1, 2, 2, 0, 2, 0, 0, 2, 1, 0, 0, 0, 1, 0, 1, 0, 2, 1, 1, 0, 0, 0, 2, 0, 0, 2, 0, 1, 0, 0, 0, 1, 0, 1, 1, 1, 2, 0, 0, 1, 2, 2, 0, 2, 2, 1, 1, 1, 1, 1, 2, 2, 0, 2, 1, 2, 2, 1, 2, 1, 2, 0, 1, 0, 1, 1, 1, 2, 0, 1, 2, 2, 0, 2, 0, 1, 0, 0, 2, 1, 0, 2, 0, 2, 0, 2, 1, 1, 2, 0, 1, 1, 2, 2, 2, 0, 1, 0, 1, 2, 1, 2, 2, 2, 1, 2, 2, 2, 2, 2, 2, 2, 1, 2, 0, 2, 2, 1, 2, 2, 1, 0, 1, 2, 1, 0, 1, 1, 0, 2, 0, 0, 2, 0, 1, 0, 1, 2, 0, 2, 0, 0, 2, 0, 0, 1, 1, 2, 1, 2, 0, 2, 0, 0, 0, 2, 2, 2, 0, 0, 2, 2, 2, 2, 1, 2, 1, 1, 0, 0, 2, 0, 2, 0, 2, 0, 2, 2, 0, 2, 0, 0, 0, 2, 2, 2, 1, 2, 1, 2, 1, 2, 0, 0, 2, 0, 1, 2, 2, 0, 2, 0, 1, 2, 0, 2, 0, 1, 2, 1, 2, 0, 0, 2, 2, 1, 0, 2, 2, 0, 2, 1, 2, 0, 2, 1, 2, 0, 1, 0, 1, 0, 2, 2, 0, 1, 0, 0, 2, 0, 1, 0, 2, 1, 1, 0, 2, 1, 1, 0, 1, 2, 2, 2, 2, 2, 2, 2, 0, 2, 2, 2, 2, 0, 2, 1, 2, 1, 0, 0, 1, 1, 0, 2, 1, 2, 1, 2, 1, 2, 2, 1, 0, 2, 2, 1, 1, 0, 2, 2, 1, 0, 2, 1, 0, 0, 2, 1, 0, 1, 0, 2, 2, 2, 0, 0, 2, 1, 2, 1, 2, 0, 2, 2, 2, 0, 1, 2, 2, 2, 2, 0, 0, 0, 1, 2, 2, 0, 2, 1, 1, 0, 0, 1, 2, 0, 2, 0, 2, 2, 1, 0, 0, 0, 2, 1, 1, 2, 2, 2, 2, 2, 0, 2, 2, 0, 1, 2, 0, 2, 0, 0, 1, 2, 1, 0, 0, 0, 0, 2, 0, 2, 2, 1, 1, 0, 2, 0, 1, 0, 2, 1, 1, 2, 0, 0, 2, 2, 0, 1, 2, 1, 1, 1, 2, 2, 0, 1, 1, 2, 1, 1, 1, 0, 2, 2, 0, 0, 1, 0, 0, 2, 1, 1, 0, 0, 2, 0, 1, 0, 2, 0, 1, 2, 2, 1, 1, 2, 1, 0, 0, 2, 1, 2, 0, 2, 1, 1, 0, 0, 0, 0, 0, 2, 1, 0, 0, 2, 2, 2, 0, 2, 1, 2, 0, 0, 0, 1, 1, 0, 2, 2, 1, 2, 0, 2, 2, 1, 0, 0, 2, 0, 0, 2, 1, 2, 1, 1, 1, 0, 2, 1, 0, 1, 2, 2, 2, 0, 1, 0, 1, 0, 0, 2, 0, 1, 2, 2, 2, 2, 1, 1, 0, 0, 2, 0, 0, 0, 2, 0, 0, 2, 2, 0, 1, 0, 2, 1, 0, 2, 2, 1, 1, 1, 1, 2, 2, 1, 2, 0, 2, 1, 2, 2, 2, 0, 2, 2, 1, 0, 1, 1, 0, 0, 0, 1, 1, 0, 0, 1, 1, 1, 1, 2, 2, 2, 0, 0, 1, 2, 2, 2, 1, 2, 2, 0, 0, 0, 1, 0, 0, 2, 1, 1, 1, 1, 1, 1, 0, 2, 1, 1, 1, 0, 2, 0, 1, 0, 1, 0, 1, 2, 0, 2, 2, 2, 0, 2, 2, 0, 1, 1, 2, 2, 0, 2, 0, 2, 2, 1, 2, 1, 2, 2, 0, 2, 0, 2, 1, 1, 0, 1, 2, 1, 2, 2, 2, 2, 1, 0, 0, 1, 2, 0, 0, 1, 2, 1, 2, 2, 2, 0, 2, 2, 2, 1, 0, 1, 1, 2, 0, 0, 1, 2, 1, 2, 0, 2, 2, 2, 1, 1, 2, 0, 1, 0, 0, 2, 2, 1, 1, 0, 2, 1, 0, 0, 0, 0, 2, 2, 2, 2, 2, 0, 1, 1, 0, 2, 0, 2, 0, 2, 1, 2, 1, 0, 0, 1, 0, 2, 0, 0, 2, 2, 2, 0, 1, 1, 1, 0, 0, 1, 0, 1, 2, 2, 0, 1, 0, 1, 0, 1, 0, 2, 0, 1, 2, 0, 2, 2, 2, 2, 2, 2, 1, 1, 2, 1, 2, 1, 2, 0, 2, 2, 2, 0, 2, 0, 1, 2, 1, 2, 2, 0, 2, 2, 0, 2, 1, 1, 0, 2, 1, 1, 2, 0, 2, 2, 1, 2, 2, 1, 2, 1, 2, 2, 2, 0, 2, 2, 1, 0, 2, 2, 2, 1, 1, 0, 2, 2, 2, 2, 0, 2, 1, 1, 1, 0, 2, 2, 1, 2, 2, 2, 2, 1, 1, 0, 0, 2, 1, 2, 1, 2, 2, 2, 1, 0, 2, 1, 1, 2, 0, 1, 0, 0, 1, 2, 1, 0, 2, 2, 0, 0, 2, 0, 0, 0, 2, 2, 2, 0, 0, 0, 1, 0, 2, 1, 1, 1, 2, 2, 0, 2, 2, 2, 1, 0, 0, 0, 0, 1, 0, 1, 0, 0, 1, 2, 2, 0, 2, 2, 0, 2, 2, 0, 0, 2, 1, 2, 0, 1, 0, 2, 1, 1, 2, 1, 0, 0, 2, 0, 1, 0, 1, 1, 2, 1, 2, 1, 2, 1, 0, 0, 1, 1, 2, 2, 1, 0, 1, 2, 1, 0, 2, 2, 0, 1, 1, 1, 1, 1, 2, 0, 2, 2, 1, 1, 0, 2, 0, 2, 2, 2, 0, 1, 1, 1, 1, 1, 0, 0, 0, 1, 0, 0, 1, 2, 2, 0, 1, 1, 2, 1, 1, 0, 2, 1, 1, 0, 1, 2, 0, 1, 2, 1, 2, 2, 1, 2, 0, 1, 1, 2, 1, 2, 0, 0, 2, 1, 1, 2, 2, 2, 2, 2, 2, 2, 2, 1, 0, 2, 2, 2, 2, 0, 2, 0, 0, 2, 0, 2, 2, 1, 0, 1, 0, 0, 1, 0, 1, 0, 1, 1, 1, 2, 1, 1, 0, 2, 2, 1, 0, 2, 2, 2, 2, 0, 0, 0, 2, 1, 0, 2, 2, 0, 0, 2, 2, 1, 1, 1, 2, 0, 2, 0, 0, 1, 0, 2, 2, 0, 2, 0, 1, 2, 1, 2, 1, 2, 1, 1, 2, 1, 2, 2, 1, 1, 2, 1, 0, 0, 2, 2, 2, 0, 1, 0, 0, 0, 1, 0, 0, 1, 2, 2, 2, 0, 1, 1, 0, 2, 1, 1, 0, 2, 1, 2, 2, 0, 2, 0, 2, 2, 2]\n"
          ]
        },
        {
          "output_type": "stream",
          "name": "stderr",
          "text": [
            "\n"
          ]
        }
      ]
    },
    {
      "cell_type": "code",
      "source": [
        "def num_to_label(label):\n",
        "    label_dict = {0: \"entailment\", 1: \"contradiction\", 2: \"neutral\"}\n",
        "    str_label = []\n",
        "\n",
        "    for i, v in enumerate(label):\n",
        "        str_label.append([i,label_dict[v]])\n",
        "    \n",
        "    return str_label\n",
        "\n",
        "answer = num_to_label(pred_answer)\n",
        "print(answer)"
      ],
      "metadata": {
        "colab": {
          "base_uri": "https://localhost:8080/"
        },
        "id": "AOA00GfMh-Kb",
        "outputId": "83569440-ffea-4ad9-8e23-01cc2cdbfb8f"
      },
      "execution_count": 40,
      "outputs": [
        {
          "output_type": "stream",
          "name": "stdout",
          "text": [
            "[[0, 'contradiction'], [1, 'neutral'], [2, 'entailment'], [3, 'contradiction'], [4, 'entailment'], [5, 'neutral'], [6, 'neutral'], [7, 'entailment'], [8, 'entailment'], [9, 'neutral'], [10, 'contradiction'], [11, 'entailment'], [12, 'contradiction'], [13, 'entailment'], [14, 'neutral'], [15, 'neutral'], [16, 'contradiction'], [17, 'neutral'], [18, 'contradiction'], [19, 'neutral'], [20, 'contradiction'], [21, 'neutral'], [22, 'neutral'], [23, 'entailment'], [24, 'contradiction'], [25, 'contradiction'], [26, 'entailment'], [27, 'entailment'], [28, 'entailment'], [29, 'neutral'], [30, 'contradiction'], [31, 'entailment'], [32, 'contradiction'], [33, 'neutral'], [34, 'neutral'], [35, 'contradiction'], [36, 'neutral'], [37, 'contradiction'], [38, 'entailment'], [39, 'contradiction'], [40, 'neutral'], [41, 'entailment'], [42, 'contradiction'], [43, 'neutral'], [44, 'neutral'], [45, 'contradiction'], [46, 'neutral'], [47, 'entailment'], [48, 'contradiction'], [49, 'entailment'], [50, 'neutral'], [51, 'contradiction'], [52, 'entailment'], [53, 'neutral'], [54, 'neutral'], [55, 'entailment'], [56, 'neutral'], [57, 'neutral'], [58, 'entailment'], [59, 'neutral'], [60, 'entailment'], [61, 'neutral'], [62, 'neutral'], [63, 'neutral'], [64, 'neutral'], [65, 'contradiction'], [66, 'neutral'], [67, 'neutral'], [68, 'contradiction'], [69, 'contradiction'], [70, 'entailment'], [71, 'neutral'], [72, 'entailment'], [73, 'contradiction'], [74, 'neutral'], [75, 'neutral'], [76, 'entailment'], [77, 'neutral'], [78, 'neutral'], [79, 'contradiction'], [80, 'neutral'], [81, 'contradiction'], [82, 'contradiction'], [83, 'contradiction'], [84, 'entailment'], [85, 'contradiction'], [86, 'neutral'], [87, 'contradiction'], [88, 'entailment'], [89, 'neutral'], [90, 'contradiction'], [91, 'neutral'], [92, 'entailment'], [93, 'contradiction'], [94, 'entailment'], [95, 'neutral'], [96, 'contradiction'], [97, 'contradiction'], [98, 'contradiction'], [99, 'neutral'], [100, 'neutral'], [101, 'entailment'], [102, 'neutral'], [103, 'entailment'], [104, 'neutral'], [105, 'entailment'], [106, 'neutral'], [107, 'neutral'], [108, 'contradiction'], [109, 'entailment'], [110, 'contradiction'], [111, 'neutral'], [112, 'contradiction'], [113, 'entailment'], [114, 'neutral'], [115, 'contradiction'], [116, 'entailment'], [117, 'contradiction'], [118, 'contradiction'], [119, 'contradiction'], [120, 'contradiction'], [121, 'contradiction'], [122, 'contradiction'], [123, 'neutral'], [124, 'contradiction'], [125, 'entailment'], [126, 'entailment'], [127, 'entailment'], [128, 'contradiction'], [129, 'neutral'], [130, 'entailment'], [131, 'neutral'], [132, 'contradiction'], [133, 'entailment'], [134, 'neutral'], [135, 'entailment'], [136, 'contradiction'], [137, 'neutral'], [138, 'contradiction'], [139, 'contradiction'], [140, 'neutral'], [141, 'neutral'], [142, 'contradiction'], [143, 'entailment'], [144, 'neutral'], [145, 'contradiction'], [146, 'entailment'], [147, 'contradiction'], [148, 'neutral'], [149, 'neutral'], [150, 'contradiction'], [151, 'entailment'], [152, 'contradiction'], [153, 'neutral'], [154, 'entailment'], [155, 'entailment'], [156, 'entailment'], [157, 'neutral'], [158, 'contradiction'], [159, 'neutral'], [160, 'neutral'], [161, 'entailment'], [162, 'neutral'], [163, 'entailment'], [164, 'neutral'], [165, 'contradiction'], [166, 'neutral'], [167, 'entailment'], [168, 'neutral'], [169, 'entailment'], [170, 'neutral'], [171, 'neutral'], [172, 'contradiction'], [173, 'neutral'], [174, 'contradiction'], [175, 'neutral'], [176, 'neutral'], [177, 'neutral'], [178, 'contradiction'], [179, 'neutral'], [180, 'entailment'], [181, 'neutral'], [182, 'neutral'], [183, 'neutral'], [184, 'entailment'], [185, 'contradiction'], [186, 'contradiction'], [187, 'neutral'], [188, 'entailment'], [189, 'neutral'], [190, 'neutral'], [191, 'entailment'], [192, 'contradiction'], [193, 'neutral'], [194, 'neutral'], [195, 'entailment'], [196, 'entailment'], [197, 'neutral'], [198, 'contradiction'], [199, 'neutral'], [200, 'neutral'], [201, 'neutral'], [202, 'entailment'], [203, 'contradiction'], [204, 'contradiction'], [205, 'entailment'], [206, 'neutral'], [207, 'neutral'], [208, 'entailment'], [209, 'neutral'], [210, 'contradiction'], [211, 'contradiction'], [212, 'contradiction'], [213, 'neutral'], [214, 'neutral'], [215, 'contradiction'], [216, 'contradiction'], [217, 'entailment'], [218, 'contradiction'], [219, 'contradiction'], [220, 'neutral'], [221, 'neutral'], [222, 'entailment'], [223, 'contradiction'], [224, 'neutral'], [225, 'neutral'], [226, 'contradiction'], [227, 'neutral'], [228, 'contradiction'], [229, 'contradiction'], [230, 'entailment'], [231, 'neutral'], [232, 'contradiction'], [233, 'entailment'], [234, 'entailment'], [235, 'neutral'], [236, 'neutral'], [237, 'contradiction'], [238, 'entailment'], [239, 'entailment'], [240, 'entailment'], [241, 'contradiction'], [242, 'neutral'], [243, 'neutral'], [244, 'neutral'], [245, 'entailment'], [246, 'neutral'], [247, 'neutral'], [248, 'contradiction'], [249, 'contradiction'], [250, 'entailment'], [251, 'contradiction'], [252, 'neutral'], [253, 'entailment'], [254, 'contradiction'], [255, 'neutral'], [256, 'contradiction'], [257, 'neutral'], [258, 'entailment'], [259, 'entailment'], [260, 'entailment'], [261, 'entailment'], [262, 'contradiction'], [263, 'neutral'], [264, 'neutral'], [265, 'neutral'], [266, 'contradiction'], [267, 'neutral'], [268, 'contradiction'], [269, 'entailment'], [270, 'neutral'], [271, 'neutral'], [272, 'entailment'], [273, 'entailment'], [274, 'entailment'], [275, 'contradiction'], [276, 'contradiction'], [277, 'contradiction'], [278, 'neutral'], [279, 'neutral'], [280, 'neutral'], [281, 'neutral'], [282, 'entailment'], [283, 'entailment'], [284, 'contradiction'], [285, 'entailment'], [286, 'neutral'], [287, 'contradiction'], [288, 'entailment'], [289, 'neutral'], [290, 'entailment'], [291, 'contradiction'], [292, 'entailment'], [293, 'neutral'], [294, 'entailment'], [295, 'contradiction'], [296, 'contradiction'], [297, 'contradiction'], [298, 'neutral'], [299, 'entailment'], [300, 'neutral'], [301, 'entailment'], [302, 'neutral'], [303, 'entailment'], [304, 'contradiction'], [305, 'entailment'], [306, 'neutral'], [307, 'contradiction'], [308, 'entailment'], [309, 'entailment'], [310, 'neutral'], [311, 'contradiction'], [312, 'contradiction'], [313, 'neutral'], [314, 'neutral'], [315, 'neutral'], [316, 'neutral'], [317, 'neutral'], [318, 'entailment'], [319, 'entailment'], [320, 'entailment'], [321, 'neutral'], [322, 'neutral'], [323, 'entailment'], [324, 'contradiction'], [325, 'neutral'], [326, 'contradiction'], [327, 'neutral'], [328, 'contradiction'], [329, 'contradiction'], [330, 'neutral'], [331, 'entailment'], [332, 'entailment'], [333, 'contradiction'], [334, 'contradiction'], [335, 'contradiction'], [336, 'neutral'], [337, 'contradiction'], [338, 'contradiction'], [339, 'neutral'], [340, 'contradiction'], [341, 'neutral'], [342, 'neutral'], [343, 'contradiction'], [344, 'neutral'], [345, 'neutral'], [346, 'contradiction'], [347, 'contradiction'], [348, 'contradiction'], [349, 'neutral'], [350, 'contradiction'], [351, 'neutral'], [352, 'contradiction'], [353, 'entailment'], [354, 'neutral'], [355, 'contradiction'], [356, 'neutral'], [357, 'entailment'], [358, 'contradiction'], [359, 'neutral'], [360, 'contradiction'], [361, 'contradiction'], [362, 'contradiction'], [363, 'neutral'], [364, 'contradiction'], [365, 'neutral'], [366, 'neutral'], [367, 'entailment'], [368, 'contradiction'], [369, 'neutral'], [370, 'contradiction'], [371, 'contradiction'], [372, 'entailment'], [373, 'neutral'], [374, 'neutral'], [375, 'entailment'], [376, 'entailment'], [377, 'neutral'], [378, 'entailment'], [379, 'entailment'], [380, 'entailment'], [381, 'neutral'], [382, 'contradiction'], [383, 'neutral'], [384, 'entailment'], [385, 'neutral'], [386, 'entailment'], [387, 'neutral'], [388, 'neutral'], [389, 'neutral'], [390, 'neutral'], [391, 'entailment'], [392, 'contradiction'], [393, 'neutral'], [394, 'contradiction'], [395, 'contradiction'], [396, 'entailment'], [397, 'neutral'], [398, 'contradiction'], [399, 'neutral'], [400, 'contradiction'], [401, 'neutral'], [402, 'contradiction'], [403, 'contradiction'], [404, 'entailment'], [405, 'neutral'], [406, 'entailment'], [407, 'neutral'], [408, 'contradiction'], [409, 'neutral'], [410, 'contradiction'], [411, 'contradiction'], [412, 'contradiction'], [413, 'contradiction'], [414, 'neutral'], [415, 'contradiction'], [416, 'contradiction'], [417, 'entailment'], [418, 'neutral'], [419, 'contradiction'], [420, 'neutral'], [421, 'neutral'], [422, 'entailment'], [423, 'neutral'], [424, 'entailment'], [425, 'neutral'], [426, 'neutral'], [427, 'contradiction'], [428, 'contradiction'], [429, 'contradiction'], [430, 'entailment'], [431, 'neutral'], [432, 'contradiction'], [433, 'neutral'], [434, 'entailment'], [435, 'neutral'], [436, 'entailment'], [437, 'entailment'], [438, 'entailment'], [439, 'entailment'], [440, 'entailment'], [441, 'entailment'], [442, 'entailment'], [443, 'neutral'], [444, 'contradiction'], [445, 'neutral'], [446, 'neutral'], [447, 'entailment'], [448, 'contradiction'], [449, 'contradiction'], [450, 'contradiction'], [451, 'entailment'], [452, 'entailment'], [453, 'contradiction'], [454, 'contradiction'], [455, 'entailment'], [456, 'neutral'], [457, 'contradiction'], [458, 'entailment'], [459, 'contradiction'], [460, 'entailment'], [461, 'entailment'], [462, 'contradiction'], [463, 'neutral'], [464, 'neutral'], [465, 'contradiction'], [466, 'contradiction'], [467, 'neutral'], [468, 'entailment'], [469, 'neutral'], [470, 'contradiction'], [471, 'neutral'], [472, 'entailment'], [473, 'entailment'], [474, 'entailment'], [475, 'neutral'], [476, 'entailment'], [477, 'contradiction'], [478, 'neutral'], [479, 'contradiction'], [480, 'neutral'], [481, 'entailment'], [482, 'entailment'], [483, 'entailment'], [484, 'neutral'], [485, 'contradiction'], [486, 'entailment'], [487, 'neutral'], [488, 'contradiction'], [489, 'entailment'], [490, 'entailment'], [491, 'neutral'], [492, 'neutral'], [493, 'contradiction'], [494, 'entailment'], [495, 'contradiction'], [496, 'entailment'], [497, 'neutral'], [498, 'neutral'], [499, 'entailment'], [500, 'entailment'], [501, 'entailment'], [502, 'neutral'], [503, 'contradiction'], [504, 'neutral'], [505, 'entailment'], [506, 'neutral'], [507, 'entailment'], [508, 'entailment'], [509, 'contradiction'], [510, 'neutral'], [511, 'contradiction'], [512, 'entailment'], [513, 'entailment'], [514, 'entailment'], [515, 'contradiction'], [516, 'entailment'], [517, 'entailment'], [518, 'contradiction'], [519, 'neutral'], [520, 'neutral'], [521, 'neutral'], [522, 'contradiction'], [523, 'neutral'], [524, 'neutral'], [525, 'contradiction'], [526, 'contradiction'], [527, 'entailment'], [528, 'contradiction'], [529, 'entailment'], [530, 'contradiction'], [531, 'neutral'], [532, 'contradiction'], [533, 'neutral'], [534, 'neutral'], [535, 'contradiction'], [536, 'contradiction'], [537, 'contradiction'], [538, 'neutral'], [539, 'neutral'], [540, 'neutral'], [541, 'contradiction'], [542, 'contradiction'], [543, 'entailment'], [544, 'contradiction'], [545, 'neutral'], [546, 'contradiction'], [547, 'entailment'], [548, 'neutral'], [549, 'entailment'], [550, 'neutral'], [551, 'contradiction'], [552, 'entailment'], [553, 'entailment'], [554, 'entailment'], [555, 'neutral'], [556, 'entailment'], [557, 'neutral'], [558, 'neutral'], [559, 'neutral'], [560, 'contradiction'], [561, 'contradiction'], [562, 'neutral'], [563, 'neutral'], [564, 'entailment'], [565, 'neutral'], [566, 'entailment'], [567, 'entailment'], [568, 'neutral'], [569, 'contradiction'], [570, 'entailment'], [571, 'entailment'], [572, 'entailment'], [573, 'contradiction'], [574, 'entailment'], [575, 'contradiction'], [576, 'entailment'], [577, 'neutral'], [578, 'contradiction'], [579, 'contradiction'], [580, 'entailment'], [581, 'entailment'], [582, 'entailment'], [583, 'neutral'], [584, 'entailment'], [585, 'entailment'], [586, 'neutral'], [587, 'entailment'], [588, 'contradiction'], [589, 'entailment'], [590, 'entailment'], [591, 'entailment'], [592, 'contradiction'], [593, 'entailment'], [594, 'contradiction'], [595, 'contradiction'], [596, 'contradiction'], [597, 'neutral'], [598, 'entailment'], [599, 'entailment'], [600, 'contradiction'], [601, 'neutral'], [602, 'neutral'], [603, 'entailment'], [604, 'neutral'], [605, 'neutral'], [606, 'contradiction'], [607, 'contradiction'], [608, 'contradiction'], [609, 'contradiction'], [610, 'contradiction'], [611, 'neutral'], [612, 'neutral'], [613, 'entailment'], [614, 'neutral'], [615, 'contradiction'], [616, 'neutral'], [617, 'neutral'], [618, 'contradiction'], [619, 'neutral'], [620, 'contradiction'], [621, 'neutral'], [622, 'entailment'], [623, 'contradiction'], [624, 'entailment'], [625, 'contradiction'], [626, 'contradiction'], [627, 'contradiction'], [628, 'neutral'], [629, 'entailment'], [630, 'contradiction'], [631, 'neutral'], [632, 'neutral'], [633, 'entailment'], [634, 'neutral'], [635, 'entailment'], [636, 'contradiction'], [637, 'entailment'], [638, 'entailment'], [639, 'neutral'], [640, 'contradiction'], [641, 'entailment'], [642, 'neutral'], [643, 'entailment'], [644, 'neutral'], [645, 'entailment'], [646, 'neutral'], [647, 'contradiction'], [648, 'contradiction'], [649, 'neutral'], [650, 'entailment'], [651, 'contradiction'], [652, 'contradiction'], [653, 'neutral'], [654, 'neutral'], [655, 'neutral'], [656, 'entailment'], [657, 'contradiction'], [658, 'entailment'], [659, 'contradiction'], [660, 'neutral'], [661, 'contradiction'], [662, 'neutral'], [663, 'neutral'], [664, 'neutral'], [665, 'contradiction'], [666, 'neutral'], [667, 'neutral'], [668, 'neutral'], [669, 'neutral'], [670, 'neutral'], [671, 'neutral'], [672, 'neutral'], [673, 'contradiction'], [674, 'neutral'], [675, 'entailment'], [676, 'neutral'], [677, 'neutral'], [678, 'contradiction'], [679, 'neutral'], [680, 'neutral'], [681, 'contradiction'], [682, 'entailment'], [683, 'contradiction'], [684, 'neutral'], [685, 'contradiction'], [686, 'entailment'], [687, 'contradiction'], [688, 'contradiction'], [689, 'entailment'], [690, 'neutral'], [691, 'entailment'], [692, 'entailment'], [693, 'neutral'], [694, 'entailment'], [695, 'contradiction'], [696, 'entailment'], [697, 'contradiction'], [698, 'neutral'], [699, 'entailment'], [700, 'neutral'], [701, 'entailment'], [702, 'entailment'], [703, 'neutral'], [704, 'entailment'], [705, 'entailment'], [706, 'contradiction'], [707, 'contradiction'], [708, 'neutral'], [709, 'contradiction'], [710, 'neutral'], [711, 'entailment'], [712, 'neutral'], [713, 'entailment'], [714, 'entailment'], [715, 'entailment'], [716, 'neutral'], [717, 'neutral'], [718, 'neutral'], [719, 'entailment'], [720, 'entailment'], [721, 'neutral'], [722, 'neutral'], [723, 'neutral'], [724, 'neutral'], [725, 'contradiction'], [726, 'neutral'], [727, 'contradiction'], [728, 'contradiction'], [729, 'entailment'], [730, 'entailment'], [731, 'neutral'], [732, 'entailment'], [733, 'neutral'], [734, 'entailment'], [735, 'neutral'], [736, 'entailment'], [737, 'neutral'], [738, 'neutral'], [739, 'entailment'], [740, 'neutral'], [741, 'entailment'], [742, 'entailment'], [743, 'entailment'], [744, 'neutral'], [745, 'neutral'], [746, 'neutral'], [747, 'contradiction'], [748, 'neutral'], [749, 'contradiction'], [750, 'neutral'], [751, 'contradiction'], [752, 'neutral'], [753, 'entailment'], [754, 'entailment'], [755, 'neutral'], [756, 'entailment'], [757, 'contradiction'], [758, 'neutral'], [759, 'neutral'], [760, 'entailment'], [761, 'neutral'], [762, 'entailment'], [763, 'contradiction'], [764, 'neutral'], [765, 'entailment'], [766, 'neutral'], [767, 'entailment'], [768, 'contradiction'], [769, 'neutral'], [770, 'contradiction'], [771, 'neutral'], [772, 'entailment'], [773, 'entailment'], [774, 'neutral'], [775, 'neutral'], [776, 'contradiction'], [777, 'entailment'], [778, 'neutral'], [779, 'neutral'], [780, 'entailment'], [781, 'neutral'], [782, 'contradiction'], [783, 'neutral'], [784, 'entailment'], [785, 'neutral'], [786, 'contradiction'], [787, 'neutral'], [788, 'entailment'], [789, 'contradiction'], [790, 'entailment'], [791, 'contradiction'], [792, 'entailment'], [793, 'neutral'], [794, 'neutral'], [795, 'entailment'], [796, 'contradiction'], [797, 'entailment'], [798, 'entailment'], [799, 'neutral'], [800, 'entailment'], [801, 'contradiction'], [802, 'entailment'], [803, 'neutral'], [804, 'contradiction'], [805, 'contradiction'], [806, 'entailment'], [807, 'neutral'], [808, 'contradiction'], [809, 'contradiction'], [810, 'entailment'], [811, 'contradiction'], [812, 'neutral'], [813, 'neutral'], [814, 'neutral'], [815, 'neutral'], [816, 'neutral'], [817, 'neutral'], [818, 'neutral'], [819, 'entailment'], [820, 'neutral'], [821, 'neutral'], [822, 'neutral'], [823, 'neutral'], [824, 'entailment'], [825, 'neutral'], [826, 'contradiction'], [827, 'neutral'], [828, 'contradiction'], [829, 'entailment'], [830, 'entailment'], [831, 'contradiction'], [832, 'contradiction'], [833, 'entailment'], [834, 'neutral'], [835, 'contradiction'], [836, 'neutral'], [837, 'contradiction'], [838, 'neutral'], [839, 'contradiction'], [840, 'neutral'], [841, 'neutral'], [842, 'contradiction'], [843, 'entailment'], [844, 'neutral'], [845, 'neutral'], [846, 'contradiction'], [847, 'contradiction'], [848, 'entailment'], [849, 'neutral'], [850, 'neutral'], [851, 'contradiction'], [852, 'entailment'], [853, 'neutral'], [854, 'contradiction'], [855, 'entailment'], [856, 'entailment'], [857, 'neutral'], [858, 'contradiction'], [859, 'entailment'], [860, 'contradiction'], [861, 'entailment'], [862, 'neutral'], [863, 'neutral'], [864, 'neutral'], [865, 'entailment'], [866, 'entailment'], [867, 'neutral'], [868, 'contradiction'], [869, 'neutral'], [870, 'contradiction'], [871, 'neutral'], [872, 'entailment'], [873, 'neutral'], [874, 'neutral'], [875, 'neutral'], [876, 'entailment'], [877, 'contradiction'], [878, 'neutral'], [879, 'neutral'], [880, 'neutral'], [881, 'neutral'], [882, 'entailment'], [883, 'entailment'], [884, 'entailment'], [885, 'contradiction'], [886, 'neutral'], [887, 'neutral'], [888, 'entailment'], [889, 'neutral'], [890, 'contradiction'], [891, 'contradiction'], [892, 'entailment'], [893, 'entailment'], [894, 'contradiction'], [895, 'neutral'], [896, 'entailment'], [897, 'neutral'], [898, 'entailment'], [899, 'neutral'], [900, 'neutral'], [901, 'contradiction'], [902, 'entailment'], [903, 'entailment'], [904, 'entailment'], [905, 'neutral'], [906, 'contradiction'], [907, 'contradiction'], [908, 'neutral'], [909, 'neutral'], [910, 'neutral'], [911, 'neutral'], [912, 'neutral'], [913, 'entailment'], [914, 'neutral'], [915, 'neutral'], [916, 'entailment'], [917, 'contradiction'], [918, 'neutral'], [919, 'entailment'], [920, 'neutral'], [921, 'entailment'], [922, 'entailment'], [923, 'contradiction'], [924, 'neutral'], [925, 'contradiction'], [926, 'entailment'], [927, 'entailment'], [928, 'entailment'], [929, 'entailment'], [930, 'neutral'], [931, 'entailment'], [932, 'neutral'], [933, 'neutral'], [934, 'contradiction'], [935, 'contradiction'], [936, 'entailment'], [937, 'neutral'], [938, 'entailment'], [939, 'contradiction'], [940, 'entailment'], [941, 'neutral'], [942, 'contradiction'], [943, 'contradiction'], [944, 'neutral'], [945, 'entailment'], [946, 'entailment'], [947, 'neutral'], [948, 'neutral'], [949, 'entailment'], [950, 'contradiction'], [951, 'neutral'], [952, 'contradiction'], [953, 'contradiction'], [954, 'contradiction'], [955, 'neutral'], [956, 'neutral'], [957, 'entailment'], [958, 'contradiction'], [959, 'contradiction'], [960, 'neutral'], [961, 'contradiction'], [962, 'contradiction'], [963, 'contradiction'], [964, 'entailment'], [965, 'neutral'], [966, 'neutral'], [967, 'entailment'], [968, 'entailment'], [969, 'contradiction'], [970, 'entailment'], [971, 'entailment'], [972, 'neutral'], [973, 'contradiction'], [974, 'contradiction'], [975, 'entailment'], [976, 'entailment'], [977, 'neutral'], [978, 'entailment'], [979, 'contradiction'], [980, 'entailment'], [981, 'neutral'], [982, 'entailment'], [983, 'contradiction'], [984, 'neutral'], [985, 'neutral'], [986, 'contradiction'], [987, 'contradiction'], [988, 'neutral'], [989, 'contradiction'], [990, 'entailment'], [991, 'entailment'], [992, 'neutral'], [993, 'contradiction'], [994, 'neutral'], [995, 'entailment'], [996, 'neutral'], [997, 'contradiction'], [998, 'contradiction'], [999, 'entailment'], [1000, 'entailment'], [1001, 'entailment'], [1002, 'entailment'], [1003, 'entailment'], [1004, 'neutral'], [1005, 'contradiction'], [1006, 'entailment'], [1007, 'entailment'], [1008, 'neutral'], [1009, 'neutral'], [1010, 'neutral'], [1011, 'entailment'], [1012, 'neutral'], [1013, 'contradiction'], [1014, 'neutral'], [1015, 'entailment'], [1016, 'entailment'], [1017, 'entailment'], [1018, 'contradiction'], [1019, 'contradiction'], [1020, 'entailment'], [1021, 'neutral'], [1022, 'neutral'], [1023, 'contradiction'], [1024, 'neutral'], [1025, 'entailment'], [1026, 'neutral'], [1027, 'neutral'], [1028, 'contradiction'], [1029, 'entailment'], [1030, 'entailment'], [1031, 'neutral'], [1032, 'entailment'], [1033, 'entailment'], [1034, 'neutral'], [1035, 'contradiction'], [1036, 'neutral'], [1037, 'contradiction'], [1038, 'contradiction'], [1039, 'contradiction'], [1040, 'entailment'], [1041, 'neutral'], [1042, 'contradiction'], [1043, 'entailment'], [1044, 'contradiction'], [1045, 'neutral'], [1046, 'neutral'], [1047, 'neutral'], [1048, 'entailment'], [1049, 'contradiction'], [1050, 'entailment'], [1051, 'contradiction'], [1052, 'entailment'], [1053, 'entailment'], [1054, 'neutral'], [1055, 'entailment'], [1056, 'contradiction'], [1057, 'neutral'], [1058, 'neutral'], [1059, 'neutral'], [1060, 'neutral'], [1061, 'contradiction'], [1062, 'contradiction'], [1063, 'entailment'], [1064, 'entailment'], [1065, 'neutral'], [1066, 'entailment'], [1067, 'entailment'], [1068, 'entailment'], [1069, 'neutral'], [1070, 'entailment'], [1071, 'entailment'], [1072, 'neutral'], [1073, 'neutral'], [1074, 'entailment'], [1075, 'contradiction'], [1076, 'entailment'], [1077, 'neutral'], [1078, 'contradiction'], [1079, 'entailment'], [1080, 'neutral'], [1081, 'neutral'], [1082, 'contradiction'], [1083, 'contradiction'], [1084, 'contradiction'], [1085, 'contradiction'], [1086, 'neutral'], [1087, 'neutral'], [1088, 'contradiction'], [1089, 'neutral'], [1090, 'entailment'], [1091, 'neutral'], [1092, 'contradiction'], [1093, 'neutral'], [1094, 'neutral'], [1095, 'neutral'], [1096, 'entailment'], [1097, 'neutral'], [1098, 'neutral'], [1099, 'contradiction'], [1100, 'entailment'], [1101, 'contradiction'], [1102, 'contradiction'], [1103, 'entailment'], [1104, 'entailment'], [1105, 'entailment'], [1106, 'contradiction'], [1107, 'contradiction'], [1108, 'entailment'], [1109, 'entailment'], [1110, 'contradiction'], [1111, 'contradiction'], [1112, 'contradiction'], [1113, 'contradiction'], [1114, 'neutral'], [1115, 'neutral'], [1116, 'neutral'], [1117, 'entailment'], [1118, 'entailment'], [1119, 'contradiction'], [1120, 'neutral'], [1121, 'neutral'], [1122, 'neutral'], [1123, 'contradiction'], [1124, 'neutral'], [1125, 'neutral'], [1126, 'entailment'], [1127, 'entailment'], [1128, 'entailment'], [1129, 'contradiction'], [1130, 'entailment'], [1131, 'entailment'], [1132, 'neutral'], [1133, 'contradiction'], [1134, 'contradiction'], [1135, 'contradiction'], [1136, 'contradiction'], [1137, 'contradiction'], [1138, 'contradiction'], [1139, 'entailment'], [1140, 'neutral'], [1141, 'contradiction'], [1142, 'contradiction'], [1143, 'contradiction'], [1144, 'entailment'], [1145, 'neutral'], [1146, 'entailment'], [1147, 'contradiction'], [1148, 'entailment'], [1149, 'contradiction'], [1150, 'entailment'], [1151, 'contradiction'], [1152, 'neutral'], [1153, 'entailment'], [1154, 'neutral'], [1155, 'neutral'], [1156, 'neutral'], [1157, 'entailment'], [1158, 'neutral'], [1159, 'neutral'], [1160, 'entailment'], [1161, 'contradiction'], [1162, 'contradiction'], [1163, 'neutral'], [1164, 'neutral'], [1165, 'entailment'], [1166, 'neutral'], [1167, 'entailment'], [1168, 'neutral'], [1169, 'neutral'], [1170, 'contradiction'], [1171, 'neutral'], [1172, 'contradiction'], [1173, 'neutral'], [1174, 'neutral'], [1175, 'entailment'], [1176, 'neutral'], [1177, 'entailment'], [1178, 'neutral'], [1179, 'contradiction'], [1180, 'contradiction'], [1181, 'entailment'], [1182, 'contradiction'], [1183, 'neutral'], [1184, 'contradiction'], [1185, 'neutral'], [1186, 'neutral'], [1187, 'neutral'], [1188, 'neutral'], [1189, 'contradiction'], [1190, 'entailment'], [1191, 'entailment'], [1192, 'contradiction'], [1193, 'neutral'], [1194, 'entailment'], [1195, 'entailment'], [1196, 'contradiction'], [1197, 'neutral'], [1198, 'contradiction'], [1199, 'neutral'], [1200, 'neutral'], [1201, 'neutral'], [1202, 'entailment'], [1203, 'neutral'], [1204, 'neutral'], [1205, 'neutral'], [1206, 'contradiction'], [1207, 'entailment'], [1208, 'contradiction'], [1209, 'contradiction'], [1210, 'neutral'], [1211, 'entailment'], [1212, 'entailment'], [1213, 'contradiction'], [1214, 'neutral'], [1215, 'contradiction'], [1216, 'neutral'], [1217, 'entailment'], [1218, 'neutral'], [1219, 'neutral'], [1220, 'neutral'], [1221, 'contradiction'], [1222, 'contradiction'], [1223, 'neutral'], [1224, 'entailment'], [1225, 'contradiction'], [1226, 'entailment'], [1227, 'entailment'], [1228, 'neutral'], [1229, 'neutral'], [1230, 'contradiction'], [1231, 'contradiction'], [1232, 'entailment'], [1233, 'neutral'], [1234, 'contradiction'], [1235, 'entailment'], [1236, 'entailment'], [1237, 'entailment'], [1238, 'entailment'], [1239, 'neutral'], [1240, 'neutral'], [1241, 'neutral'], [1242, 'neutral'], [1243, 'neutral'], [1244, 'entailment'], [1245, 'contradiction'], [1246, 'contradiction'], [1247, 'entailment'], [1248, 'neutral'], [1249, 'entailment'], [1250, 'neutral'], [1251, 'entailment'], [1252, 'neutral'], [1253, 'contradiction'], [1254, 'neutral'], [1255, 'contradiction'], [1256, 'entailment'], [1257, 'entailment'], [1258, 'contradiction'], [1259, 'entailment'], [1260, 'neutral'], [1261, 'entailment'], [1262, 'entailment'], [1263, 'neutral'], [1264, 'neutral'], [1265, 'neutral'], [1266, 'entailment'], [1267, 'contradiction'], [1268, 'contradiction'], [1269, 'contradiction'], [1270, 'entailment'], [1271, 'entailment'], [1272, 'contradiction'], [1273, 'entailment'], [1274, 'contradiction'], [1275, 'neutral'], [1276, 'neutral'], [1277, 'entailment'], [1278, 'contradiction'], [1279, 'entailment'], [1280, 'contradiction'], [1281, 'entailment'], [1282, 'contradiction'], [1283, 'entailment'], [1284, 'neutral'], [1285, 'entailment'], [1286, 'contradiction'], [1287, 'neutral'], [1288, 'entailment'], [1289, 'neutral'], [1290, 'neutral'], [1291, 'neutral'], [1292, 'neutral'], [1293, 'neutral'], [1294, 'neutral'], [1295, 'contradiction'], [1296, 'contradiction'], [1297, 'neutral'], [1298, 'contradiction'], [1299, 'neutral'], [1300, 'contradiction'], [1301, 'neutral'], [1302, 'entailment'], [1303, 'neutral'], [1304, 'neutral'], [1305, 'neutral'], [1306, 'entailment'], [1307, 'neutral'], [1308, 'entailment'], [1309, 'contradiction'], [1310, 'neutral'], [1311, 'contradiction'], [1312, 'neutral'], [1313, 'neutral'], [1314, 'entailment'], [1315, 'neutral'], [1316, 'neutral'], [1317, 'entailment'], [1318, 'neutral'], [1319, 'contradiction'], [1320, 'contradiction'], [1321, 'entailment'], [1322, 'neutral'], [1323, 'contradiction'], [1324, 'contradiction'], [1325, 'neutral'], [1326, 'entailment'], [1327, 'neutral'], [1328, 'neutral'], [1329, 'contradiction'], [1330, 'neutral'], [1331, 'neutral'], [1332, 'contradiction'], [1333, 'neutral'], [1334, 'contradiction'], [1335, 'neutral'], [1336, 'neutral'], [1337, 'neutral'], [1338, 'entailment'], [1339, 'neutral'], [1340, 'neutral'], [1341, 'contradiction'], [1342, 'entailment'], [1343, 'neutral'], [1344, 'neutral'], [1345, 'neutral'], [1346, 'contradiction'], [1347, 'contradiction'], [1348, 'entailment'], [1349, 'neutral'], [1350, 'neutral'], [1351, 'neutral'], [1352, 'neutral'], [1353, 'entailment'], [1354, 'neutral'], [1355, 'contradiction'], [1356, 'contradiction'], [1357, 'contradiction'], [1358, 'entailment'], [1359, 'neutral'], [1360, 'neutral'], [1361, 'contradiction'], [1362, 'neutral'], [1363, 'neutral'], [1364, 'neutral'], [1365, 'neutral'], [1366, 'contradiction'], [1367, 'contradiction'], [1368, 'entailment'], [1369, 'entailment'], [1370, 'neutral'], [1371, 'contradiction'], [1372, 'neutral'], [1373, 'contradiction'], [1374, 'neutral'], [1375, 'neutral'], [1376, 'neutral'], [1377, 'contradiction'], [1378, 'entailment'], [1379, 'neutral'], [1380, 'contradiction'], [1381, 'contradiction'], [1382, 'neutral'], [1383, 'entailment'], [1384, 'contradiction'], [1385, 'entailment'], [1386, 'entailment'], [1387, 'contradiction'], [1388, 'neutral'], [1389, 'contradiction'], [1390, 'entailment'], [1391, 'neutral'], [1392, 'neutral'], [1393, 'entailment'], [1394, 'entailment'], [1395, 'neutral'], [1396, 'entailment'], [1397, 'entailment'], [1398, 'entailment'], [1399, 'neutral'], [1400, 'neutral'], [1401, 'neutral'], [1402, 'entailment'], [1403, 'entailment'], [1404, 'entailment'], [1405, 'contradiction'], [1406, 'entailment'], [1407, 'neutral'], [1408, 'contradiction'], [1409, 'contradiction'], [1410, 'contradiction'], [1411, 'neutral'], [1412, 'neutral'], [1413, 'entailment'], [1414, 'neutral'], [1415, 'neutral'], [1416, 'neutral'], [1417, 'contradiction'], [1418, 'entailment'], [1419, 'entailment'], [1420, 'entailment'], [1421, 'entailment'], [1422, 'contradiction'], [1423, 'entailment'], [1424, 'contradiction'], [1425, 'entailment'], [1426, 'entailment'], [1427, 'contradiction'], [1428, 'neutral'], [1429, 'neutral'], [1430, 'entailment'], [1431, 'neutral'], [1432, 'neutral'], [1433, 'entailment'], [1434, 'neutral'], [1435, 'neutral'], [1436, 'entailment'], [1437, 'entailment'], [1438, 'neutral'], [1439, 'contradiction'], [1440, 'neutral'], [1441, 'entailment'], [1442, 'contradiction'], [1443, 'entailment'], [1444, 'neutral'], [1445, 'contradiction'], [1446, 'contradiction'], [1447, 'neutral'], [1448, 'contradiction'], [1449, 'entailment'], [1450, 'entailment'], [1451, 'neutral'], [1452, 'entailment'], [1453, 'contradiction'], [1454, 'entailment'], [1455, 'contradiction'], [1456, 'contradiction'], [1457, 'neutral'], [1458, 'contradiction'], [1459, 'neutral'], [1460, 'contradiction'], [1461, 'neutral'], [1462, 'contradiction'], [1463, 'entailment'], [1464, 'entailment'], [1465, 'contradiction'], [1466, 'contradiction'], [1467, 'neutral'], [1468, 'neutral'], [1469, 'contradiction'], [1470, 'entailment'], [1471, 'contradiction'], [1472, 'neutral'], [1473, 'contradiction'], [1474, 'entailment'], [1475, 'neutral'], [1476, 'neutral'], [1477, 'entailment'], [1478, 'contradiction'], [1479, 'contradiction'], [1480, 'contradiction'], [1481, 'contradiction'], [1482, 'contradiction'], [1483, 'neutral'], [1484, 'entailment'], [1485, 'neutral'], [1486, 'neutral'], [1487, 'contradiction'], [1488, 'contradiction'], [1489, 'entailment'], [1490, 'neutral'], [1491, 'entailment'], [1492, 'neutral'], [1493, 'neutral'], [1494, 'neutral'], [1495, 'entailment'], [1496, 'contradiction'], [1497, 'contradiction'], [1498, 'contradiction'], [1499, 'contradiction'], [1500, 'contradiction'], [1501, 'entailment'], [1502, 'entailment'], [1503, 'entailment'], [1504, 'contradiction'], [1505, 'entailment'], [1506, 'entailment'], [1507, 'contradiction'], [1508, 'neutral'], [1509, 'neutral'], [1510, 'entailment'], [1511, 'contradiction'], [1512, 'contradiction'], [1513, 'neutral'], [1514, 'contradiction'], [1515, 'contradiction'], [1516, 'entailment'], [1517, 'neutral'], [1518, 'contradiction'], [1519, 'contradiction'], [1520, 'entailment'], [1521, 'contradiction'], [1522, 'neutral'], [1523, 'entailment'], [1524, 'contradiction'], [1525, 'neutral'], [1526, 'contradiction'], [1527, 'neutral'], [1528, 'neutral'], [1529, 'contradiction'], [1530, 'neutral'], [1531, 'entailment'], [1532, 'contradiction'], [1533, 'contradiction'], [1534, 'neutral'], [1535, 'contradiction'], [1536, 'neutral'], [1537, 'entailment'], [1538, 'entailment'], [1539, 'neutral'], [1540, 'contradiction'], [1541, 'contradiction'], [1542, 'neutral'], [1543, 'neutral'], [1544, 'neutral'], [1545, 'neutral'], [1546, 'neutral'], [1547, 'neutral'], [1548, 'neutral'], [1549, 'neutral'], [1550, 'contradiction'], [1551, 'entailment'], [1552, 'neutral'], [1553, 'neutral'], [1554, 'neutral'], [1555, 'neutral'], [1556, 'entailment'], [1557, 'neutral'], [1558, 'entailment'], [1559, 'entailment'], [1560, 'neutral'], [1561, 'entailment'], [1562, 'neutral'], [1563, 'neutral'], [1564, 'contradiction'], [1565, 'entailment'], [1566, 'contradiction'], [1567, 'entailment'], [1568, 'entailment'], [1569, 'contradiction'], [1570, 'entailment'], [1571, 'contradiction'], [1572, 'entailment'], [1573, 'contradiction'], [1574, 'contradiction'], [1575, 'contradiction'], [1576, 'neutral'], [1577, 'contradiction'], [1578, 'contradiction'], [1579, 'entailment'], [1580, 'neutral'], [1581, 'neutral'], [1582, 'contradiction'], [1583, 'entailment'], [1584, 'neutral'], [1585, 'neutral'], [1586, 'neutral'], [1587, 'neutral'], [1588, 'entailment'], [1589, 'entailment'], [1590, 'entailment'], [1591, 'neutral'], [1592, 'contradiction'], [1593, 'entailment'], [1594, 'neutral'], [1595, 'neutral'], [1596, 'entailment'], [1597, 'entailment'], [1598, 'neutral'], [1599, 'neutral'], [1600, 'contradiction'], [1601, 'contradiction'], [1602, 'contradiction'], [1603, 'neutral'], [1604, 'entailment'], [1605, 'neutral'], [1606, 'entailment'], [1607, 'entailment'], [1608, 'contradiction'], [1609, 'entailment'], [1610, 'neutral'], [1611, 'neutral'], [1612, 'entailment'], [1613, 'neutral'], [1614, 'entailment'], [1615, 'contradiction'], [1616, 'neutral'], [1617, 'contradiction'], [1618, 'neutral'], [1619, 'contradiction'], [1620, 'neutral'], [1621, 'contradiction'], [1622, 'contradiction'], [1623, 'neutral'], [1624, 'contradiction'], [1625, 'neutral'], [1626, 'neutral'], [1627, 'contradiction'], [1628, 'contradiction'], [1629, 'neutral'], [1630, 'contradiction'], [1631, 'entailment'], [1632, 'entailment'], [1633, 'neutral'], [1634, 'neutral'], [1635, 'neutral'], [1636, 'entailment'], [1637, 'contradiction'], [1638, 'entailment'], [1639, 'entailment'], [1640, 'entailment'], [1641, 'contradiction'], [1642, 'entailment'], [1643, 'entailment'], [1644, 'contradiction'], [1645, 'neutral'], [1646, 'neutral'], [1647, 'neutral'], [1648, 'entailment'], [1649, 'contradiction'], [1650, 'contradiction'], [1651, 'entailment'], [1652, 'neutral'], [1653, 'contradiction'], [1654, 'contradiction'], [1655, 'entailment'], [1656, 'neutral'], [1657, 'contradiction'], [1658, 'neutral'], [1659, 'neutral'], [1660, 'entailment'], [1661, 'neutral'], [1662, 'entailment'], [1663, 'neutral'], [1664, 'neutral'], [1665, 'neutral']]\n"
          ]
        }
      ]
    },
    {
      "cell_type": "markdown",
      "source": [
        "#### **결과**"
      ],
      "metadata": {
        "id": "ey6_1GHSiH9a"
      }
    },
    {
      "cell_type": "code",
      "source": [
        "df = pd.DataFrame(answer, columns=['index', 'label'])\n",
        "df.to_csv('./result/submission.csv', index=False)\n",
        "\n",
        "print(df)"
      ],
      "metadata": {
        "colab": {
          "base_uri": "https://localhost:8080/"
        },
        "id": "yre9SoY2iHYJ",
        "outputId": "f835ee4b-9c4b-4557-e4e6-02fc95ec42de"
      },
      "execution_count": 41,
      "outputs": [
        {
          "output_type": "stream",
          "name": "stdout",
          "text": [
            "      index          label\n",
            "0         0  contradiction\n",
            "1         1        neutral\n",
            "2         2     entailment\n",
            "3         3  contradiction\n",
            "4         4     entailment\n",
            "...     ...            ...\n",
            "1661   1661        neutral\n",
            "1662   1662     entailment\n",
            "1663   1663        neutral\n",
            "1664   1664        neutral\n",
            "1665   1665        neutral\n",
            "\n",
            "[1666 rows x 2 columns]\n"
          ]
        }
      ]
    }
  ]
}
